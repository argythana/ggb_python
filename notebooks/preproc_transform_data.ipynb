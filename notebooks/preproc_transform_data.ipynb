{
 "cells": [
  {
   "cell_type": "markdown",
   "id": "eb1b29fe159d661",
   "metadata": {},
   "source": [
    "# Interactive Data validation and preparation file."
   ]
  },
  {
   "metadata": {
    "ExecuteTime": {
     "end_time": "2024-12-09T08:43:21.175718Z",
     "start_time": "2024-12-09T08:43:21.172645Z"
    }
   },
   "cell_type": "code",
   "source": [
    "# Todo: Refactor all translations process. Script to create dictionanries, dump to json, fuction to create english, french, greek data files."
   ],
   "id": "92972d8fbd53aa6b",
   "outputs": [],
   "execution_count": 39
  },
  {
   "cell_type": "code",
   "id": "cafe2daa4c73ac20",
   "metadata": {
    "ExecuteTime": {
     "end_time": "2024-12-09T08:43:21.202303Z",
     "start_time": "2024-12-09T08:43:21.199950Z"
    }
   },
   "source": [
    "import pandas as pd\n",
    "import numpy as np\n",
    "\n",
    "from parse_nace_codes import parse_nace_codes\n",
    "\n",
    "# Display numpy numbers with two decimal places\n",
    "np.set_printoptions(precision=2)\n",
    "\n",
    "# Display pandas numbers with two decimal places\n",
    "pd.set_option(\"display.float_format\", lambda x: \"%.2f\" % x)"
   ],
   "outputs": [],
   "execution_count": 40
  },
  {
   "cell_type": "code",
   "id": "73772dda7eac9af",
   "metadata": {
    "ExecuteTime": {
     "end_time": "2024-12-09T08:43:21.247769Z",
     "start_time": "2024-12-09T08:43:21.244912Z"
    }
   },
   "source": [
    "# Files location\n",
    "mis_file_path = \"../data/rrf_smrt_manuf_mis_granular_data.xlsx\"\n",
    "official_data_file_path = \"../data/rrf_smrt_manuf_funded_proposals_official_data.xlsx\""
   ],
   "outputs": [],
   "execution_count": 41
  },
  {
   "cell_type": "markdown",
   "id": "7e314652b14c0329",
   "metadata": {},
   "source": [
    "## Read Management Information System (MIS) data"
   ]
  },
  {
   "cell_type": "code",
   "id": "366ff6df96e326c1",
   "metadata": {
    "ExecuteTime": {
     "end_time": "2024-12-09T08:43:21.484421Z",
     "start_time": "2024-12-09T08:43:21.268758Z"
    }
   },
   "source": [
    "# Load MIS excel file\n",
    "with pd.ExcelFile(mis_file_path, engine=\"openpyxl\") as mis_excel_file:\n",
    "    # Get sheet names list\n",
    "    sheet_names = mis_excel_file.sheet_names\n",
    "\n",
    "    # Get sheets as dicts\n",
    "    mis_dfs = pd.read_excel(\n",
    "        mis_file_path,\n",
    "        sheet_name=sheet_names,\n",
    "        engine=\"openpyxl\",\n",
    "    )"
   ],
   "outputs": [],
   "execution_count": 42
  },
  {
   "cell_type": "code",
   "id": "8417cf8cdcec29be",
   "metadata": {
    "ExecuteTime": {
     "end_time": "2024-12-09T08:43:21.507369Z",
     "start_time": "2024-12-09T08:43:21.505083Z"
    }
   },
   "source": [
    "# Convert sheets dictionaries to dataframes\n",
    "mis_proposals_df = mis_dfs[sheet_names[0]]\n",
    "mis_sectors_df = mis_dfs[sheet_names[1]]"
   ],
   "outputs": [],
   "execution_count": 43
  },
  {
   "cell_type": "code",
   "id": "af29555e7950e55",
   "metadata": {
    "ExecuteTime": {
     "end_time": "2024-12-09T08:43:21.533621Z",
     "start_time": "2024-12-09T08:43:21.530248Z"
    }
   },
   "source": [
    "mis_proposals_df.columns"
   ],
   "outputs": [
    {
     "data": {
      "text/plain": [
       "Index(['Κωδικός Πρότασης', 'ΦΑΣΗ ΠΡΟΤΑΣΗΣ', 'Κατάσταση Αιτήματος',\n",
       "       'Τρέχουσα Κατάσταση Πρότασης', 'Επωνυμία Φορέα', 'Μέγεθος',\n",
       "       'Είδος Επιχείρησης', 'Περιφέρεια (unique)', 'ΠΕ (unique)',\n",
       "       'Συνολικός Προϋπολογισμός', 'Επιχορηγούμενος Προϋπολογισμός',\n",
       "       'Αιτούμενη Επιχορήγηση (ΔΔ)'],\n",
       "      dtype='object')"
      ]
     },
     "execution_count": 44,
     "metadata": {},
     "output_type": "execute_result"
    }
   ],
   "execution_count": 44
  },
  {
   "cell_type": "code",
   "id": "a9c06d5a419141c6",
   "metadata": {
    "ExecuteTime": {
     "end_time": "2024-12-09T08:43:21.560137Z",
     "start_time": "2024-12-09T08:43:21.557420Z"
    }
   },
   "source": [
    "# remove 'Επωνυμία Φορέα' column\n",
    "mis_proposals_df = mis_proposals_df.drop(columns=[\"Επωνυμία Φορέα\"])"
   ],
   "outputs": [],
   "execution_count": 45
  },
  {
   "cell_type": "code",
   "id": "4adddcc3c525a982",
   "metadata": {
    "ExecuteTime": {
     "end_time": "2024-12-09T08:43:21.585165Z",
     "start_time": "2024-12-09T08:43:21.581598Z"
    }
   },
   "source": [
    "mis_proposals_df[\"Κατάσταση Αιτήματος\"].unique()"
   ],
   "outputs": [
    {
     "data": {
      "text/plain": [
       "array(['Απορριφθείσα', 'Εγκεκριμένη',\n",
       "       'Έχει υποβληθεί - Δεν έχει παραληφθεί'], dtype=object)"
      ]
     },
     "execution_count": 46,
     "metadata": {},
     "output_type": "execute_result"
    }
   ],
   "execution_count": 46
  },
  {
   "cell_type": "code",
   "id": "171e5ddc1f10d52",
   "metadata": {
    "ExecuteTime": {
     "end_time": "2024-12-09T08:43:21.610010Z",
     "start_time": "2024-12-09T08:43:21.607328Z"
    }
   },
   "source": [
    "mis_approved_proposals = mis_proposals_df[\n",
    "    mis_proposals_df[\"Κατάσταση Αιτήματος\"] == \"Εγκεκριμένη\"\n",
    "]"
   ],
   "outputs": [],
   "execution_count": 47
  },
  {
   "cell_type": "code",
   "id": "9d42ae4756dbfb7d",
   "metadata": {
    "ExecuteTime": {
     "end_time": "2024-12-09T08:43:21.632539Z",
     "start_time": "2024-12-09T08:43:21.629990Z"
    }
   },
   "source": [
    "mis_approved_codes_list = list(mis_approved_proposals[\"Κωδικός Πρότασης\"].values)\n",
    "# strip all whitespaces\n",
    "mis_approved_codes_list = [x.strip() for x in mis_approved_codes_list]"
   ],
   "outputs": [],
   "execution_count": 48
  },
  {
   "cell_type": "markdown",
   "id": "1ac4c1be80f68ea9",
   "metadata": {},
   "source": [
    "## Read official published data"
   ]
  },
  {
   "cell_type": "code",
   "id": "3c0de1a9dea1ed07",
   "metadata": {
    "ExecuteTime": {
     "end_time": "2024-12-09T08:43:21.680742Z",
     "start_time": "2024-12-09T08:43:21.654710Z"
    }
   },
   "source": [
    "official_data_df = pd.read_excel(official_data_file_path, engine=\"openpyxl\")"
   ],
   "outputs": [],
   "execution_count": 49
  },
  {
   "cell_type": "code",
   "id": "cd591a17ebd2ce1e",
   "metadata": {
    "ExecuteTime": {
     "end_time": "2024-12-09T08:43:21.704362Z",
     "start_time": "2024-12-09T08:43:21.701661Z"
    }
   },
   "source": [
    "official_projects_codes_list = list(official_data_df[\"Κωδικός Πρότασης\"].values)\n",
    "# strip all whitespaces\n",
    "official_projects_codes_list = [x.strip() for x in official_projects_codes_list]"
   ],
   "outputs": [],
   "execution_count": 50
  },
  {
   "cell_type": "markdown",
   "id": "17ed6255396f1067",
   "metadata": {},
   "source": "### 1. Data validation and quality"
  },
  {
   "cell_type": "code",
   "id": "b8c7d08c0d537f21",
   "metadata": {
    "ExecuteTime": {
     "end_time": "2024-12-09T08:43:21.729684Z",
     "start_time": "2024-12-09T08:43:21.726376Z"
    }
   },
   "source": [
    "# Test if both lists have the same length\n",
    "len(official_projects_codes_list) == len(mis_approved_codes_list)"
   ],
   "outputs": [
    {
     "data": {
      "text/plain": [
       "True"
      ]
     },
     "execution_count": 51,
     "metadata": {},
     "output_type": "execute_result"
    }
   ],
   "execution_count": 51
  },
  {
   "cell_type": "code",
   "id": "7eb2ca3f59a4f46",
   "metadata": {
    "ExecuteTime": {
     "end_time": "2024-12-09T08:43:21.755223Z",
     "start_time": "2024-12-09T08:43:21.751916Z"
    }
   },
   "source": [
    "# Compare items in the two lists\n",
    "# TODO: refactor using sets\n",
    "items_not_in_mis = [\n",
    "    item for item in official_projects_codes_list if item not in mis_approved_codes_list\n",
    "]\n",
    "items_not_in_mis"
   ],
   "outputs": [
    {
     "data": {
      "text/plain": [
       "[]"
      ]
     },
     "execution_count": 52,
     "metadata": {},
     "output_type": "execute_result"
    }
   ],
   "execution_count": 52
  },
  {
   "cell_type": "code",
   "id": "8e3c6ba2a7b6652e",
   "metadata": {
    "ExecuteTime": {
     "end_time": "2024-12-09T08:43:21.780288Z",
     "start_time": "2024-12-09T08:43:21.778076Z"
    }
   },
   "source": [
    "# TODO: Test if total approved budget is the same in both datasets"
   ],
   "outputs": [],
   "execution_count": 53
  },
  {
   "cell_type": "code",
   "id": "922b241e6eac73ff",
   "metadata": {
    "ExecuteTime": {
     "end_time": "2024-12-09T08:43:21.804858Z",
     "start_time": "2024-12-09T08:43:21.801437Z"
    }
   },
   "source": [
    "# Test if all proposals have been reviewed and submitted in the MIS\n",
    "mis_proposals_df[\"Κατάσταση Αιτήματος\"].unique()"
   ],
   "outputs": [
    {
     "data": {
      "text/plain": [
       "array(['Απορριφθείσα', 'Εγκεκριμένη',\n",
       "       'Έχει υποβληθεί - Δεν έχει παραληφθεί'], dtype=object)"
      ]
     },
     "execution_count": 54,
     "metadata": {},
     "output_type": "execute_result"
    }
   ],
   "execution_count": 54
  },
  {
   "cell_type": "code",
   "id": "3e0c3662a077b02f",
   "metadata": {
    "ExecuteTime": {
     "end_time": "2024-12-09T08:43:21.836215Z",
     "start_time": "2024-12-09T08:43:21.829230Z"
    }
   },
   "source": [
    "non_submitted_df = mis_proposals_df[\n",
    "    mis_proposals_df[\"Κατάσταση Αιτήματος\"] == \"Έχει υποβληθεί - Δεν έχει παραληφθεί\"\n",
    "]  # Rejected proposal.\n",
    "non_submitted_df"
   ],
   "outputs": [
    {
     "data": {
      "text/plain": [
       "                   Κωδικός Πρότασης        ΦΑΣΗ ΠΡΟΤΑΣΗΣ  \\\n",
       "127  ΕΞΜΠ-0544761                    Γνωμοδοτική Ένταξης   \n",
       "\n",
       "                      Κατάσταση Αιτήματος Τρέχουσα Κατάσταση Πρότασης  \\\n",
       "127  Έχει υποβληθεί - Δεν έχει παραληφθεί                Απορριφθείσα   \n",
       "\n",
       "        Μέγεθος      Είδος Επιχείρησης Περιφέρεια (unique) ΠΕ (unique)  \\\n",
       "127  Πολύ Μικρή  Υφιστάμενη Επιχείρηση              Κρήτης    ΛΑΣΙΘΙΟΥ   \n",
       "\n",
       "     Συνολικός Προϋπολογισμός  Επιχορηγούμενος Προϋπολογισμός  \\\n",
       "127                 276605.80                       276605.80   \n",
       "\n",
       "     Αιτούμενη Επιχορήγηση (ΔΔ)  \n",
       "127                   165963.48  "
      ],
      "text/html": [
       "<div>\n",
       "<style scoped>\n",
       "    .dataframe tbody tr th:only-of-type {\n",
       "        vertical-align: middle;\n",
       "    }\n",
       "\n",
       "    .dataframe tbody tr th {\n",
       "        vertical-align: top;\n",
       "    }\n",
       "\n",
       "    .dataframe thead th {\n",
       "        text-align: right;\n",
       "    }\n",
       "</style>\n",
       "<table border=\"1\" class=\"dataframe\">\n",
       "  <thead>\n",
       "    <tr style=\"text-align: right;\">\n",
       "      <th></th>\n",
       "      <th>Κωδικός Πρότασης</th>\n",
       "      <th>ΦΑΣΗ ΠΡΟΤΑΣΗΣ</th>\n",
       "      <th>Κατάσταση Αιτήματος</th>\n",
       "      <th>Τρέχουσα Κατάσταση Πρότασης</th>\n",
       "      <th>Μέγεθος</th>\n",
       "      <th>Είδος Επιχείρησης</th>\n",
       "      <th>Περιφέρεια (unique)</th>\n",
       "      <th>ΠΕ (unique)</th>\n",
       "      <th>Συνολικός Προϋπολογισμός</th>\n",
       "      <th>Επιχορηγούμενος Προϋπολογισμός</th>\n",
       "      <th>Αιτούμενη Επιχορήγηση (ΔΔ)</th>\n",
       "    </tr>\n",
       "  </thead>\n",
       "  <tbody>\n",
       "    <tr>\n",
       "      <th>127</th>\n",
       "      <td>ΕΞΜΠ-0544761</td>\n",
       "      <td>Γνωμοδοτική Ένταξης</td>\n",
       "      <td>Έχει υποβληθεί - Δεν έχει παραληφθεί</td>\n",
       "      <td>Απορριφθείσα</td>\n",
       "      <td>Πολύ Μικρή</td>\n",
       "      <td>Υφιστάμενη Επιχείρηση</td>\n",
       "      <td>Κρήτης</td>\n",
       "      <td>ΛΑΣΙΘΙΟΥ</td>\n",
       "      <td>276605.80</td>\n",
       "      <td>276605.80</td>\n",
       "      <td>165963.48</td>\n",
       "    </tr>\n",
       "  </tbody>\n",
       "</table>\n",
       "</div>"
      ]
     },
     "execution_count": 55,
     "metadata": {},
     "output_type": "execute_result"
    }
   ],
   "execution_count": 55
  },
  {
   "cell_type": "markdown",
   "id": "24f928f5430ffab3",
   "metadata": {},
   "source": "### 2. Drop and rename columns"
  },
  {
   "metadata": {},
   "cell_type": "markdown",
   "source": "### 2.1 Transform MIS proposals data",
   "id": "26a13da6a2304b6b"
  },
  {
   "cell_type": "code",
   "id": "390920f312372208",
   "metadata": {
    "ExecuteTime": {
     "end_time": "2024-12-09T08:43:21.862220Z",
     "start_time": "2024-12-09T08:43:21.859890Z"
    }
   },
   "source": [
    "df = mis_approved_proposals"
   ],
   "outputs": [],
   "execution_count": 56
  },
  {
   "cell_type": "code",
   "id": "1a2c702092ac2ccc",
   "metadata": {
    "ExecuteTime": {
     "end_time": "2024-12-09T08:43:21.979049Z",
     "start_time": "2024-12-09T08:43:21.976843Z"
    }
   },
   "source": [
    "cols_to_drop = [\"ΦΑΣΗ ΠΡΟΤΑΣΗΣ\", \"Κατάσταση Αιτήματος\", \"Τρέχουσα Κατάσταση Πρότασης\"]\n",
    "df = df.drop(columns=cols_to_drop)"
   ],
   "outputs": [],
   "execution_count": 57
  },
  {
   "cell_type": "code",
   "id": "b7f81622b883b024",
   "metadata": {
    "ExecuteTime": {
     "end_time": "2024-12-09T08:43:22.023474Z",
     "start_time": "2024-12-09T08:43:22.020216Z"
    }
   },
   "source": [
    "df.columns"
   ],
   "outputs": [
    {
     "data": {
      "text/plain": [
       "Index(['Κωδικός Πρότασης', 'Μέγεθος', 'Είδος Επιχείρησης',\n",
       "       'Περιφέρεια (unique)', 'ΠΕ (unique)', 'Συνολικός Προϋπολογισμός',\n",
       "       'Επιχορηγούμενος Προϋπολογισμός', 'Αιτούμενη Επιχορήγηση (ΔΔ)'],\n",
       "      dtype='object')"
      ]
     },
     "execution_count": 58,
     "metadata": {},
     "output_type": "execute_result"
    }
   ],
   "execution_count": 58
  },
  {
   "cell_type": "code",
   "id": "a67ec5e5bf9b6e05",
   "metadata": {
    "ExecuteTime": {
     "end_time": "2024-12-09T08:43:22.071635Z",
     "start_time": "2024-12-09T08:43:22.069091Z"
    }
   },
   "source": [
    "# rename, translate column names\n",
    "df.columns = [\n",
    "    \"project_code\",\n",
    "    \"size\",\n",
    "    \"incorporation_status\",\n",
    "    \"region\",\n",
    "    \"regional_unit\",\n",
    "    \"investment_budget\",\n",
    "    \"eligible_budget\",\n",
    "    \"public_funding\",\n",
    "]"
   ],
   "outputs": [],
   "execution_count": 59
  },
  {
   "metadata": {
    "ExecuteTime": {
     "end_time": "2024-12-09T08:43:22.137977Z",
     "start_time": "2024-12-09T08:43:22.135024Z"
    }
   },
   "cell_type": "code",
   "source": "df.project_code.unique()[:3]",
   "id": "1ec9a1f89fe2e840",
   "outputs": [
    {
     "data": {
      "text/plain": [
       "array(['ΕΞΜΠ-0543351                  ', 'ΕΞΜΠ-0543354                  ',\n",
       "       'ΕΞΜΠ-0543368                  '], dtype=object)"
      ]
     },
     "execution_count": 60,
     "metadata": {},
     "output_type": "execute_result"
    }
   ],
   "execution_count": 60
  },
  {
   "metadata": {
    "ExecuteTime": {
     "end_time": "2024-12-09T08:43:22.183120Z",
     "start_time": "2024-12-09T08:43:22.180234Z"
    }
   },
   "cell_type": "code",
   "source": [
    "# strip whitespaces from df[\"project_code\"]\n",
    "df[\"project_code\"] = df[\"project_code\"].str.strip()"
   ],
   "id": "a456bb585c4051b7",
   "outputs": [],
   "execution_count": 61
  },
  {
   "metadata": {},
   "cell_type": "markdown",
   "source": "### 2.1 Transform MIS sectors' data",
   "id": "9827c1a5f564971"
  },
  {
   "cell_type": "code",
   "id": "93e54edc197c7e51",
   "metadata": {
    "ExecuteTime": {
     "end_time": "2024-12-09T08:43:22.229995Z",
     "start_time": "2024-12-09T08:43:22.226489Z"
    }
   },
   "source": "mis_sectors_df.columns",
   "outputs": [
    {
     "data": {
      "text/plain": [
       "Index(['Κωδικός Πρότασης', 'ΚΑΔ', '4ψήφιος ΚΑΔ - Κωδικός', 'Περιγραφή ΚΑΔ',\n",
       "       'Κύριος ΚΑΔ', 'ΚΑΔ Επένδυσης?'],\n",
       "      dtype='object')"
      ]
     },
     "execution_count": 62,
     "metadata": {},
     "output_type": "execute_result"
    }
   ],
   "execution_count": 62
  },
  {
   "cell_type": "code",
   "id": "ee7a6f58c1eff6f4",
   "metadata": {
    "ExecuteTime": {
     "end_time": "2024-12-09T08:43:22.267297Z",
     "start_time": "2024-12-09T08:43:22.265061Z"
    }
   },
   "source": [
    "# keep only necessary columns\n",
    "mis_sectors_df.columns = [\n",
    "    \"project_code\",\n",
    "    \"nace_8_digits_code\",\n",
    "    \"nace_4_digits_code\",\n",
    "    \"description_nace_8_digits\",\n",
    "    \"main_nace\",\n",
    "    \"investment_nace\",\n",
    "]"
   ],
   "outputs": [],
   "execution_count": 63
  },
  {
   "cell_type": "code",
   "id": "bf91b78ac43f8c0a",
   "metadata": {
    "ExecuteTime": {
     "end_time": "2024-12-09T08:43:22.292503Z",
     "start_time": "2024-12-09T08:43:22.289194Z"
    }
   },
   "source": [
    "mis_sectors_df[\"investment_nace\"].unique()"
   ],
   "outputs": [
    {
     "data": {
      "text/plain": [
       "array(['NAI', 'OXI'], dtype=object)"
      ]
     },
     "execution_count": 64,
     "metadata": {},
     "output_type": "execute_result"
    }
   ],
   "execution_count": 64
  },
  {
   "metadata": {
    "ExecuteTime": {
     "end_time": "2024-12-09T08:43:22.317980Z",
     "start_time": "2024-12-09T08:43:22.314622Z"
    }
   },
   "cell_type": "code",
   "source": "mis_sectors_df[\"project_code\"].unique()[:3]",
   "id": "de93f3b3ad58af5b",
   "outputs": [
    {
     "data": {
      "text/plain": [
       "array(['ΕΞΜΠ-0543351                  ', 'ΕΞΜΠ-0543354                  ',\n",
       "       'ΕΞΜΠ-0543368                  '], dtype=object)"
      ]
     },
     "execution_count": 65,
     "metadata": {},
     "output_type": "execute_result"
    }
   ],
   "execution_count": 65
  },
  {
   "metadata": {
    "ExecuteTime": {
     "end_time": "2024-12-09T08:43:22.343423Z",
     "start_time": "2024-12-09T08:43:22.340522Z"
    }
   },
   "cell_type": "code",
   "source": [
    "# strip whitespaces from mis_sectors_df[\"project_code\"]\n",
    "mis_sectors_df[\"project_code\"] = mis_sectors_df[\"project_code\"].str.strip()"
   ],
   "id": "b5d65256448d3ca2",
   "outputs": [],
   "execution_count": 66
  },
  {
   "metadata": {
    "ExecuteTime": {
     "end_time": "2024-12-09T08:43:22.369389Z",
     "start_time": "2024-12-09T08:43:22.366203Z"
    }
   },
   "cell_type": "code",
   "source": "mis_sectors_df[\"project_code\"].unique()[:3]",
   "id": "a63b42f815ffe223",
   "outputs": [
    {
     "data": {
      "text/plain": [
       "array(['ΕΞΜΠ-0543351', 'ΕΞΜΠ-0543354', 'ΕΞΜΠ-0543368'], dtype=object)"
      ]
     },
     "execution_count": 67,
     "metadata": {},
     "output_type": "execute_result"
    }
   ],
   "execution_count": 67
  },
  {
   "metadata": {},
   "cell_type": "markdown",
   "source": "## 3. Focus on the approved proposals for investment",
   "id": "11d4a865e2092f56"
  },
  {
   "cell_type": "markdown",
   "id": "edecd016fde668cf",
   "metadata": {},
   "source": "### 3.1. Keep only investments' sectors"
  },
  {
   "cell_type": "code",
   "id": "fd1678fdc4dd5679",
   "metadata": {
    "ExecuteTime": {
     "end_time": "2024-12-09T08:43:22.395507Z",
     "start_time": "2024-12-09T08:43:22.392847Z"
    }
   },
   "source": [
    "investment_sectors = mis_sectors_df[mis_sectors_df[\"investment_nace\"] == \"NAI\"]"
   ],
   "outputs": [],
   "execution_count": 68
  },
  {
   "cell_type": "code",
   "id": "c3164d2f4298b044",
   "metadata": {
    "ExecuteTime": {
     "end_time": "2024-12-09T08:43:22.437758Z",
     "start_time": "2024-12-09T08:43:22.434755Z"
    }
   },
   "source": [
    "len(investment_sectors)"
   ],
   "outputs": [
    {
     "data": {
      "text/plain": [
       "351"
      ]
     },
     "execution_count": 69,
     "metadata": {},
     "output_type": "execute_result"
    }
   ],
   "execution_count": 69
  },
  {
   "cell_type": "code",
   "id": "e8d3f5d82dad90dd",
   "metadata": {
    "ExecuteTime": {
     "end_time": "2024-12-09T08:43:22.487414Z",
     "start_time": "2024-12-09T08:43:22.483443Z"
    }
   },
   "source": [
    "other_sectors = mis_sectors_df[mis_sectors_df[\"investment_nace\"] == \"OXI\"]\n",
    "len(other_sectors)"
   ],
   "outputs": [
    {
     "data": {
      "text/plain": [
       "1198"
      ]
     },
     "execution_count": 70,
     "metadata": {},
     "output_type": "execute_result"
    }
   ],
   "execution_count": 70
  },
  {
   "cell_type": "code",
   "id": "9dd884919db85a89",
   "metadata": {
    "ExecuteTime": {
     "end_time": "2024-12-09T08:43:22.512386Z",
     "start_time": "2024-12-09T08:43:22.509283Z"
    }
   },
   "source": "len(mis_sectors_df[\"nace_4_digits_code\"].unique())",
   "outputs": [
    {
     "data": {
      "text/plain": [
       "307"
      ]
     },
     "execution_count": 71,
     "metadata": {},
     "output_type": "execute_result"
    }
   ],
   "execution_count": 71
  },
  {
   "cell_type": "code",
   "id": "c971b49f34959e0c",
   "metadata": {
    "ExecuteTime": {
     "end_time": "2024-12-09T08:43:22.541681Z",
     "start_time": "2024-12-09T08:43:22.535565Z"
    }
   },
   "source": [
    "investment_sectors.head(10)"
   ],
   "outputs": [
    {
     "data": {
      "text/plain": [
       "    project_code nace_8_digits_code  nace_4_digits_code  \\\n",
       "0   ΕΞΜΠ-0543351           11.05.10               11.05   \n",
       "3   ΕΞΜΠ-0543354           25.62.10               25.62   \n",
       "4   ΕΞΜΠ-0543354           25.62.20               25.62   \n",
       "5   ΕΞΜΠ-0543354           28.11.41               28.11   \n",
       "23  ΕΞΜΠ-0543368           31.02.10               31.02   \n",
       "24  ΕΞΜΠ-0543368           31.09.12               31.09   \n",
       "25  ΕΞΜΠ-0543368           31.09.13               31.09   \n",
       "26  ΕΞΜΠ-0543368        31.09.92.01               31.09   \n",
       "41  ΕΞΜΠ-0543374            25.62.1               25.62   \n",
       "42  ΕΞΜΠ-0543374              25.99               25.99   \n",
       "\n",
       "                            description_nace_8_digits main_nace  \\\n",
       "0     Παραγωγή μπίρας, εκτός από κατάλοιπα ζυθοποιίας       NAI   \n",
       "3                Υπηρεσίες τόρνευσης μεταλλικών μερών       OXI   \n",
       "4                      Άλλες υπηρεσίες μεταλλοτεχνίας       OXI   \n",
       "5   Κατασκευή μερών κινητήρων εσωτερικής καύσης στ...       NAI   \n",
       "23                         Κατασκευή επίπλων κουζίνας       OXI   \n",
       "24  Κατασκευή ξύλινων επίπλων που χρησιμοποιούνται...       NAI   \n",
       "25                 Κατασκευή ξύλινων επίπλων π.δ.κ.α.       OXI   \n",
       "26    Υπηρεσίες αποκατάστασης και ανακαίνισης επίπλων       OXI   \n",
       "41               Υπηρεσίες τόρνευσης μεταλλικών μερών       OXI   \n",
       "42      Κατασκευή άλλων μεταλλικών προϊόντων π.δ.κ.α.       OXI   \n",
       "\n",
       "   investment_nace  \n",
       "0              NAI  \n",
       "3              NAI  \n",
       "4              NAI  \n",
       "5              NAI  \n",
       "23             NAI  \n",
       "24             NAI  \n",
       "25             NAI  \n",
       "26             NAI  \n",
       "41             NAI  \n",
       "42             NAI  "
      ],
      "text/html": [
       "<div>\n",
       "<style scoped>\n",
       "    .dataframe tbody tr th:only-of-type {\n",
       "        vertical-align: middle;\n",
       "    }\n",
       "\n",
       "    .dataframe tbody tr th {\n",
       "        vertical-align: top;\n",
       "    }\n",
       "\n",
       "    .dataframe thead th {\n",
       "        text-align: right;\n",
       "    }\n",
       "</style>\n",
       "<table border=\"1\" class=\"dataframe\">\n",
       "  <thead>\n",
       "    <tr style=\"text-align: right;\">\n",
       "      <th></th>\n",
       "      <th>project_code</th>\n",
       "      <th>nace_8_digits_code</th>\n",
       "      <th>nace_4_digits_code</th>\n",
       "      <th>description_nace_8_digits</th>\n",
       "      <th>main_nace</th>\n",
       "      <th>investment_nace</th>\n",
       "    </tr>\n",
       "  </thead>\n",
       "  <tbody>\n",
       "    <tr>\n",
       "      <th>0</th>\n",
       "      <td>ΕΞΜΠ-0543351</td>\n",
       "      <td>11.05.10</td>\n",
       "      <td>11.05</td>\n",
       "      <td>Παραγωγή μπίρας, εκτός από κατάλοιπα ζυθοποιίας</td>\n",
       "      <td>NAI</td>\n",
       "      <td>NAI</td>\n",
       "    </tr>\n",
       "    <tr>\n",
       "      <th>3</th>\n",
       "      <td>ΕΞΜΠ-0543354</td>\n",
       "      <td>25.62.10</td>\n",
       "      <td>25.62</td>\n",
       "      <td>Υπηρεσίες τόρνευσης μεταλλικών μερών</td>\n",
       "      <td>OXI</td>\n",
       "      <td>NAI</td>\n",
       "    </tr>\n",
       "    <tr>\n",
       "      <th>4</th>\n",
       "      <td>ΕΞΜΠ-0543354</td>\n",
       "      <td>25.62.20</td>\n",
       "      <td>25.62</td>\n",
       "      <td>Άλλες υπηρεσίες μεταλλοτεχνίας</td>\n",
       "      <td>OXI</td>\n",
       "      <td>NAI</td>\n",
       "    </tr>\n",
       "    <tr>\n",
       "      <th>5</th>\n",
       "      <td>ΕΞΜΠ-0543354</td>\n",
       "      <td>28.11.41</td>\n",
       "      <td>28.11</td>\n",
       "      <td>Κατασκευή μερών κινητήρων εσωτερικής καύσης στ...</td>\n",
       "      <td>NAI</td>\n",
       "      <td>NAI</td>\n",
       "    </tr>\n",
       "    <tr>\n",
       "      <th>23</th>\n",
       "      <td>ΕΞΜΠ-0543368</td>\n",
       "      <td>31.02.10</td>\n",
       "      <td>31.02</td>\n",
       "      <td>Κατασκευή επίπλων κουζίνας</td>\n",
       "      <td>OXI</td>\n",
       "      <td>NAI</td>\n",
       "    </tr>\n",
       "    <tr>\n",
       "      <th>24</th>\n",
       "      <td>ΕΞΜΠ-0543368</td>\n",
       "      <td>31.09.12</td>\n",
       "      <td>31.09</td>\n",
       "      <td>Κατασκευή ξύλινων επίπλων που χρησιμοποιούνται...</td>\n",
       "      <td>NAI</td>\n",
       "      <td>NAI</td>\n",
       "    </tr>\n",
       "    <tr>\n",
       "      <th>25</th>\n",
       "      <td>ΕΞΜΠ-0543368</td>\n",
       "      <td>31.09.13</td>\n",
       "      <td>31.09</td>\n",
       "      <td>Κατασκευή ξύλινων επίπλων π.δ.κ.α.</td>\n",
       "      <td>OXI</td>\n",
       "      <td>NAI</td>\n",
       "    </tr>\n",
       "    <tr>\n",
       "      <th>26</th>\n",
       "      <td>ΕΞΜΠ-0543368</td>\n",
       "      <td>31.09.92.01</td>\n",
       "      <td>31.09</td>\n",
       "      <td>Υπηρεσίες αποκατάστασης και ανακαίνισης επίπλων</td>\n",
       "      <td>OXI</td>\n",
       "      <td>NAI</td>\n",
       "    </tr>\n",
       "    <tr>\n",
       "      <th>41</th>\n",
       "      <td>ΕΞΜΠ-0543374</td>\n",
       "      <td>25.62.1</td>\n",
       "      <td>25.62</td>\n",
       "      <td>Υπηρεσίες τόρνευσης μεταλλικών μερών</td>\n",
       "      <td>OXI</td>\n",
       "      <td>NAI</td>\n",
       "    </tr>\n",
       "    <tr>\n",
       "      <th>42</th>\n",
       "      <td>ΕΞΜΠ-0543374</td>\n",
       "      <td>25.99</td>\n",
       "      <td>25.99</td>\n",
       "      <td>Κατασκευή άλλων μεταλλικών προϊόντων π.δ.κ.α.</td>\n",
       "      <td>OXI</td>\n",
       "      <td>NAI</td>\n",
       "    </tr>\n",
       "  </tbody>\n",
       "</table>\n",
       "</div>"
      ]
     },
     "execution_count": 72,
     "metadata": {},
     "output_type": "execute_result"
    }
   ],
   "execution_count": 72
  },
  {
   "cell_type": "markdown",
   "id": "deece2357609a69",
   "metadata": {},
   "source": [
    "The description corresponds to the 6 or 8 digit NACE codes."
   ]
  },
  {
   "cell_type": "markdown",
   "id": "c241d403a0c1796f",
   "metadata": {},
   "source": [
    "### 3.2 Merge MIS approved proposals data with sectors data"
   ]
  },
  {
   "cell_type": "code",
   "id": "a71399f695ea9228",
   "metadata": {
    "ExecuteTime": {
     "end_time": "2024-12-09T08:43:22.568216Z",
     "start_time": "2024-12-09T08:43:22.564285Z"
    }
   },
   "source": [
    "# merge proposals and sectors dataframes on 'Κωδικός Πρότασης'\n",
    "merged_sectors_df = pd.merge(df, investment_sectors, on=\"project_code\")"
   ],
   "outputs": [],
   "execution_count": 73
  },
  {
   "cell_type": "code",
   "id": "bde21e153358544c",
   "metadata": {
    "ExecuteTime": {
     "end_time": "2024-12-09T08:43:22.620506Z",
     "start_time": "2024-12-09T08:43:22.617428Z"
    }
   },
   "source": [
    "len(merged_sectors_df)  # in 6 digits NACE codes"
   ],
   "outputs": [
    {
     "data": {
      "text/plain": [
       "351"
      ]
     },
     "execution_count": 74,
     "metadata": {},
     "output_type": "execute_result"
    }
   ],
   "execution_count": 74
  },
  {
   "cell_type": "code",
   "id": "19fd1d747ff92eb6",
   "metadata": {
    "ExecuteTime": {
     "end_time": "2024-12-09T08:43:22.648896Z",
     "start_time": "2024-12-09T08:43:22.646235Z"
    }
   },
   "source": [
    "merged_sectors_df[\"project_code\"].nunique()"
   ],
   "outputs": [
    {
     "data": {
      "text/plain": [
       "151"
      ]
     },
     "execution_count": 75,
     "metadata": {},
     "output_type": "execute_result"
    }
   ],
   "execution_count": 75
  },
  {
   "cell_type": "markdown",
   "id": "df68851f8ccc0866",
   "metadata": {},
   "source": [
    "#### Note: There are 351 sector rows for 151 projects. This is because many projects are investing in multiple sectors."
   ]
  },
  {
   "cell_type": "markdown",
   "id": "4726aaa158d648af",
   "metadata": {},
   "source": [
    "### 3.3 Convert NACE codes to two digits"
   ]
  },
  {
   "cell_type": "code",
   "id": "10ebfcc64479f930",
   "metadata": {
    "ExecuteTime": {
     "end_time": "2024-12-09T08:43:22.692861Z",
     "start_time": "2024-12-09T08:43:22.689424Z"
    }
   },
   "source": [
    "# test if there are codes below 10, that might miss the first zero\n",
    "sorted(merged_sectors_df[\"nace_4_digits_code\"].unique())[:5]"
   ],
   "outputs": [
    {
     "data": {
      "text/plain": [
       "[np.float64(10.13),\n",
       " np.float64(10.31),\n",
       " np.float64(10.39),\n",
       " np.float64(10.41),\n",
       " np.float64(10.51)]"
      ]
     },
     "execution_count": 76,
     "metadata": {},
     "output_type": "execute_result"
    }
   ],
   "execution_count": 76
  },
  {
   "cell_type": "code",
   "id": "24688babe25b7684",
   "metadata": {
    "ExecuteTime": {
     "end_time": "2024-12-09T08:43:22.744811Z",
     "start_time": "2024-12-09T08:43:22.741351Z"
    }
   },
   "source": [
    "# convert nace_4_digits and nace_8_digits to string. TODO: Do it in one line.\n",
    "merged_sectors_df[\"nace_4_digits_code\"] = merged_sectors_df[\"nace_4_digits_code\"].apply(str)\n",
    "merged_sectors_df[\"nace_8_digits_code\"] = merged_sectors_df[\"nace_8_digits_code\"].apply(str)"
   ],
   "outputs": [],
   "execution_count": 77
  },
  {
   "cell_type": "code",
   "id": "86f9e3a193c8b252",
   "metadata": {
    "ExecuteTime": {
     "end_time": "2024-12-09T08:43:22.770176Z",
     "start_time": "2024-12-09T08:43:22.767224Z"
    }
   },
   "source": [
    "# get first two digits of the nace_4_digits code and save it in a new column\n",
    "merged_sectors_df[\"nace_2_digits_code\"] = merged_sectors_df[\"nace_4_digits_code\"].apply(\n",
    "    lambda x: x[:2]\n",
    ")"
   ],
   "outputs": [],
   "execution_count": 78
  },
  {
   "cell_type": "code",
   "id": "6fc3aac150108e8a",
   "metadata": {
    "ExecuteTime": {
     "end_time": "2024-12-09T08:43:22.796257Z",
     "start_time": "2024-12-09T08:43:22.793232Z"
    }
   },
   "source": [
    "# data validation test\n",
    "merged_sectors_df.investment_nace.unique()"
   ],
   "outputs": [
    {
     "data": {
      "text/plain": [
       "array(['NAI'], dtype=object)"
      ]
     },
     "execution_count": 79,
     "metadata": {},
     "output_type": "execute_result"
    }
   ],
   "execution_count": 79
  },
  {
   "cell_type": "code",
   "id": "8f5e0c0f55c33607",
   "metadata": {
    "ExecuteTime": {
     "end_time": "2024-12-09T08:43:22.822661Z",
     "start_time": "2024-12-09T08:43:22.819598Z"
    }
   },
   "source": [
    "merged_sectors_df.columns"
   ],
   "outputs": [
    {
     "data": {
      "text/plain": [
       "Index(['project_code', 'size', 'incorporation_status', 'region',\n",
       "       'regional_unit', 'investment_budget', 'eligible_budget',\n",
       "       'public_funding', 'nace_8_digits_code', 'nace_4_digits_code',\n",
       "       'description_nace_8_digits', 'main_nace', 'investment_nace',\n",
       "       'nace_2_digits_code'],\n",
       "      dtype='object')"
      ]
     },
     "execution_count": 80,
     "metadata": {},
     "output_type": "execute_result"
    }
   ],
   "execution_count": 80
  },
  {
   "cell_type": "code",
   "id": "dd7f45138286abed",
   "metadata": {
    "ExecuteTime": {
     "end_time": "2024-12-09T08:43:22.847860Z",
     "start_time": "2024-12-09T08:43:22.844645Z"
    }
   },
   "source": [
    "# keep necessary columns for two digit sectoral analysis\n",
    "large_sectors_df = merged_sectors_df[\n",
    "    [\n",
    "        \"project_code\",\n",
    "        \"size\",\n",
    "        \"incorporation_status\",\n",
    "        \"region\",\n",
    "        \"investment_budget\",\n",
    "        \"public_funding\",\n",
    "        \"nace_2_digits_code\",\n",
    "    ]\n",
    "]"
   ],
   "outputs": [],
   "execution_count": 81
  },
  {
   "cell_type": "code",
   "id": "560de19fc8e806ca",
   "metadata": {
    "ExecuteTime": {
     "end_time": "2024-12-09T08:43:22.877081Z",
     "start_time": "2024-12-09T08:43:22.871904Z"
    }
   },
   "source": [
    "large_sectors_df.head(2)"
   ],
   "outputs": [
    {
     "data": {
      "text/plain": [
       "   project_code    size   incorporation_status        region  \\\n",
       "0  ΕΞΜΠ-0543351   Μικρή  Υφιστάμενη Επιχείρηση  Ιονίων Νήσων   \n",
       "1  ΕΞΜΠ-0543354  Μεσαία  Υφιστάμενη Επιχείρηση       Αττικής   \n",
       "\n",
       "   investment_budget  public_funding nace_2_digits_code  \n",
       "0          482832.00       260504.28                 11  \n",
       "1          729388.06       255285.82                 25  "
      ],
      "text/html": [
       "<div>\n",
       "<style scoped>\n",
       "    .dataframe tbody tr th:only-of-type {\n",
       "        vertical-align: middle;\n",
       "    }\n",
       "\n",
       "    .dataframe tbody tr th {\n",
       "        vertical-align: top;\n",
       "    }\n",
       "\n",
       "    .dataframe thead th {\n",
       "        text-align: right;\n",
       "    }\n",
       "</style>\n",
       "<table border=\"1\" class=\"dataframe\">\n",
       "  <thead>\n",
       "    <tr style=\"text-align: right;\">\n",
       "      <th></th>\n",
       "      <th>project_code</th>\n",
       "      <th>size</th>\n",
       "      <th>incorporation_status</th>\n",
       "      <th>region</th>\n",
       "      <th>investment_budget</th>\n",
       "      <th>public_funding</th>\n",
       "      <th>nace_2_digits_code</th>\n",
       "    </tr>\n",
       "  </thead>\n",
       "  <tbody>\n",
       "    <tr>\n",
       "      <th>0</th>\n",
       "      <td>ΕΞΜΠ-0543351</td>\n",
       "      <td>Μικρή</td>\n",
       "      <td>Υφιστάμενη Επιχείρηση</td>\n",
       "      <td>Ιονίων Νήσων</td>\n",
       "      <td>482832.00</td>\n",
       "      <td>260504.28</td>\n",
       "      <td>11</td>\n",
       "    </tr>\n",
       "    <tr>\n",
       "      <th>1</th>\n",
       "      <td>ΕΞΜΠ-0543354</td>\n",
       "      <td>Μεσαία</td>\n",
       "      <td>Υφιστάμενη Επιχείρηση</td>\n",
       "      <td>Αττικής</td>\n",
       "      <td>729388.06</td>\n",
       "      <td>255285.82</td>\n",
       "      <td>25</td>\n",
       "    </tr>\n",
       "  </tbody>\n",
       "</table>\n",
       "</div>"
      ]
     },
     "execution_count": 82,
     "metadata": {},
     "output_type": "execute_result"
    }
   ],
   "execution_count": 82
  },
  {
   "cell_type": "code",
   "id": "c0d9b4b5269dc199",
   "metadata": {
    "ExecuteTime": {
     "end_time": "2024-12-09T08:43:22.922612Z",
     "start_time": "2024-12-09T08:43:22.919837Z"
    }
   },
   "source": [
    "# Number of sectors\n",
    "large_sectors_df[\"nace_2_digits_code\"].nunique()"
   ],
   "outputs": [
    {
     "data": {
      "text/plain": [
       "24"
      ]
     },
     "execution_count": 83,
     "metadata": {},
     "output_type": "execute_result"
    }
   ],
   "execution_count": 83
  },
  {
   "cell_type": "markdown",
   "id": "7f70f7179aaf11bb",
   "metadata": {},
   "source": [
    "\n",
    "### 3.4 Add two digits sector descriptions"
   ]
  },
  {
   "cell_type": "code",
   "id": "5cacaaacb6d31650",
   "metadata": {
    "ExecuteTime": {
     "end_time": "2024-12-09T08:43:22.966847Z",
     "start_time": "2024-12-09T08:43:22.964675Z"
    }
   },
   "source": [
    "# Use the NACE codes dictionary to get the sector descriptions\n",
    "nace_codes_elstat_file = \"../data/EconActiv_nace_2_gr.xls\""
   ],
   "outputs": [],
   "execution_count": 84
  },
  {
   "cell_type": "code",
   "id": "c31de1965f542e21",
   "metadata": {
    "ExecuteTime": {
     "end_time": "2024-12-09T08:43:23.025390Z",
     "start_time": "2024-12-09T08:43:23.006560Z"
    }
   },
   "source": [
    "# Use custom function\n",
    "nace_2_digits_descriptions = parse_nace_codes(nace_codes_elstat_file)"
   ],
   "outputs": [],
   "execution_count": 85
  },
  {
   "cell_type": "code",
   "id": "de6b146fd8fee9b7",
   "metadata": {
    "ExecuteTime": {
     "end_time": "2024-12-09T08:43:23.080852Z",
     "start_time": "2024-12-09T08:43:23.077677Z"
    }
   },
   "source": [
    "large_sectors_df = large_sectors_df.assign(\n",
    "    nace_2_digits_description=large_sectors_df[\"nace_2_digits_code\"].map(\n",
    "        nace_2_digits_descriptions\n",
    "    )\n",
    ")"
   ],
   "outputs": [],
   "execution_count": 86
  },
  {
   "cell_type": "code",
   "id": "6be5f38f92c12dab",
   "metadata": {
    "ExecuteTime": {
     "end_time": "2024-12-09T08:43:23.135137Z",
     "start_time": "2024-12-09T08:43:23.129882Z"
    }
   },
   "source": "large_sectors_df.head(2)",
   "outputs": [
    {
     "data": {
      "text/plain": [
       "   project_code    size   incorporation_status        region  \\\n",
       "0  ΕΞΜΠ-0543351   Μικρή  Υφιστάμενη Επιχείρηση  Ιονίων Νήσων   \n",
       "1  ΕΞΜΠ-0543354  Μεσαία  Υφιστάμενη Επιχείρηση       Αττικής   \n",
       "\n",
       "   investment_budget  public_funding nace_2_digits_code  \\\n",
       "0          482832.00       260504.28                 11   \n",
       "1          729388.06       255285.82                 25   \n",
       "\n",
       "                           nace_2_digits_description  \n",
       "0                                          Ποτοποιία  \n",
       "1  Κατασκευή μεταλλικών προϊόντων, με εξαίρεση τα...  "
      ],
      "text/html": [
       "<div>\n",
       "<style scoped>\n",
       "    .dataframe tbody tr th:only-of-type {\n",
       "        vertical-align: middle;\n",
       "    }\n",
       "\n",
       "    .dataframe tbody tr th {\n",
       "        vertical-align: top;\n",
       "    }\n",
       "\n",
       "    .dataframe thead th {\n",
       "        text-align: right;\n",
       "    }\n",
       "</style>\n",
       "<table border=\"1\" class=\"dataframe\">\n",
       "  <thead>\n",
       "    <tr style=\"text-align: right;\">\n",
       "      <th></th>\n",
       "      <th>project_code</th>\n",
       "      <th>size</th>\n",
       "      <th>incorporation_status</th>\n",
       "      <th>region</th>\n",
       "      <th>investment_budget</th>\n",
       "      <th>public_funding</th>\n",
       "      <th>nace_2_digits_code</th>\n",
       "      <th>nace_2_digits_description</th>\n",
       "    </tr>\n",
       "  </thead>\n",
       "  <tbody>\n",
       "    <tr>\n",
       "      <th>0</th>\n",
       "      <td>ΕΞΜΠ-0543351</td>\n",
       "      <td>Μικρή</td>\n",
       "      <td>Υφιστάμενη Επιχείρηση</td>\n",
       "      <td>Ιονίων Νήσων</td>\n",
       "      <td>482832.00</td>\n",
       "      <td>260504.28</td>\n",
       "      <td>11</td>\n",
       "      <td>Ποτοποιία</td>\n",
       "    </tr>\n",
       "    <tr>\n",
       "      <th>1</th>\n",
       "      <td>ΕΞΜΠ-0543354</td>\n",
       "      <td>Μεσαία</td>\n",
       "      <td>Υφιστάμενη Επιχείρηση</td>\n",
       "      <td>Αττικής</td>\n",
       "      <td>729388.06</td>\n",
       "      <td>255285.82</td>\n",
       "      <td>25</td>\n",
       "      <td>Κατασκευή μεταλλικών προϊόντων, με εξαίρεση τα...</td>\n",
       "    </tr>\n",
       "  </tbody>\n",
       "</table>\n",
       "</div>"
      ]
     },
     "execution_count": 87,
     "metadata": {},
     "output_type": "execute_result"
    }
   ],
   "execution_count": 87
  },
  {
   "cell_type": "markdown",
   "id": "9921eecd1c559f42",
   "metadata": {},
   "source": [
    "### 3.5 Add letters for General sector description"
   ]
  },
  {
   "cell_type": "code",
   "id": "afe7003e62e195a6",
   "metadata": {
    "ExecuteTime": {
     "end_time": "2024-12-09T08:43:23.162324Z",
     "start_time": "2024-12-09T08:43:23.159610Z"
    }
   },
   "source": [
    "# Groupes sectors by general sector description\n",
    "general_sectors = {\n",
    "    \"C: Manufacturing\": list(range(10, 34)),\n",
    "    \"E: Water supply, sewerage, waste management and remediation\": list(range(36, 40)),\n",
    "    \"H: Transportation and Storage\": list(range(49, 54)),\n",
    "    \"M: Legal, accounting, management, architecture, engineering, technical testing and analysis activities\": list(\n",
    "        range(69, 72)\n",
    "    ),\n",
    "    \"N: Administrative and support service activities\": list(range(77, 83)),\n",
    "}\n",
    "\n",
    "\n",
    "# Function to map the two-digit codes to the general sector descriptions\n",
    "def map_classification(nace_code):\n",
    "    for sector, codes in general_sectors.items():\n",
    "        if int(nace_code) in codes:\n",
    "            return sector\n",
    "    return \"Other\""
   ],
   "outputs": [],
   "execution_count": 88
  },
  {
   "cell_type": "code",
   "id": "b81d73ec10374b4c",
   "metadata": {
    "ExecuteTime": {
     "end_time": "2024-12-09T08:43:23.210347Z",
     "start_time": "2024-12-09T08:43:23.207319Z"
    }
   },
   "source": [
    "# Apply the function to create a new column in totals_df\n",
    "large_sectors_df[\"sector\"] = large_sectors_df[\"nace_2_digits_code\"].apply(map_classification)"
   ],
   "outputs": [],
   "execution_count": 89
  },
  {
   "cell_type": "code",
   "id": "e36eae7467f8c6fd",
   "metadata": {
    "ExecuteTime": {
     "end_time": "2024-12-09T08:43:23.243079Z",
     "start_time": "2024-12-09T08:43:23.237464Z"
    }
   },
   "source": [
    "large_sectors_df.head(5)"
   ],
   "outputs": [
    {
     "data": {
      "text/plain": [
       "   project_code        size   incorporation_status                region  \\\n",
       "0  ΕΞΜΠ-0543351       Μικρή  Υφιστάμενη Επιχείρηση          Ιονίων Νήσων   \n",
       "1  ΕΞΜΠ-0543354      Μεσαία  Υφιστάμενη Επιχείρηση               Αττικής   \n",
       "2  ΕΞΜΠ-0543354      Μεσαία  Υφιστάμενη Επιχείρηση               Αττικής   \n",
       "3  ΕΞΜΠ-0543354      Μεσαία  Υφιστάμενη Επιχείρηση               Αττικής   \n",
       "4  ΕΞΜΠ-0543368  Πολύ Μικρή  Υφιστάμενη Επιχείρηση  Κεντρικής Μακεδονίας   \n",
       "\n",
       "   investment_budget  public_funding nace_2_digits_code  \\\n",
       "0          482832.00       260504.28                 11   \n",
       "1          729388.06       255285.82                 25   \n",
       "2          729388.06       255285.82                 25   \n",
       "3          729388.06       255285.82                 28   \n",
       "4          359000.00       251300.00                 31   \n",
       "\n",
       "                           nace_2_digits_description            sector  \n",
       "0                                          Ποτοποιία  C: Manufacturing  \n",
       "1  Κατασκευή μεταλλικών προϊόντων, με εξαίρεση τα...  C: Manufacturing  \n",
       "2  Κατασκευή μεταλλικών προϊόντων, με εξαίρεση τα...  C: Manufacturing  \n",
       "3  Κατασκευή μηχανημάτων και ειδών εξοπλισμού π.δ...  C: Manufacturing  \n",
       "4                                  Κατασκευή επίπλων  C: Manufacturing  "
      ],
      "text/html": [
       "<div>\n",
       "<style scoped>\n",
       "    .dataframe tbody tr th:only-of-type {\n",
       "        vertical-align: middle;\n",
       "    }\n",
       "\n",
       "    .dataframe tbody tr th {\n",
       "        vertical-align: top;\n",
       "    }\n",
       "\n",
       "    .dataframe thead th {\n",
       "        text-align: right;\n",
       "    }\n",
       "</style>\n",
       "<table border=\"1\" class=\"dataframe\">\n",
       "  <thead>\n",
       "    <tr style=\"text-align: right;\">\n",
       "      <th></th>\n",
       "      <th>project_code</th>\n",
       "      <th>size</th>\n",
       "      <th>incorporation_status</th>\n",
       "      <th>region</th>\n",
       "      <th>investment_budget</th>\n",
       "      <th>public_funding</th>\n",
       "      <th>nace_2_digits_code</th>\n",
       "      <th>nace_2_digits_description</th>\n",
       "      <th>sector</th>\n",
       "    </tr>\n",
       "  </thead>\n",
       "  <tbody>\n",
       "    <tr>\n",
       "      <th>0</th>\n",
       "      <td>ΕΞΜΠ-0543351</td>\n",
       "      <td>Μικρή</td>\n",
       "      <td>Υφιστάμενη Επιχείρηση</td>\n",
       "      <td>Ιονίων Νήσων</td>\n",
       "      <td>482832.00</td>\n",
       "      <td>260504.28</td>\n",
       "      <td>11</td>\n",
       "      <td>Ποτοποιία</td>\n",
       "      <td>C: Manufacturing</td>\n",
       "    </tr>\n",
       "    <tr>\n",
       "      <th>1</th>\n",
       "      <td>ΕΞΜΠ-0543354</td>\n",
       "      <td>Μεσαία</td>\n",
       "      <td>Υφιστάμενη Επιχείρηση</td>\n",
       "      <td>Αττικής</td>\n",
       "      <td>729388.06</td>\n",
       "      <td>255285.82</td>\n",
       "      <td>25</td>\n",
       "      <td>Κατασκευή μεταλλικών προϊόντων, με εξαίρεση τα...</td>\n",
       "      <td>C: Manufacturing</td>\n",
       "    </tr>\n",
       "    <tr>\n",
       "      <th>2</th>\n",
       "      <td>ΕΞΜΠ-0543354</td>\n",
       "      <td>Μεσαία</td>\n",
       "      <td>Υφιστάμενη Επιχείρηση</td>\n",
       "      <td>Αττικής</td>\n",
       "      <td>729388.06</td>\n",
       "      <td>255285.82</td>\n",
       "      <td>25</td>\n",
       "      <td>Κατασκευή μεταλλικών προϊόντων, με εξαίρεση τα...</td>\n",
       "      <td>C: Manufacturing</td>\n",
       "    </tr>\n",
       "    <tr>\n",
       "      <th>3</th>\n",
       "      <td>ΕΞΜΠ-0543354</td>\n",
       "      <td>Μεσαία</td>\n",
       "      <td>Υφιστάμενη Επιχείρηση</td>\n",
       "      <td>Αττικής</td>\n",
       "      <td>729388.06</td>\n",
       "      <td>255285.82</td>\n",
       "      <td>28</td>\n",
       "      <td>Κατασκευή μηχανημάτων και ειδών εξοπλισμού π.δ...</td>\n",
       "      <td>C: Manufacturing</td>\n",
       "    </tr>\n",
       "    <tr>\n",
       "      <th>4</th>\n",
       "      <td>ΕΞΜΠ-0543368</td>\n",
       "      <td>Πολύ Μικρή</td>\n",
       "      <td>Υφιστάμενη Επιχείρηση</td>\n",
       "      <td>Κεντρικής Μακεδονίας</td>\n",
       "      <td>359000.00</td>\n",
       "      <td>251300.00</td>\n",
       "      <td>31</td>\n",
       "      <td>Κατασκευή επίπλων</td>\n",
       "      <td>C: Manufacturing</td>\n",
       "    </tr>\n",
       "  </tbody>\n",
       "</table>\n",
       "</div>"
      ]
     },
     "execution_count": 90,
     "metadata": {},
     "output_type": "execute_result"
    }
   ],
   "execution_count": 90
  },
  {
   "metadata": {
    "ExecuteTime": {
     "end_time": "2024-12-09T08:43:23.281608Z",
     "start_time": "2024-12-09T08:43:23.277344Z"
    }
   },
   "cell_type": "code",
   "source": [
    "# split sector column to two columns. One for the sector letter and one for the sector description\n",
    "large_sectors_df[\"sector_code\"] = large_sectors_df[\"sector\"].str.split(\":\").str[0]\n",
    "large_sectors_df[\"sector_description\"] = (\n",
    "    large_sectors_df[\"sector\"].str.split(\":\").str[1]\n",
    ")\n",
    "# drop sector column\n",
    "large_sectors_df = large_sectors_df.drop(columns=[\"sector\"])"
   ],
   "id": "e2635c1fa7c1f3c2",
   "outputs": [],
   "execution_count": 91
  },
  {
   "cell_type": "code",
   "id": "85fd8be1fff7ece5",
   "metadata": {
    "ExecuteTime": {
     "end_time": "2024-12-09T08:43:23.330746Z",
     "start_time": "2024-12-09T08:43:23.328126Z"
    }
   },
   "source": [
    "# Replace unique values with new project_id values starting from p_1 to p{len(df)}\n",
    "# Dictionary to map old project codes to new project IDs\n",
    "project_id_mapping = {\n",
    "    old_code: f\"p_{i+1}\"\n",
    "    for i, old_code in enumerate(large_sectors_df[\"project_code\"].unique())\n",
    "}"
   ],
   "outputs": [],
   "execution_count": 92
  },
  {
   "metadata": {
    "ExecuteTime": {
     "end_time": "2024-12-09T08:43:23.371317Z",
     "start_time": "2024-12-09T08:43:23.367860Z"
    }
   },
   "cell_type": "code",
   "source": [
    "# Replace old project codes with new project IDs\n",
    "large_sectors_df[\"project_code\"] = large_sectors_df[\"project_code\"].map(\n",
    "    project_id_mapping\n",
    ")"
   ],
   "id": "5106fe6baf6f8b51",
   "outputs": [],
   "execution_count": 93
  },
  {
   "cell_type": "code",
   "id": "f587df48d90e362f",
   "metadata": {
    "ExecuteTime": {
     "end_time": "2024-12-09T08:43:23.450681Z",
     "start_time": "2024-12-09T08:43:23.447924Z"
    }
   },
   "source": [
    "large_sectors_df.project_code.nunique()"
   ],
   "outputs": [
    {
     "data": {
      "text/plain": [
       "151"
      ]
     },
     "execution_count": 94,
     "metadata": {},
     "output_type": "execute_result"
    }
   ],
   "execution_count": 94
  },
  {
   "metadata": {},
   "cell_type": "markdown",
   "source": "### 3.6 Translate all column values to English",
   "id": "cf0169e2a09c9bac"
  },
  {
   "metadata": {
    "ExecuteTime": {
     "end_time": "2024-12-09T08:43:23.499509Z",
     "start_time": "2024-12-09T08:43:23.496447Z"
    }
   },
   "cell_type": "code",
   "source": "df = large_sectors_df.copy()",
   "id": "f66d875251e55501",
   "outputs": [],
   "execution_count": 95
  },
  {
   "metadata": {
    "ExecuteTime": {
     "end_time": "2024-12-09T08:43:23.526279Z",
     "start_time": "2024-12-09T08:43:23.523536Z"
    }
   },
   "cell_type": "code",
   "source": "df.nace_2_digits_description.unique()",
   "id": "96bc4cf96c8854e7",
   "outputs": [
    {
     "data": {
      "text/plain": [
       "array(['Ποτοποιία',\n",
       "       'Κατασκευή μεταλλικών προϊόντων, με εξαίρεση τα μηχανήματα και τα είδη εξοπλισμού',\n",
       "       'Κατασκευή μηχανημάτων και ειδών εξοπλισμού π.δ.κ.α.',\n",
       "       'Κατασκευή επίπλων',\n",
       "       'Επισκευή και εγκατάσταση μηχανημάτων και εξοπλισμού',\n",
       "       'Συλλογή, επεξεργασία και διάθεση αποβλήτων? ανάκτηση υλικών',\n",
       "       'Βιομηχανία τροφίμων', 'Παραγωγή χημικών ουσιών και προϊόντων',\n",
       "       'Κατασκευή ειδών ένδυσης',\n",
       "       'Εκτυπώσεις και αναπαραγωγή προεγγεγραμμένων μέσων',\n",
       "       'Παραγωγή κλωστοϋφαντουργικών υλών',\n",
       "       'Άλλες μεταποιητικές δραστηριότητες',\n",
       "       'Κατασκευή προϊόντων από ελαστικό (καουτσούκ) και πλαστικές ύλες',\n",
       "       'Αρχιτεκτονικές δραστηριότητες και δραστηριότητες μηχανικών? τεχνικές δοκιμές και αναλύσεις',\n",
       "       'Χαρτοποιία και κατασκευή χάρτινων προϊόντων',\n",
       "       'Αποθήκευση και υποστηρικτικές προς τη μεταφορά δραστηριότητες',\n",
       "       'Βιομηχανία ξύλου και κατασκευή προϊόντων από ξύλο και φελλό, εκτός από έπιπλα? κατασκευή ειδών καλαθοποιίας και σπαρτοπλεκτικής',\n",
       "       'Κατασκευή ηλεκτρολογικού εξοπλισμού',\n",
       "       'Κατασκευή ηλεκτρονικών υπολογιστών, ηλεκτρονικών και οπτικών προϊόντων',\n",
       "       'Παραγωγή άλλων μη μεταλλικών ορυκτών προϊόντων',\n",
       "       'Κατασκευή μηχανοκίνητων οχημάτων, ρυμουλκούμενων και ημιρυμουλκούμενων οχημάτων',\n",
       "       'Παραγωγή βασικών μετάλλων',\n",
       "       'Διοικητικές δραστηριότητες γραφείου, γραμματειακή υποστήριξη και άλλες δραστηριότητες παροχής υποστήριξης προς τις επιχειρήσεις',\n",
       "       'Παραγωγή βασικών φαρμακευτικών προϊόντων και φαρμακευτικών σκευασμάτων'],\n",
       "      dtype=object)"
      ]
     },
     "execution_count": 96,
     "metadata": {},
     "output_type": "execute_result"
    }
   ],
   "execution_count": 96
  },
  {
   "metadata": {
    "ExecuteTime": {
     "end_time": "2024-12-09T08:43:23.554904Z",
     "start_time": "2024-12-09T08:43:23.551864Z"
    }
   },
   "cell_type": "code",
   "source": "df.nace_2_digits_description.nunique()",
   "id": "f96607567667d95a",
   "outputs": [
    {
     "data": {
      "text/plain": [
       "24"
      ]
     },
     "execution_count": 97,
     "metadata": {},
     "output_type": "execute_result"
    }
   ],
   "execution_count": 97
  },
  {
   "metadata": {
    "ExecuteTime": {
     "end_time": "2024-12-09T08:43:41.480249Z",
     "start_time": "2024-12-09T08:43:41.473053Z"
    }
   },
   "cell_type": "code",
   "source": [
    "# Get unique values from the 'nace_2_digits' column\n",
    "unique_nace_2_digits = df[\"nace_2_digits_code\"].unique()\n",
    "\n",
    "# Dictionary with all possible descriptions\n",
    "NACE_2_DIGITS_DESCRIPTIONS_EN = {\n",
    "    \"10\": \"Manufacture of food products\",\n",
    "    \"11\": \"Manufacture of beverages\",\n",
    "    \"12\": \"Manufacture of tobacco products\",\n",
    "    \"13\": \"Manufacture of textiles\",\n",
    "    \"14\": \"Manufacture of wearing apparel\",\n",
    "    \"15\": \"Manufacture of leather and related products\",\n",
    "    \"16\": \"Manufacture of wood and of products of wood and cork, except furniture; manufacture of articles of straw and plaiting materials\",\n",
    "    \"17\": \"Manufacture of paper and paper products\",\n",
    "    \"18\": \"Printing and reproduction of recorded media\",\n",
    "    \"19\": \"Manufacture of coke and refined petroleum products\",\n",
    "    \"20\": \"Manufacture of chemicals and chemical products\",\n",
    "    \"21\": \"Manufacture of basic pharmaceutical products and pharmaceutical preparations\",\n",
    "    \"22\": \"Manufacture of rubber and plastic products\",\n",
    "    \"23\": \"Manufacture of other non-metallic mineral products\",\n",
    "    \"24\": \"Manufacture of basic metals\",\n",
    "    \"25\": \"Manufacture of fabricated metal products, except machinery and equipment\",\n",
    "    \"26\": \"Manufacture of computer, electronic and optical products\",\n",
    "    \"27\": \"Manufacture of electrical equipment\",\n",
    "    \"28\": \"Manufacture of machinery and equipment n.e.c.\",\n",
    "    \"29\": \"Manufacture of motor vehicles, trailers and semi-trailers\",\n",
    "    \"30\": \"Manufacture of other transport equipment\",\n",
    "    \"31\": \"Manufacture of furniture\",\n",
    "    \"32\": \"Other manufacturing\",\n",
    "    \"33\": \"Repair and installation of machinery and equipment\",\n",
    "    \"36\": \"Water collection, treatment and supply\",\n",
    "    \"37\": \"Sewerage\",\n",
    "    \"38\": \"Waste collection, treatment and disposal activities; materials recovery\",\n",
    "    \"39\": \"Remediation activities and other waste management services\",\n",
    "    \"49\": \"Land transport and transport via pipelines\",\n",
    "    \"50\": \"Water transport\",\n",
    "    \"51\": \"Air transport\",\n",
    "    \"52\": \"Warehousing and support activities for transportation\",\n",
    "    \"53\": \"Postal and courier activities\",\n",
    "    \"69\": \"Legal and accounting activities\",\n",
    "    \"70\": \"Activities of head offices; management consultancy activities\",\n",
    "    \"71\": \"Architectural and engineering activities; technical testing and analysis\",\n",
    "    \"72\": \"Scientific research and development\",\n",
    "    \"77\": \"Rental and leasing activities\",\n",
    "    \"78\": \"Employment activities\",\n",
    "    \"79\": \"Travel agency, tour operator and other reservation service and related activities\",\n",
    "    \"80\": \"Security and investigation activities\",\n",
    "    \"81\": \"Services to buildings and landscape activities\",\n",
    "    \"82\": \"Office administrative, office support and other business support activities\",\n",
    "}\n",
    "\n",
    "# Filter dictionary with activities present in the data\n",
    "filtered_nace_2_digits_descriptions_en = {\n",
    "    k: v for k, v in NACE_2_DIGITS_DESCRIPTIONS_EN.items() if k in unique_nace_2_digits\n",
    "}\n",
    "filtered_nace_2_digits_descriptions_en"
   ],
   "id": "21d39bd7ad250a4b",
   "outputs": [
    {
     "data": {
      "text/plain": [
       "{'10': 'Manufacture of food products',\n",
       " '11': 'Manufacture of beverages',\n",
       " '13': 'Manufacture of textiles',\n",
       " '14': 'Manufacture of wearing apparel',\n",
       " '16': 'Manufacture of wood and of products of wood and cork, except furniture; manufacture of articles of straw and plaiting materials',\n",
       " '17': 'Manufacture of paper and paper products',\n",
       " '18': 'Printing and reproduction of recorded media',\n",
       " '20': 'Manufacture of chemicals and chemical products',\n",
       " '21': 'Manufacture of basic pharmaceutical products and pharmaceutical preparations',\n",
       " '22': 'Manufacture of rubber and plastic products',\n",
       " '23': 'Manufacture of other non-metallic mineral products',\n",
       " '24': 'Manufacture of basic metals',\n",
       " '25': 'Manufacture of fabricated metal products, except machinery and equipment',\n",
       " '26': 'Manufacture of computer, electronic and optical products',\n",
       " '27': 'Manufacture of electrical equipment',\n",
       " '28': 'Manufacture of machinery and equipment n.e.c.',\n",
       " '29': 'Manufacture of motor vehicles, trailers and semi-trailers',\n",
       " '31': 'Manufacture of furniture',\n",
       " '32': 'Other manufacturing',\n",
       " '33': 'Repair and installation of machinery and equipment',\n",
       " '38': 'Waste collection, treatment and disposal activities; materials recovery',\n",
       " '52': 'Warehousing and support activities for transportation',\n",
       " '71': 'Architectural and engineering activities; technical testing and analysis',\n",
       " '82': 'Office administrative, office support and other business support activities'}"
      ]
     },
     "execution_count": 99,
     "metadata": {},
     "output_type": "execute_result"
    }
   ],
   "execution_count": 99
  },
  {
   "metadata": {
    "ExecuteTime": {
     "end_time": "2024-12-09T08:43:43.151062Z",
     "start_time": "2024-12-09T08:43:43.147461Z"
    }
   },
   "cell_type": "code",
   "source": [
    "# Test for N of unique values\n",
    "len(filtered_nace_2_digits_descriptions_en)"
   ],
   "id": "6a11616a3b87ac7",
   "outputs": [
    {
     "data": {
      "text/plain": [
       "24"
      ]
     },
     "execution_count": 100,
     "metadata": {},
     "output_type": "execute_result"
    }
   ],
   "execution_count": 100
  },
  {
   "metadata": {
    "ExecuteTime": {
     "end_time": "2024-12-09T08:43:43.550293Z",
     "start_time": "2024-12-09T08:43:43.547394Z"
    }
   },
   "cell_type": "code",
   "source": "# Todo: test for mistranslations",
   "id": "48ba5a0386981ee6",
   "outputs": [],
   "execution_count": 101
  },
  {
   "metadata": {
    "ExecuteTime": {
     "end_time": "2024-12-09T08:43:44.174929Z",
     "start_time": "2024-12-09T08:43:44.166957Z"
    }
   },
   "cell_type": "code",
   "source": [
    "# Map existing values in the `nace_2_digits` column to English\n",
    "df[\"nace_2_digits_description\"] = df[\"nace_2_digits_code\"].replace(\n",
    "    filtered_nace_2_digits_descriptions_en\n",
    ")\n",
    "\n",
    "# Display the updated DataFrame\n",
    "df.head()"
   ],
   "id": "9ecbeaf8e8a34116",
   "outputs": [
    {
     "data": {
      "text/plain": [
       "  project_code        size   incorporation_status                region  \\\n",
       "0          p_1       Μικρή  Υφιστάμενη Επιχείρηση          Ιονίων Νήσων   \n",
       "1          p_2      Μεσαία  Υφιστάμενη Επιχείρηση               Αττικής   \n",
       "2          p_2      Μεσαία  Υφιστάμενη Επιχείρηση               Αττικής   \n",
       "3          p_2      Μεσαία  Υφιστάμενη Επιχείρηση               Αττικής   \n",
       "4          p_3  Πολύ Μικρή  Υφιστάμενη Επιχείρηση  Κεντρικής Μακεδονίας   \n",
       "\n",
       "   investment_budget  public_funding nace_2_digits_code  \\\n",
       "0          482832.00       260504.28                 11   \n",
       "1          729388.06       255285.82                 25   \n",
       "2          729388.06       255285.82                 25   \n",
       "3          729388.06       255285.82                 28   \n",
       "4          359000.00       251300.00                 31   \n",
       "\n",
       "                           nace_2_digits_description sector_code  \\\n",
       "0                           Manufacture of beverages           C   \n",
       "1  Manufacture of fabricated metal products, exce...           C   \n",
       "2  Manufacture of fabricated metal products, exce...           C   \n",
       "3      Manufacture of machinery and equipment n.e.c.           C   \n",
       "4                           Manufacture of furniture           C   \n",
       "\n",
       "  sector_description  \n",
       "0      Manufacturing  \n",
       "1      Manufacturing  \n",
       "2      Manufacturing  \n",
       "3      Manufacturing  \n",
       "4      Manufacturing  "
      ],
      "text/html": [
       "<div>\n",
       "<style scoped>\n",
       "    .dataframe tbody tr th:only-of-type {\n",
       "        vertical-align: middle;\n",
       "    }\n",
       "\n",
       "    .dataframe tbody tr th {\n",
       "        vertical-align: top;\n",
       "    }\n",
       "\n",
       "    .dataframe thead th {\n",
       "        text-align: right;\n",
       "    }\n",
       "</style>\n",
       "<table border=\"1\" class=\"dataframe\">\n",
       "  <thead>\n",
       "    <tr style=\"text-align: right;\">\n",
       "      <th></th>\n",
       "      <th>project_code</th>\n",
       "      <th>size</th>\n",
       "      <th>incorporation_status</th>\n",
       "      <th>region</th>\n",
       "      <th>investment_budget</th>\n",
       "      <th>public_funding</th>\n",
       "      <th>nace_2_digits_code</th>\n",
       "      <th>nace_2_digits_description</th>\n",
       "      <th>sector_code</th>\n",
       "      <th>sector_description</th>\n",
       "    </tr>\n",
       "  </thead>\n",
       "  <tbody>\n",
       "    <tr>\n",
       "      <th>0</th>\n",
       "      <td>p_1</td>\n",
       "      <td>Μικρή</td>\n",
       "      <td>Υφιστάμενη Επιχείρηση</td>\n",
       "      <td>Ιονίων Νήσων</td>\n",
       "      <td>482832.00</td>\n",
       "      <td>260504.28</td>\n",
       "      <td>11</td>\n",
       "      <td>Manufacture of beverages</td>\n",
       "      <td>C</td>\n",
       "      <td>Manufacturing</td>\n",
       "    </tr>\n",
       "    <tr>\n",
       "      <th>1</th>\n",
       "      <td>p_2</td>\n",
       "      <td>Μεσαία</td>\n",
       "      <td>Υφιστάμενη Επιχείρηση</td>\n",
       "      <td>Αττικής</td>\n",
       "      <td>729388.06</td>\n",
       "      <td>255285.82</td>\n",
       "      <td>25</td>\n",
       "      <td>Manufacture of fabricated metal products, exce...</td>\n",
       "      <td>C</td>\n",
       "      <td>Manufacturing</td>\n",
       "    </tr>\n",
       "    <tr>\n",
       "      <th>2</th>\n",
       "      <td>p_2</td>\n",
       "      <td>Μεσαία</td>\n",
       "      <td>Υφιστάμενη Επιχείρηση</td>\n",
       "      <td>Αττικής</td>\n",
       "      <td>729388.06</td>\n",
       "      <td>255285.82</td>\n",
       "      <td>25</td>\n",
       "      <td>Manufacture of fabricated metal products, exce...</td>\n",
       "      <td>C</td>\n",
       "      <td>Manufacturing</td>\n",
       "    </tr>\n",
       "    <tr>\n",
       "      <th>3</th>\n",
       "      <td>p_2</td>\n",
       "      <td>Μεσαία</td>\n",
       "      <td>Υφιστάμενη Επιχείρηση</td>\n",
       "      <td>Αττικής</td>\n",
       "      <td>729388.06</td>\n",
       "      <td>255285.82</td>\n",
       "      <td>28</td>\n",
       "      <td>Manufacture of machinery and equipment n.e.c.</td>\n",
       "      <td>C</td>\n",
       "      <td>Manufacturing</td>\n",
       "    </tr>\n",
       "    <tr>\n",
       "      <th>4</th>\n",
       "      <td>p_3</td>\n",
       "      <td>Πολύ Μικρή</td>\n",
       "      <td>Υφιστάμενη Επιχείρηση</td>\n",
       "      <td>Κεντρικής Μακεδονίας</td>\n",
       "      <td>359000.00</td>\n",
       "      <td>251300.00</td>\n",
       "      <td>31</td>\n",
       "      <td>Manufacture of furniture</td>\n",
       "      <td>C</td>\n",
       "      <td>Manufacturing</td>\n",
       "    </tr>\n",
       "  </tbody>\n",
       "</table>\n",
       "</div>"
      ]
     },
     "execution_count": 102,
     "metadata": {},
     "output_type": "execute_result"
    }
   ],
   "execution_count": 102
  },
  {
   "metadata": {
    "ExecuteTime": {
     "end_time": "2024-12-09T08:43:45.778022Z",
     "start_time": "2024-12-09T08:43:45.774440Z"
    }
   },
   "cell_type": "code",
   "source": [
    "# Translate the 'size' column\n",
    "size_values = df[\"size\"].unique()\n",
    "size_values"
   ],
   "id": "2faf7bbe658e8419",
   "outputs": [
    {
     "data": {
      "text/plain": [
       "array(['Μικρή', 'Μεσαία', 'Πολύ Μικρή'], dtype=object)"
      ]
     },
     "execution_count": 103,
     "metadata": {},
     "output_type": "execute_result"
    }
   ],
   "execution_count": 103
  },
  {
   "metadata": {
    "ExecuteTime": {
     "end_time": "2024-12-09T08:43:46.164328Z",
     "start_time": "2024-12-09T08:43:46.161095Z"
    }
   },
   "cell_type": "code",
   "source": [
    "# Use the size_values array as keys to create dictionary\n",
    "SIZE_TRANSLATIONS = {\n",
    "    \"Μικρή\": \"Small\",\n",
    "    \"Μεσαία\": \"Medium\",\n",
    "    \"Πολύ Μικρή\": \"Micro\",\n",
    "}\n",
    "\n",
    "# Map existing values in the `size` column to English\n",
    "# df['size'] = df['size'].map(SIZE_TRANSLATIONS)\n",
    "df[\"size\"] = df[\"size\"].replace(SIZE_TRANSLATIONS)"
   ],
   "id": "6835022f23b3448f",
   "outputs": [],
   "execution_count": 104
  },
  {
   "metadata": {
    "ExecuteTime": {
     "end_time": "2024-12-09T08:43:46.634736Z",
     "start_time": "2024-12-09T08:43:46.630914Z"
    }
   },
   "cell_type": "code",
   "source": [
    "df[\"size\"].unique()"
   ],
   "id": "90415cc45a584215",
   "outputs": [
    {
     "data": {
      "text/plain": [
       "array(['Small', 'Medium', 'Micro'], dtype=object)"
      ]
     },
     "execution_count": 105,
     "metadata": {},
     "output_type": "execute_result"
    }
   ],
   "execution_count": 105
  },
  {
   "metadata": {
    "ExecuteTime": {
     "end_time": "2024-12-09T08:43:47.114998Z",
     "start_time": "2024-12-09T08:43:47.109848Z"
    }
   },
   "cell_type": "code",
   "source": [
    "# Translate the 'incorporation_status' column\n",
    "df[\"incorporation_status\"].unique()"
   ],
   "id": "d9df4fb8cb0fb20d",
   "outputs": [
    {
     "data": {
      "text/plain": [
       "array(['Υφιστάμενη Επιχείρηση', 'Νέα Επιχείρηση'], dtype=object)"
      ]
     },
     "execution_count": 106,
     "metadata": {},
     "output_type": "execute_result"
    }
   ],
   "execution_count": 106
  },
  {
   "metadata": {
    "ExecuteTime": {
     "end_time": "2024-12-09T08:43:47.365308Z",
     "start_time": "2024-12-09T08:43:47.360168Z"
    }
   },
   "cell_type": "code",
   "source": [
    "INCORP_TRANSLATIONS = {\n",
    "    \"Υφιστάμενη Επιχείρηση\": \"Existing Business\",\n",
    "    \"Νέα Επιχείρηση\": \"New Business\",\n",
    "}\n",
    "\n",
    "# Map existing values in the `incorporation_status` column to English\n",
    "df[\"incorporation_status\"] = df[\"incorporation_status\"].replace(INCORP_TRANSLATIONS)"
   ],
   "id": "eae92ca797a232a5",
   "outputs": [],
   "execution_count": 107
  },
  {
   "metadata": {
    "ExecuteTime": {
     "end_time": "2024-12-09T08:43:47.589165Z",
     "start_time": "2024-12-09T08:43:47.583961Z"
    }
   },
   "cell_type": "code",
   "source": [
    "# Translate the 'region' column values\n",
    "df[\"region\"].unique()"
   ],
   "id": "94729babe3bf3c17",
   "outputs": [
    {
     "data": {
      "text/plain": [
       "array(['Ιονίων Νήσων', 'Αττικής', 'Κεντρικής Μακεδονίας', 'Θεσσαλίας',\n",
       "       'Κρήτης', 'Στερεάς Ελλάδας', 'Ηπείρου', 'Πελοποννήσου',\n",
       "       'Δυτικής Ελλάδας', 'Ανατολικής Μακεδονίας και Θράκης',\n",
       "       'Δυτικής Μακεδονίας', 'Νοτίου Αιγαίου', 'Βορείου Αιγαίου'],\n",
       "      dtype=object)"
      ]
     },
     "execution_count": 108,
     "metadata": {},
     "output_type": "execute_result"
    }
   ],
   "execution_count": 108
  },
  {
   "metadata": {
    "ExecuteTime": {
     "end_time": "2024-12-09T08:43:48.303722Z",
     "start_time": "2024-12-09T08:43:48.299457Z"
    }
   },
   "cell_type": "code",
   "source": [
    "REGION_TRANSLATIONS = {\n",
    "    \"Ιονίων Νήσων\": \"Ionian Islands\",\n",
    "    \"Αττικής\": \"Attica\",\n",
    "    \"Κεντρικής Μακεδονίας\": \"Central Macedonia\",\n",
    "    \"Θεσσαλίας\": \"Thessaly\",\n",
    "    \"Κρήτης\": \"Crete\",\n",
    "    \"Στερεάς Ελλάδας\": \"Central Greece\",\n",
    "    \"Ηπείρου\": \"Epirus\",\n",
    "    \"Πελοποννήσου\": \"Peloponnese\",\n",
    "    \"Δυτικής Ελλάδας\": \"Western Greece\",\n",
    "    \"Ανατολικής Μακεδονίας και Θράκης\": \"Eastern Macedonia and Thrace\",\n",
    "    \"Δυτικής Μακεδονίας\": \"Western Macedonia\",\n",
    "    \"Νοτίου Αιγαίου\": \"South Aegean\",\n",
    "    \"Βορείου Αιγαίου\": \"North Aegean\",\n",
    "}\n",
    "\n",
    "# Map existing values in the `region` column to English\n",
    "df[\"region\"] = df[\"region\"].replace(REGION_TRANSLATIONS)"
   ],
   "id": "899fc252b8caf5cd",
   "outputs": [],
   "execution_count": 109
  },
  {
   "metadata": {
    "ExecuteTime": {
     "end_time": "2024-12-09T08:43:49.116115Z",
     "start_time": "2024-12-09T08:43:49.111962Z"
    }
   },
   "cell_type": "code",
   "source": [
    "df[\"region\"].unique()"
   ],
   "id": "51468a3f46f6af08",
   "outputs": [
    {
     "data": {
      "text/plain": [
       "array(['Ionian Islands', 'Attica', 'Central Macedonia', 'Thessaly',\n",
       "       'Crete', 'Central Greece', 'Epirus', 'Peloponnese',\n",
       "       'Western Greece', 'Eastern Macedonia and Thrace',\n",
       "       'Western Macedonia', 'South Aegean', 'North Aegean'], dtype=object)"
      ]
     },
     "execution_count": 110,
     "metadata": {},
     "output_type": "execute_result"
    }
   ],
   "execution_count": 110
  },
  {
   "metadata": {
    "ExecuteTime": {
     "end_time": "2024-12-09T08:43:51.526680Z",
     "start_time": "2024-12-09T08:43:51.515335Z"
    }
   },
   "cell_type": "code",
   "source": "df.head(3)",
   "id": "8cbe722cc17700c6",
   "outputs": [
    {
     "data": {
      "text/plain": [
       "  project_code    size incorporation_status          region  \\\n",
       "0          p_1   Small    Existing Business  Ionian Islands   \n",
       "1          p_2  Medium    Existing Business          Attica   \n",
       "2          p_2  Medium    Existing Business          Attica   \n",
       "\n",
       "   investment_budget  public_funding nace_2_digits_code  \\\n",
       "0          482832.00       260504.28                 11   \n",
       "1          729388.06       255285.82                 25   \n",
       "2          729388.06       255285.82                 25   \n",
       "\n",
       "                           nace_2_digits_description sector_code  \\\n",
       "0                           Manufacture of beverages           C   \n",
       "1  Manufacture of fabricated metal products, exce...           C   \n",
       "2  Manufacture of fabricated metal products, exce...           C   \n",
       "\n",
       "  sector_description  \n",
       "0      Manufacturing  \n",
       "1      Manufacturing  \n",
       "2      Manufacturing  "
      ],
      "text/html": [
       "<div>\n",
       "<style scoped>\n",
       "    .dataframe tbody tr th:only-of-type {\n",
       "        vertical-align: middle;\n",
       "    }\n",
       "\n",
       "    .dataframe tbody tr th {\n",
       "        vertical-align: top;\n",
       "    }\n",
       "\n",
       "    .dataframe thead th {\n",
       "        text-align: right;\n",
       "    }\n",
       "</style>\n",
       "<table border=\"1\" class=\"dataframe\">\n",
       "  <thead>\n",
       "    <tr style=\"text-align: right;\">\n",
       "      <th></th>\n",
       "      <th>project_code</th>\n",
       "      <th>size</th>\n",
       "      <th>incorporation_status</th>\n",
       "      <th>region</th>\n",
       "      <th>investment_budget</th>\n",
       "      <th>public_funding</th>\n",
       "      <th>nace_2_digits_code</th>\n",
       "      <th>nace_2_digits_description</th>\n",
       "      <th>sector_code</th>\n",
       "      <th>sector_description</th>\n",
       "    </tr>\n",
       "  </thead>\n",
       "  <tbody>\n",
       "    <tr>\n",
       "      <th>0</th>\n",
       "      <td>p_1</td>\n",
       "      <td>Small</td>\n",
       "      <td>Existing Business</td>\n",
       "      <td>Ionian Islands</td>\n",
       "      <td>482832.00</td>\n",
       "      <td>260504.28</td>\n",
       "      <td>11</td>\n",
       "      <td>Manufacture of beverages</td>\n",
       "      <td>C</td>\n",
       "      <td>Manufacturing</td>\n",
       "    </tr>\n",
       "    <tr>\n",
       "      <th>1</th>\n",
       "      <td>p_2</td>\n",
       "      <td>Medium</td>\n",
       "      <td>Existing Business</td>\n",
       "      <td>Attica</td>\n",
       "      <td>729388.06</td>\n",
       "      <td>255285.82</td>\n",
       "      <td>25</td>\n",
       "      <td>Manufacture of fabricated metal products, exce...</td>\n",
       "      <td>C</td>\n",
       "      <td>Manufacturing</td>\n",
       "    </tr>\n",
       "    <tr>\n",
       "      <th>2</th>\n",
       "      <td>p_2</td>\n",
       "      <td>Medium</td>\n",
       "      <td>Existing Business</td>\n",
       "      <td>Attica</td>\n",
       "      <td>729388.06</td>\n",
       "      <td>255285.82</td>\n",
       "      <td>25</td>\n",
       "      <td>Manufacture of fabricated metal products, exce...</td>\n",
       "      <td>C</td>\n",
       "      <td>Manufacturing</td>\n",
       "    </tr>\n",
       "  </tbody>\n",
       "</table>\n",
       "</div>"
      ]
     },
     "execution_count": 111,
     "metadata": {},
     "output_type": "execute_result"
    }
   ],
   "execution_count": 111
  },
  {
   "cell_type": "markdown",
   "id": "6ab32946cff6d089",
   "metadata": {},
   "source": "### 3.7 Save data to csv to make it publicly available"
  },
  {
   "metadata": {
    "ExecuteTime": {
     "end_time": "2024-12-09T08:43:54.603302Z",
     "start_time": "2024-12-09T08:43:54.600155Z"
    }
   },
   "cell_type": "code",
   "source": [
    "# enforce that nace_2_digits is saved as string\n",
    "df[\"nace_2_digits_code\"] = df[\"nace_2_digits_code\"].astype(str)"
   ],
   "id": "3ac9cf19b19ac107",
   "outputs": [],
   "execution_count": 112
  },
  {
   "cell_type": "code",
   "id": "4e354c7828cbbdf3",
   "metadata": {
    "ExecuteTime": {
     "end_time": "2024-12-09T08:43:57.045864Z",
     "start_time": "2024-12-09T08:43:57.037785Z"
    }
   },
   "source": "df.to_csv(\"../data/smrt_manuf_projects_two_digit_activity.csv\", index=False)",
   "outputs": [],
   "execution_count": 113
  },
  {
   "cell_type": "markdown",
   "id": "2268ff61211e209a",
   "metadata": {},
   "source": ""
  }
 ],
 "metadata": {
  "kernelspec": {
   "display_name": "Python 3 (ipykernel)",
   "language": "python",
   "name": "python3"
  },
  "language_info": {
   "codemirror_mode": {
    "name": "ipython",
    "version": 3
   },
   "file_extension": ".py",
   "mimetype": "text/x-python",
   "name": "python",
   "nbconvert_exporter": "python",
   "pygments_lexer": "ipython3",
   "version": "3.12.7"
  }
 },
 "nbformat": 4,
 "nbformat_minor": 5
}
