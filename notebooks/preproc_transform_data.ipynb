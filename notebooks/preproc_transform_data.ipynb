{
 "cells": [
  {
   "cell_type": "markdown",
   "id": "eb1b29fe159d661",
   "metadata": {},
   "source": [
    "# Interactive Data validation and preparation file."
   ]
  },
  {
   "metadata": {
    "ExecuteTime": {
     "end_time": "2024-12-08T14:09:04.860249Z",
     "start_time": "2024-12-08T14:09:04.857085Z"
    }
   },
   "cell_type": "code",
   "source": [
    "# Todo: Refactor all translations process. Script to create dictionanries, dump to json, fuction to create english, french, greek data files."
   ],
   "id": "92972d8fbd53aa6b",
   "outputs": [],
   "execution_count": 80
  },
  {
   "cell_type": "code",
   "id": "cafe2daa4c73ac20",
   "metadata": {
    "ExecuteTime": {
     "end_time": "2024-12-08T14:09:04.907952Z",
     "start_time": "2024-12-08T14:09:04.903196Z"
    }
   },
   "source": [
    "import pandas as pd\n",
    "import numpy as np\n",
    "\n",
    "from parse_nace_codes import parse_nace_codes\n",
    "\n",
    "# Display numpy numbers with two decimal places\n",
    "np.set_printoptions(precision=2)\n",
    "\n",
    "# Display pandas numbers with two decimal places\n",
    "pd.set_option(\"display.float_format\", lambda x: \"%.2f\" % x)"
   ],
   "outputs": [],
   "execution_count": 81
  },
  {
   "cell_type": "code",
   "id": "73772dda7eac9af",
   "metadata": {
    "ExecuteTime": {
     "end_time": "2024-12-08T14:09:04.965957Z",
     "start_time": "2024-12-08T14:09:04.963255Z"
    }
   },
   "source": [
    "# Files location\n",
    "mis_file_path = \"../data/rrf_smrt_manuf_mis_granular_data.xlsx\"\n",
    "official_data_file_path = \"../data/rrf_smrt_manuf_funded_proposals_official_data.xlsx\""
   ],
   "outputs": [],
   "execution_count": 82
  },
  {
   "cell_type": "markdown",
   "id": "7e314652b14c0329",
   "metadata": {},
   "source": [
    "## Read Management Information System (MIS) data"
   ]
  },
  {
   "cell_type": "code",
   "id": "366ff6df96e326c1",
   "metadata": {
    "ExecuteTime": {
     "end_time": "2024-12-08T14:09:05.213826Z",
     "start_time": "2024-12-08T14:09:04.993853Z"
    }
   },
   "source": [
    "# Load MIS excel file\n",
    "with pd.ExcelFile(mis_file_path, engine=\"openpyxl\") as mis_excel_file:\n",
    "    # Get sheet names list\n",
    "    sheet_names = mis_excel_file.sheet_names\n",
    "\n",
    "    # Get sheets as dicts\n",
    "    mis_dfs = pd.read_excel(\n",
    "        mis_file_path,\n",
    "        sheet_name=sheet_names,\n",
    "        engine=\"openpyxl\",\n",
    "    )"
   ],
   "outputs": [],
   "execution_count": 83
  },
  {
   "cell_type": "code",
   "id": "8417cf8cdcec29be",
   "metadata": {
    "ExecuteTime": {
     "end_time": "2024-12-08T14:09:05.239861Z",
     "start_time": "2024-12-08T14:09:05.237312Z"
    }
   },
   "source": [
    "# Convert sheets dictionaries to dataframes\n",
    "mis_proposals_df = mis_dfs[sheet_names[0]]\n",
    "mis_sectors_df = mis_dfs[sheet_names[1]]"
   ],
   "outputs": [],
   "execution_count": 84
  },
  {
   "cell_type": "code",
   "id": "af29555e7950e55",
   "metadata": {
    "ExecuteTime": {
     "end_time": "2024-12-08T14:09:05.269249Z",
     "start_time": "2024-12-08T14:09:05.265529Z"
    }
   },
   "source": [
    "mis_proposals_df.columns"
   ],
   "outputs": [
    {
     "data": {
      "text/plain": [
       "Index(['Κωδικός Πρότασης', 'ΦΑΣΗ ΠΡΟΤΑΣΗΣ', 'Κατάσταση Αιτήματος',\n",
       "       'Τρέχουσα Κατάσταση Πρότασης', 'Επωνυμία Φορέα', 'Μέγεθος',\n",
       "       'Είδος Επιχείρησης', 'Περιφέρεια (unique)', 'ΠΕ (unique)',\n",
       "       'Συνολικός Προϋπολογισμός', 'Επιχορηγούμενος Προϋπολογισμός',\n",
       "       'Αιτούμενη Επιχορήγηση (ΔΔ)'],\n",
       "      dtype='object')"
      ]
     },
     "execution_count": 85,
     "metadata": {},
     "output_type": "execute_result"
    }
   ],
   "execution_count": 85
  },
  {
   "cell_type": "code",
   "id": "a9c06d5a419141c6",
   "metadata": {
    "ExecuteTime": {
     "end_time": "2024-12-08T14:09:05.298173Z",
     "start_time": "2024-12-08T14:09:05.295244Z"
    }
   },
   "source": [
    "# remove 'Επωνυμία Φορέα' column\n",
    "mis_proposals_df = mis_proposals_df.drop(columns=[\"Επωνυμία Φορέα\"])"
   ],
   "outputs": [],
   "execution_count": 86
  },
  {
   "cell_type": "code",
   "id": "4adddcc3c525a982",
   "metadata": {
    "ExecuteTime": {
     "end_time": "2024-12-08T14:09:05.327784Z",
     "start_time": "2024-12-08T14:09:05.323808Z"
    }
   },
   "source": [
    "mis_proposals_df[\"Κατάσταση Αιτήματος\"].unique()"
   ],
   "outputs": [
    {
     "data": {
      "text/plain": [
       "array(['Απορριφθείσα', 'Εγκεκριμένη',\n",
       "       'Έχει υποβληθεί - Δεν έχει παραληφθεί'], dtype=object)"
      ]
     },
     "execution_count": 87,
     "metadata": {},
     "output_type": "execute_result"
    }
   ],
   "execution_count": 87
  },
  {
   "cell_type": "code",
   "id": "171e5ddc1f10d52",
   "metadata": {
    "ExecuteTime": {
     "end_time": "2024-12-08T14:09:05.358103Z",
     "start_time": "2024-12-08T14:09:05.355127Z"
    }
   },
   "source": [
    "mis_approved_proposals = mis_proposals_df[\n",
    "    mis_proposals_df[\"Κατάσταση Αιτήματος\"] == \"Εγκεκριμένη\"\n",
    "]"
   ],
   "outputs": [],
   "execution_count": 88
  },
  {
   "cell_type": "code",
   "id": "9d42ae4756dbfb7d",
   "metadata": {
    "ExecuteTime": {
     "end_time": "2024-12-08T14:09:05.388749Z",
     "start_time": "2024-12-08T14:09:05.385283Z"
    }
   },
   "source": [
    "mis_approved_codes_list = list(mis_approved_proposals[\"Κωδικός Πρότασης\"].values)\n",
    "# strip all whitespaces\n",
    "mis_approved_codes_list = [x.strip() for x in mis_approved_codes_list]"
   ],
   "outputs": [],
   "execution_count": 89
  },
  {
   "cell_type": "markdown",
   "id": "1ac4c1be80f68ea9",
   "metadata": {},
   "source": [
    "## Read official published data"
   ]
  },
  {
   "cell_type": "code",
   "id": "3c0de1a9dea1ed07",
   "metadata": {
    "ExecuteTime": {
     "end_time": "2024-12-08T14:09:05.441065Z",
     "start_time": "2024-12-08T14:09:05.415012Z"
    }
   },
   "source": [
    "official_data_df = pd.read_excel(official_data_file_path, engine=\"openpyxl\")"
   ],
   "outputs": [],
   "execution_count": 90
  },
  {
   "cell_type": "code",
   "id": "cd591a17ebd2ce1e",
   "metadata": {
    "ExecuteTime": {
     "end_time": "2024-12-08T14:09:05.466210Z",
     "start_time": "2024-12-08T14:09:05.463598Z"
    }
   },
   "source": [
    "official_projects_codes_list = list(official_data_df[\"Κωδικός Πρότασης\"].values)\n",
    "# strip all whitespaces\n",
    "official_projects_codes_list = [x.strip() for x in official_projects_codes_list]"
   ],
   "outputs": [],
   "execution_count": 91
  },
  {
   "cell_type": "markdown",
   "id": "17ed6255396f1067",
   "metadata": {},
   "source": "### 1. Data validation and quality"
  },
  {
   "cell_type": "code",
   "id": "b8c7d08c0d537f21",
   "metadata": {
    "ExecuteTime": {
     "end_time": "2024-12-08T14:09:05.496352Z",
     "start_time": "2024-12-08T14:09:05.492542Z"
    }
   },
   "source": [
    "# Test if both lists have the same length\n",
    "len(official_projects_codes_list) == len(mis_approved_codes_list)"
   ],
   "outputs": [
    {
     "data": {
      "text/plain": [
       "True"
      ]
     },
     "execution_count": 92,
     "metadata": {},
     "output_type": "execute_result"
    }
   ],
   "execution_count": 92
  },
  {
   "cell_type": "code",
   "id": "7eb2ca3f59a4f46",
   "metadata": {
    "ExecuteTime": {
     "end_time": "2024-12-08T14:09:05.550690Z",
     "start_time": "2024-12-08T14:09:05.546336Z"
    }
   },
   "source": [
    "# Compare items in the two lists\n",
    "# TODO: refactor using sets\n",
    "items_not_in_mis = [\n",
    "    item for item in official_projects_codes_list if item not in mis_approved_codes_list\n",
    "]\n",
    "items_not_in_mis"
   ],
   "outputs": [
    {
     "data": {
      "text/plain": [
       "[]"
      ]
     },
     "execution_count": 93,
     "metadata": {},
     "output_type": "execute_result"
    }
   ],
   "execution_count": 93
  },
  {
   "cell_type": "code",
   "id": "8e3c6ba2a7b6652e",
   "metadata": {
    "ExecuteTime": {
     "end_time": "2024-12-08T14:09:05.600196Z",
     "start_time": "2024-12-08T14:09:05.597243Z"
    }
   },
   "source": [
    "# TODO: Test if total approved budget is the same in both datasets"
   ],
   "outputs": [],
   "execution_count": 94
  },
  {
   "cell_type": "code",
   "id": "922b241e6eac73ff",
   "metadata": {
    "ExecuteTime": {
     "end_time": "2024-12-08T14:09:05.653259Z",
     "start_time": "2024-12-08T14:09:05.649616Z"
    }
   },
   "source": [
    "# Test if all proposals have been reviewed and submitted in the MIS\n",
    "mis_proposals_df[\"Κατάσταση Αιτήματος\"].unique()"
   ],
   "outputs": [
    {
     "data": {
      "text/plain": [
       "array(['Απορριφθείσα', 'Εγκεκριμένη',\n",
       "       'Έχει υποβληθεί - Δεν έχει παραληφθεί'], dtype=object)"
      ]
     },
     "execution_count": 95,
     "metadata": {},
     "output_type": "execute_result"
    }
   ],
   "execution_count": 95
  },
  {
   "cell_type": "code",
   "id": "3e0c3662a077b02f",
   "metadata": {
    "ExecuteTime": {
     "end_time": "2024-12-08T14:09:05.711446Z",
     "start_time": "2024-12-08T14:09:05.704196Z"
    }
   },
   "source": [
    "non_submitted_df = mis_proposals_df[\n",
    "    mis_proposals_df[\"Κατάσταση Αιτήματος\"] == \"Έχει υποβληθεί - Δεν έχει παραληφθεί\"\n",
    "]  # Rejected proposal.\n",
    "non_submitted_df"
   ],
   "outputs": [
    {
     "data": {
      "text/plain": [
       "                   Κωδικός Πρότασης        ΦΑΣΗ ΠΡΟΤΑΣΗΣ  \\\n",
       "127  ΕΞΜΠ-0544761                    Γνωμοδοτική Ένταξης   \n",
       "\n",
       "                      Κατάσταση Αιτήματος Τρέχουσα Κατάσταση Πρότασης  \\\n",
       "127  Έχει υποβληθεί - Δεν έχει παραληφθεί                Απορριφθείσα   \n",
       "\n",
       "        Μέγεθος      Είδος Επιχείρησης Περιφέρεια (unique) ΠΕ (unique)  \\\n",
       "127  Πολύ Μικρή  Υφιστάμενη Επιχείρηση              Κρήτης    ΛΑΣΙΘΙΟΥ   \n",
       "\n",
       "     Συνολικός Προϋπολογισμός  Επιχορηγούμενος Προϋπολογισμός  \\\n",
       "127                 276605.80                       276605.80   \n",
       "\n",
       "     Αιτούμενη Επιχορήγηση (ΔΔ)  \n",
       "127                   165963.48  "
      ],
      "text/html": [
       "<div>\n",
       "<style scoped>\n",
       "    .dataframe tbody tr th:only-of-type {\n",
       "        vertical-align: middle;\n",
       "    }\n",
       "\n",
       "    .dataframe tbody tr th {\n",
       "        vertical-align: top;\n",
       "    }\n",
       "\n",
       "    .dataframe thead th {\n",
       "        text-align: right;\n",
       "    }\n",
       "</style>\n",
       "<table border=\"1\" class=\"dataframe\">\n",
       "  <thead>\n",
       "    <tr style=\"text-align: right;\">\n",
       "      <th></th>\n",
       "      <th>Κωδικός Πρότασης</th>\n",
       "      <th>ΦΑΣΗ ΠΡΟΤΑΣΗΣ</th>\n",
       "      <th>Κατάσταση Αιτήματος</th>\n",
       "      <th>Τρέχουσα Κατάσταση Πρότασης</th>\n",
       "      <th>Μέγεθος</th>\n",
       "      <th>Είδος Επιχείρησης</th>\n",
       "      <th>Περιφέρεια (unique)</th>\n",
       "      <th>ΠΕ (unique)</th>\n",
       "      <th>Συνολικός Προϋπολογισμός</th>\n",
       "      <th>Επιχορηγούμενος Προϋπολογισμός</th>\n",
       "      <th>Αιτούμενη Επιχορήγηση (ΔΔ)</th>\n",
       "    </tr>\n",
       "  </thead>\n",
       "  <tbody>\n",
       "    <tr>\n",
       "      <th>127</th>\n",
       "      <td>ΕΞΜΠ-0544761</td>\n",
       "      <td>Γνωμοδοτική Ένταξης</td>\n",
       "      <td>Έχει υποβληθεί - Δεν έχει παραληφθεί</td>\n",
       "      <td>Απορριφθείσα</td>\n",
       "      <td>Πολύ Μικρή</td>\n",
       "      <td>Υφιστάμενη Επιχείρηση</td>\n",
       "      <td>Κρήτης</td>\n",
       "      <td>ΛΑΣΙΘΙΟΥ</td>\n",
       "      <td>276605.80</td>\n",
       "      <td>276605.80</td>\n",
       "      <td>165963.48</td>\n",
       "    </tr>\n",
       "  </tbody>\n",
       "</table>\n",
       "</div>"
      ]
     },
     "execution_count": 96,
     "metadata": {},
     "output_type": "execute_result"
    }
   ],
   "execution_count": 96
  },
  {
   "cell_type": "markdown",
   "id": "24f928f5430ffab3",
   "metadata": {},
   "source": "### 2. Drop and rename columns"
  },
  {
   "cell_type": "code",
   "id": "390920f312372208",
   "metadata": {
    "ExecuteTime": {
     "end_time": "2024-12-08T14:09:05.765879Z",
     "start_time": "2024-12-08T14:09:05.763464Z"
    }
   },
   "source": [
    "df = mis_approved_proposals"
   ],
   "outputs": [],
   "execution_count": 97
  },
  {
   "cell_type": "code",
   "id": "1a2c702092ac2ccc",
   "metadata": {
    "ExecuteTime": {
     "end_time": "2024-12-08T14:09:05.820437Z",
     "start_time": "2024-12-08T14:09:05.817202Z"
    }
   },
   "source": [
    "cols_to_drop = [\"ΦΑΣΗ ΠΡΟΤΑΣΗΣ\", \"Κατάσταση Αιτήματος\", \"Τρέχουσα Κατάσταση Πρότασης\"]\n",
    "df = df.drop(columns=cols_to_drop)"
   ],
   "outputs": [],
   "execution_count": 98
  },
  {
   "cell_type": "code",
   "id": "b7f81622b883b024",
   "metadata": {
    "ExecuteTime": {
     "end_time": "2024-12-08T14:09:05.866228Z",
     "start_time": "2024-12-08T14:09:05.862383Z"
    }
   },
   "source": [
    "df.columns"
   ],
   "outputs": [
    {
     "data": {
      "text/plain": [
       "Index(['Κωδικός Πρότασης', 'Μέγεθος', 'Είδος Επιχείρησης',\n",
       "       'Περιφέρεια (unique)', 'ΠΕ (unique)', 'Συνολικός Προϋπολογισμός',\n",
       "       'Επιχορηγούμενος Προϋπολογισμός', 'Αιτούμενη Επιχορήγηση (ΔΔ)'],\n",
       "      dtype='object')"
      ]
     },
     "execution_count": 99,
     "metadata": {},
     "output_type": "execute_result"
    }
   ],
   "execution_count": 99
  },
  {
   "cell_type": "code",
   "id": "a67ec5e5bf9b6e05",
   "metadata": {
    "ExecuteTime": {
     "end_time": "2024-12-08T14:09:05.917669Z",
     "start_time": "2024-12-08T14:09:05.914695Z"
    }
   },
   "source": [
    "# rename, translate column names\n",
    "df.columns = [\n",
    "    \"project_code\",\n",
    "    \"size\",\n",
    "    \"incorporation_status\",\n",
    "    \"region\",\n",
    "    \"regional_unit\",\n",
    "    \"investment_budget\",\n",
    "    \"eligible_budget\",\n",
    "    \"public_funding\",\n",
    "]"
   ],
   "outputs": [],
   "execution_count": 100
  },
  {
   "metadata": {
    "ExecuteTime": {
     "end_time": "2024-12-08T14:09:05.968854Z",
     "start_time": "2024-12-08T14:09:05.965039Z"
    }
   },
   "cell_type": "code",
   "source": "df.project_code.unique()[:3]",
   "id": "1ec9a1f89fe2e840",
   "outputs": [
    {
     "data": {
      "text/plain": [
       "array(['ΕΞΜΠ-0543351                  ', 'ΕΞΜΠ-0543354                  ',\n",
       "       'ΕΞΜΠ-0543368                  '], dtype=object)"
      ]
     },
     "execution_count": 101,
     "metadata": {},
     "output_type": "execute_result"
    }
   ],
   "execution_count": 101
  },
  {
   "metadata": {
    "ExecuteTime": {
     "end_time": "2024-12-08T14:09:06.019642Z",
     "start_time": "2024-12-08T14:09:06.016515Z"
    }
   },
   "cell_type": "code",
   "source": [
    "# strip whitespaces from df[\"project_code\"]\n",
    "df[\"project_code\"] = df[\"project_code\"].str.strip()"
   ],
   "id": "a456bb585c4051b7",
   "outputs": [],
   "execution_count": 102
  },
  {
   "cell_type": "code",
   "id": "93e54edc197c7e51",
   "metadata": {
    "ExecuteTime": {
     "end_time": "2024-12-08T14:09:06.074740Z",
     "start_time": "2024-12-08T14:09:06.070777Z"
    }
   },
   "source": "mis_sectors_df.columns",
   "outputs": [
    {
     "data": {
      "text/plain": [
       "Index(['Κωδικός Πρότασης', 'ΚΑΔ', '4ψήφιος ΚΑΔ - Κωδικός', 'Περιγραφή ΚΑΔ',\n",
       "       'Κύριος ΚΑΔ', 'ΚΑΔ Επένδυσης?'],\n",
       "      dtype='object')"
      ]
     },
     "execution_count": 103,
     "metadata": {},
     "output_type": "execute_result"
    }
   ],
   "execution_count": 103
  },
  {
   "cell_type": "code",
   "id": "ee7a6f58c1eff6f4",
   "metadata": {
    "ExecuteTime": {
     "end_time": "2024-12-08T14:09:06.127587Z",
     "start_time": "2024-12-08T14:09:06.124980Z"
    }
   },
   "source": [
    "# keep only necessary columns\n",
    "mis_sectors_df.columns = [\n",
    "    \"project_code\",\n",
    "    \"nace_8_digits\",\n",
    "    \"nace_4_digits\",\n",
    "    \"description_nace_8_digits\",\n",
    "    \"main_nace\",\n",
    "    \"investment_nace\",\n",
    "]"
   ],
   "outputs": [],
   "execution_count": 104
  },
  {
   "cell_type": "code",
   "id": "bf91b78ac43f8c0a",
   "metadata": {
    "ExecuteTime": {
     "end_time": "2024-12-08T14:09:06.180558Z",
     "start_time": "2024-12-08T14:09:06.176398Z"
    }
   },
   "source": [
    "mis_sectors_df[\"investment_nace\"].unique()"
   ],
   "outputs": [
    {
     "data": {
      "text/plain": [
       "array(['NAI', 'OXI'], dtype=object)"
      ]
     },
     "execution_count": 105,
     "metadata": {},
     "output_type": "execute_result"
    }
   ],
   "execution_count": 105
  },
  {
   "metadata": {
    "ExecuteTime": {
     "end_time": "2024-12-08T14:09:06.229956Z",
     "start_time": "2024-12-08T14:09:06.225831Z"
    }
   },
   "cell_type": "code",
   "source": "mis_sectors_df[\"project_code\"].unique()[:3]",
   "id": "de93f3b3ad58af5b",
   "outputs": [
    {
     "data": {
      "text/plain": [
       "array(['ΕΞΜΠ-0543351                  ', 'ΕΞΜΠ-0543354                  ',\n",
       "       'ΕΞΜΠ-0543368                  '], dtype=object)"
      ]
     },
     "execution_count": 106,
     "metadata": {},
     "output_type": "execute_result"
    }
   ],
   "execution_count": 106
  },
  {
   "metadata": {
    "ExecuteTime": {
     "end_time": "2024-12-08T14:09:06.280961Z",
     "start_time": "2024-12-08T14:09:06.277606Z"
    }
   },
   "cell_type": "code",
   "source": [
    "# strip whitespaces from mis_sectors_df[\"project_code\"]\n",
    "mis_sectors_df[\"project_code\"] = mis_sectors_df[\"project_code\"].str.strip()"
   ],
   "id": "b5d65256448d3ca2",
   "outputs": [],
   "execution_count": 107
  },
  {
   "metadata": {
    "ExecuteTime": {
     "end_time": "2024-12-08T14:09:06.336831Z",
     "start_time": "2024-12-08T14:09:06.332603Z"
    }
   },
   "cell_type": "code",
   "source": "mis_sectors_df[\"project_code\"].unique()[:3]",
   "id": "a63b42f815ffe223",
   "outputs": [
    {
     "data": {
      "text/plain": [
       "array(['ΕΞΜΠ-0543351', 'ΕΞΜΠ-0543354', 'ΕΞΜΠ-0543368'], dtype=object)"
      ]
     },
     "execution_count": 108,
     "metadata": {},
     "output_type": "execute_result"
    }
   ],
   "execution_count": 108
  },
  {
   "metadata": {},
   "cell_type": "markdown",
   "source": "## 3. Focus on the approved proposals for investment",
   "id": "11d4a865e2092f56"
  },
  {
   "cell_type": "markdown",
   "id": "edecd016fde668cf",
   "metadata": {},
   "source": "### 3.1. Keep only investments' sectors"
  },
  {
   "cell_type": "code",
   "id": "fd1678fdc4dd5679",
   "metadata": {
    "ExecuteTime": {
     "end_time": "2024-12-08T14:09:06.384347Z",
     "start_time": "2024-12-08T14:09:06.380543Z"
    }
   },
   "source": [
    "investment_sectors = mis_sectors_df[mis_sectors_df[\"investment_nace\"] == \"NAI\"]"
   ],
   "outputs": [],
   "execution_count": 109
  },
  {
   "cell_type": "code",
   "id": "c3164d2f4298b044",
   "metadata": {
    "ExecuteTime": {
     "end_time": "2024-12-08T14:09:06.440980Z",
     "start_time": "2024-12-08T14:09:06.437073Z"
    }
   },
   "source": [
    "len(investment_sectors)"
   ],
   "outputs": [
    {
     "data": {
      "text/plain": [
       "351"
      ]
     },
     "execution_count": 110,
     "metadata": {},
     "output_type": "execute_result"
    }
   ],
   "execution_count": 110
  },
  {
   "cell_type": "code",
   "id": "e8d3f5d82dad90dd",
   "metadata": {
    "ExecuteTime": {
     "end_time": "2024-12-08T14:09:06.494313Z",
     "start_time": "2024-12-08T14:09:06.489582Z"
    }
   },
   "source": [
    "other_sectors = mis_sectors_df[mis_sectors_df[\"investment_nace\"] == \"OXI\"]\n",
    "len(other_sectors)"
   ],
   "outputs": [
    {
     "data": {
      "text/plain": [
       "1198"
      ]
     },
     "execution_count": 111,
     "metadata": {},
     "output_type": "execute_result"
    }
   ],
   "execution_count": 111
  },
  {
   "cell_type": "code",
   "id": "9dd884919db85a89",
   "metadata": {
    "ExecuteTime": {
     "end_time": "2024-12-08T14:09:06.569295Z",
     "start_time": "2024-12-08T14:09:06.565743Z"
    }
   },
   "source": [
    "len(mis_sectors_df[\"nace_4_digits\"].unique())"
   ],
   "outputs": [
    {
     "data": {
      "text/plain": [
       "307"
      ]
     },
     "execution_count": 112,
     "metadata": {},
     "output_type": "execute_result"
    }
   ],
   "execution_count": 112
  },
  {
   "cell_type": "code",
   "id": "c971b49f34959e0c",
   "metadata": {
    "ExecuteTime": {
     "end_time": "2024-12-08T14:09:06.625808Z",
     "start_time": "2024-12-08T14:09:06.618466Z"
    }
   },
   "source": [
    "investment_sectors.head(10)"
   ],
   "outputs": [
    {
     "data": {
      "text/plain": [
       "    project_code nace_8_digits  nace_4_digits  \\\n",
       "0   ΕΞΜΠ-0543351      11.05.10          11.05   \n",
       "3   ΕΞΜΠ-0543354      25.62.10          25.62   \n",
       "4   ΕΞΜΠ-0543354      25.62.20          25.62   \n",
       "5   ΕΞΜΠ-0543354      28.11.41          28.11   \n",
       "23  ΕΞΜΠ-0543368      31.02.10          31.02   \n",
       "24  ΕΞΜΠ-0543368      31.09.12          31.09   \n",
       "25  ΕΞΜΠ-0543368      31.09.13          31.09   \n",
       "26  ΕΞΜΠ-0543368   31.09.92.01          31.09   \n",
       "41  ΕΞΜΠ-0543374       25.62.1          25.62   \n",
       "42  ΕΞΜΠ-0543374         25.99          25.99   \n",
       "\n",
       "                            description_nace_8_digits main_nace  \\\n",
       "0     Παραγωγή μπίρας, εκτός από κατάλοιπα ζυθοποιίας       NAI   \n",
       "3                Υπηρεσίες τόρνευσης μεταλλικών μερών       OXI   \n",
       "4                      Άλλες υπηρεσίες μεταλλοτεχνίας       OXI   \n",
       "5   Κατασκευή μερών κινητήρων εσωτερικής καύσης στ...       NAI   \n",
       "23                         Κατασκευή επίπλων κουζίνας       OXI   \n",
       "24  Κατασκευή ξύλινων επίπλων που χρησιμοποιούνται...       NAI   \n",
       "25                 Κατασκευή ξύλινων επίπλων π.δ.κ.α.       OXI   \n",
       "26    Υπηρεσίες αποκατάστασης και ανακαίνισης επίπλων       OXI   \n",
       "41               Υπηρεσίες τόρνευσης μεταλλικών μερών       OXI   \n",
       "42      Κατασκευή άλλων μεταλλικών προϊόντων π.δ.κ.α.       OXI   \n",
       "\n",
       "   investment_nace  \n",
       "0              NAI  \n",
       "3              NAI  \n",
       "4              NAI  \n",
       "5              NAI  \n",
       "23             NAI  \n",
       "24             NAI  \n",
       "25             NAI  \n",
       "26             NAI  \n",
       "41             NAI  \n",
       "42             NAI  "
      ],
      "text/html": [
       "<div>\n",
       "<style scoped>\n",
       "    .dataframe tbody tr th:only-of-type {\n",
       "        vertical-align: middle;\n",
       "    }\n",
       "\n",
       "    .dataframe tbody tr th {\n",
       "        vertical-align: top;\n",
       "    }\n",
       "\n",
       "    .dataframe thead th {\n",
       "        text-align: right;\n",
       "    }\n",
       "</style>\n",
       "<table border=\"1\" class=\"dataframe\">\n",
       "  <thead>\n",
       "    <tr style=\"text-align: right;\">\n",
       "      <th></th>\n",
       "      <th>project_code</th>\n",
       "      <th>nace_8_digits</th>\n",
       "      <th>nace_4_digits</th>\n",
       "      <th>description_nace_8_digits</th>\n",
       "      <th>main_nace</th>\n",
       "      <th>investment_nace</th>\n",
       "    </tr>\n",
       "  </thead>\n",
       "  <tbody>\n",
       "    <tr>\n",
       "      <th>0</th>\n",
       "      <td>ΕΞΜΠ-0543351</td>\n",
       "      <td>11.05.10</td>\n",
       "      <td>11.05</td>\n",
       "      <td>Παραγωγή μπίρας, εκτός από κατάλοιπα ζυθοποιίας</td>\n",
       "      <td>NAI</td>\n",
       "      <td>NAI</td>\n",
       "    </tr>\n",
       "    <tr>\n",
       "      <th>3</th>\n",
       "      <td>ΕΞΜΠ-0543354</td>\n",
       "      <td>25.62.10</td>\n",
       "      <td>25.62</td>\n",
       "      <td>Υπηρεσίες τόρνευσης μεταλλικών μερών</td>\n",
       "      <td>OXI</td>\n",
       "      <td>NAI</td>\n",
       "    </tr>\n",
       "    <tr>\n",
       "      <th>4</th>\n",
       "      <td>ΕΞΜΠ-0543354</td>\n",
       "      <td>25.62.20</td>\n",
       "      <td>25.62</td>\n",
       "      <td>Άλλες υπηρεσίες μεταλλοτεχνίας</td>\n",
       "      <td>OXI</td>\n",
       "      <td>NAI</td>\n",
       "    </tr>\n",
       "    <tr>\n",
       "      <th>5</th>\n",
       "      <td>ΕΞΜΠ-0543354</td>\n",
       "      <td>28.11.41</td>\n",
       "      <td>28.11</td>\n",
       "      <td>Κατασκευή μερών κινητήρων εσωτερικής καύσης στ...</td>\n",
       "      <td>NAI</td>\n",
       "      <td>NAI</td>\n",
       "    </tr>\n",
       "    <tr>\n",
       "      <th>23</th>\n",
       "      <td>ΕΞΜΠ-0543368</td>\n",
       "      <td>31.02.10</td>\n",
       "      <td>31.02</td>\n",
       "      <td>Κατασκευή επίπλων κουζίνας</td>\n",
       "      <td>OXI</td>\n",
       "      <td>NAI</td>\n",
       "    </tr>\n",
       "    <tr>\n",
       "      <th>24</th>\n",
       "      <td>ΕΞΜΠ-0543368</td>\n",
       "      <td>31.09.12</td>\n",
       "      <td>31.09</td>\n",
       "      <td>Κατασκευή ξύλινων επίπλων που χρησιμοποιούνται...</td>\n",
       "      <td>NAI</td>\n",
       "      <td>NAI</td>\n",
       "    </tr>\n",
       "    <tr>\n",
       "      <th>25</th>\n",
       "      <td>ΕΞΜΠ-0543368</td>\n",
       "      <td>31.09.13</td>\n",
       "      <td>31.09</td>\n",
       "      <td>Κατασκευή ξύλινων επίπλων π.δ.κ.α.</td>\n",
       "      <td>OXI</td>\n",
       "      <td>NAI</td>\n",
       "    </tr>\n",
       "    <tr>\n",
       "      <th>26</th>\n",
       "      <td>ΕΞΜΠ-0543368</td>\n",
       "      <td>31.09.92.01</td>\n",
       "      <td>31.09</td>\n",
       "      <td>Υπηρεσίες αποκατάστασης και ανακαίνισης επίπλων</td>\n",
       "      <td>OXI</td>\n",
       "      <td>NAI</td>\n",
       "    </tr>\n",
       "    <tr>\n",
       "      <th>41</th>\n",
       "      <td>ΕΞΜΠ-0543374</td>\n",
       "      <td>25.62.1</td>\n",
       "      <td>25.62</td>\n",
       "      <td>Υπηρεσίες τόρνευσης μεταλλικών μερών</td>\n",
       "      <td>OXI</td>\n",
       "      <td>NAI</td>\n",
       "    </tr>\n",
       "    <tr>\n",
       "      <th>42</th>\n",
       "      <td>ΕΞΜΠ-0543374</td>\n",
       "      <td>25.99</td>\n",
       "      <td>25.99</td>\n",
       "      <td>Κατασκευή άλλων μεταλλικών προϊόντων π.δ.κ.α.</td>\n",
       "      <td>OXI</td>\n",
       "      <td>NAI</td>\n",
       "    </tr>\n",
       "  </tbody>\n",
       "</table>\n",
       "</div>"
      ]
     },
     "execution_count": 113,
     "metadata": {},
     "output_type": "execute_result"
    }
   ],
   "execution_count": 113
  },
  {
   "cell_type": "markdown",
   "id": "deece2357609a69",
   "metadata": {},
   "source": [
    "The description corresponds to the 6 or 8 digit NACE codes."
   ]
  },
  {
   "cell_type": "markdown",
   "id": "c241d403a0c1796f",
   "metadata": {},
   "source": [
    "### 3.2 Merge MIS approved proposals data with sectors data"
   ]
  },
  {
   "cell_type": "code",
   "id": "a71399f695ea9228",
   "metadata": {
    "ExecuteTime": {
     "end_time": "2024-12-08T14:09:06.678653Z",
     "start_time": "2024-12-08T14:09:06.674146Z"
    }
   },
   "source": [
    "# merge proposals and sectors dataframes on 'Κωδικός Πρότασης'\n",
    "merged_sectors_df = pd.merge(df, investment_sectors, on=\"project_code\")"
   ],
   "outputs": [],
   "execution_count": 114
  },
  {
   "cell_type": "code",
   "id": "bde21e153358544c",
   "metadata": {
    "ExecuteTime": {
     "end_time": "2024-12-08T14:09:06.731209Z",
     "start_time": "2024-12-08T14:09:06.728435Z"
    }
   },
   "source": [
    "len(merged_sectors_df)  # in 6 digits NACE codes"
   ],
   "outputs": [
    {
     "data": {
      "text/plain": [
       "351"
      ]
     },
     "execution_count": 115,
     "metadata": {},
     "output_type": "execute_result"
    }
   ],
   "execution_count": 115
  },
  {
   "cell_type": "code",
   "id": "19fd1d747ff92eb6",
   "metadata": {
    "ExecuteTime": {
     "end_time": "2024-12-08T14:09:06.762715Z",
     "start_time": "2024-12-08T14:09:06.759692Z"
    }
   },
   "source": [
    "merged_sectors_df[\"project_code\"].nunique()"
   ],
   "outputs": [
    {
     "data": {
      "text/plain": [
       "151"
      ]
     },
     "execution_count": 116,
     "metadata": {},
     "output_type": "execute_result"
    }
   ],
   "execution_count": 116
  },
  {
   "cell_type": "markdown",
   "id": "df68851f8ccc0866",
   "metadata": {},
   "source": [
    "#### Note: There are 351 sector rows for 151 projects. This is because many projects are investing in multiple sectors."
   ]
  },
  {
   "cell_type": "markdown",
   "id": "4726aaa158d648af",
   "metadata": {},
   "source": [
    "### 3.3 Convert NACE codes to two digits"
   ]
  },
  {
   "cell_type": "code",
   "id": "10ebfcc64479f930",
   "metadata": {
    "ExecuteTime": {
     "end_time": "2024-12-08T14:09:06.805925Z",
     "start_time": "2024-12-08T14:09:06.802322Z"
    }
   },
   "source": [
    "# test if there are codes below 10, that might miss the first zero\n",
    "sorted(merged_sectors_df[\"nace_4_digits\"].unique())[:5]"
   ],
   "outputs": [
    {
     "data": {
      "text/plain": [
       "[np.float64(10.13),\n",
       " np.float64(10.31),\n",
       " np.float64(10.39),\n",
       " np.float64(10.41),\n",
       " np.float64(10.51)]"
      ]
     },
     "execution_count": 117,
     "metadata": {},
     "output_type": "execute_result"
    }
   ],
   "execution_count": 117
  },
  {
   "cell_type": "code",
   "id": "24688babe25b7684",
   "metadata": {
    "ExecuteTime": {
     "end_time": "2024-12-08T14:09:06.859634Z",
     "start_time": "2024-12-08T14:09:06.856049Z"
    }
   },
   "source": [
    "# convert nace_4_digits and nace_8_digits to string. TODO: Do it in one line.\n",
    "merged_sectors_df[\"nace_4_digits\"] = merged_sectors_df[\"nace_4_digits\"].apply(str)\n",
    "merged_sectors_df[\"nace_8_digits\"] = merged_sectors_df[\"nace_8_digits\"].apply(str)"
   ],
   "outputs": [],
   "execution_count": 118
  },
  {
   "cell_type": "code",
   "id": "86f9e3a193c8b252",
   "metadata": {
    "ExecuteTime": {
     "end_time": "2024-12-08T14:09:06.909844Z",
     "start_time": "2024-12-08T14:09:06.907005Z"
    }
   },
   "source": [
    "# get first two digits of the nace_4_digits code and save it in a new column\n",
    "merged_sectors_df[\"nace_2_digits\"] = merged_sectors_df[\"nace_4_digits\"].apply(\n",
    "    lambda x: x[:2]\n",
    ")"
   ],
   "outputs": [],
   "execution_count": 119
  },
  {
   "cell_type": "code",
   "id": "6fc3aac150108e8a",
   "metadata": {
    "ExecuteTime": {
     "end_time": "2024-12-08T14:09:06.965517Z",
     "start_time": "2024-12-08T14:09:06.961793Z"
    }
   },
   "source": [
    "# data validation test\n",
    "merged_sectors_df.investment_nace.unique()"
   ],
   "outputs": [
    {
     "data": {
      "text/plain": [
       "array(['NAI'], dtype=object)"
      ]
     },
     "execution_count": 120,
     "metadata": {},
     "output_type": "execute_result"
    }
   ],
   "execution_count": 120
  },
  {
   "cell_type": "code",
   "id": "8f5e0c0f55c33607",
   "metadata": {
    "ExecuteTime": {
     "end_time": "2024-12-08T14:09:07.024100Z",
     "start_time": "2024-12-08T14:09:07.020163Z"
    }
   },
   "source": [
    "merged_sectors_df.columns"
   ],
   "outputs": [
    {
     "data": {
      "text/plain": [
       "Index(['project_code', 'size', 'incorporation_status', 'region',\n",
       "       'regional_unit', 'investment_budget', 'eligible_budget',\n",
       "       'public_funding', 'nace_8_digits', 'nace_4_digits',\n",
       "       'description_nace_8_digits', 'main_nace', 'investment_nace',\n",
       "       'nace_2_digits'],\n",
       "      dtype='object')"
      ]
     },
     "execution_count": 121,
     "metadata": {},
     "output_type": "execute_result"
    }
   ],
   "execution_count": 121
  },
  {
   "cell_type": "code",
   "id": "dd7f45138286abed",
   "metadata": {
    "ExecuteTime": {
     "end_time": "2024-12-08T14:09:07.072179Z",
     "start_time": "2024-12-08T14:09:07.068285Z"
    }
   },
   "source": [
    "# keep necessary columns for two digit sectoral analysis\n",
    "large_sectors_df = merged_sectors_df[\n",
    "    [\n",
    "        \"project_code\",\n",
    "        \"size\",\n",
    "        \"incorporation_status\",\n",
    "        \"region\",\n",
    "        \"investment_budget\",\n",
    "        \"public_funding\",\n",
    "        \"nace_2_digits\",\n",
    "    ]\n",
    "]"
   ],
   "outputs": [],
   "execution_count": 122
  },
  {
   "cell_type": "code",
   "id": "560de19fc8e806ca",
   "metadata": {
    "ExecuteTime": {
     "end_time": "2024-12-08T14:09:07.128859Z",
     "start_time": "2024-12-08T14:09:07.122651Z"
    }
   },
   "source": [
    "large_sectors_df.head(2)"
   ],
   "outputs": [
    {
     "data": {
      "text/plain": [
       "   project_code    size   incorporation_status        region  \\\n",
       "0  ΕΞΜΠ-0543351   Μικρή  Υφιστάμενη Επιχείρηση  Ιονίων Νήσων   \n",
       "1  ΕΞΜΠ-0543354  Μεσαία  Υφιστάμενη Επιχείρηση       Αττικής   \n",
       "\n",
       "   investment_budget  public_funding nace_2_digits  \n",
       "0          482832.00       260504.28            11  \n",
       "1          729388.06       255285.82            25  "
      ],
      "text/html": [
       "<div>\n",
       "<style scoped>\n",
       "    .dataframe tbody tr th:only-of-type {\n",
       "        vertical-align: middle;\n",
       "    }\n",
       "\n",
       "    .dataframe tbody tr th {\n",
       "        vertical-align: top;\n",
       "    }\n",
       "\n",
       "    .dataframe thead th {\n",
       "        text-align: right;\n",
       "    }\n",
       "</style>\n",
       "<table border=\"1\" class=\"dataframe\">\n",
       "  <thead>\n",
       "    <tr style=\"text-align: right;\">\n",
       "      <th></th>\n",
       "      <th>project_code</th>\n",
       "      <th>size</th>\n",
       "      <th>incorporation_status</th>\n",
       "      <th>region</th>\n",
       "      <th>investment_budget</th>\n",
       "      <th>public_funding</th>\n",
       "      <th>nace_2_digits</th>\n",
       "    </tr>\n",
       "  </thead>\n",
       "  <tbody>\n",
       "    <tr>\n",
       "      <th>0</th>\n",
       "      <td>ΕΞΜΠ-0543351</td>\n",
       "      <td>Μικρή</td>\n",
       "      <td>Υφιστάμενη Επιχείρηση</td>\n",
       "      <td>Ιονίων Νήσων</td>\n",
       "      <td>482832.00</td>\n",
       "      <td>260504.28</td>\n",
       "      <td>11</td>\n",
       "    </tr>\n",
       "    <tr>\n",
       "      <th>1</th>\n",
       "      <td>ΕΞΜΠ-0543354</td>\n",
       "      <td>Μεσαία</td>\n",
       "      <td>Υφιστάμενη Επιχείρηση</td>\n",
       "      <td>Αττικής</td>\n",
       "      <td>729388.06</td>\n",
       "      <td>255285.82</td>\n",
       "      <td>25</td>\n",
       "    </tr>\n",
       "  </tbody>\n",
       "</table>\n",
       "</div>"
      ]
     },
     "execution_count": 123,
     "metadata": {},
     "output_type": "execute_result"
    }
   ],
   "execution_count": 123
  },
  {
   "cell_type": "code",
   "id": "c0d9b4b5269dc199",
   "metadata": {
    "ExecuteTime": {
     "end_time": "2024-12-08T14:09:07.198370Z",
     "start_time": "2024-12-08T14:09:07.194361Z"
    }
   },
   "source": [
    "# Number of sectors\n",
    "large_sectors_df[\"nace_2_digits\"].nunique()"
   ],
   "outputs": [
    {
     "data": {
      "text/plain": [
       "24"
      ]
     },
     "execution_count": 124,
     "metadata": {},
     "output_type": "execute_result"
    }
   ],
   "execution_count": 124
  },
  {
   "cell_type": "markdown",
   "id": "7f70f7179aaf11bb",
   "metadata": {},
   "source": [
    "\n",
    "### 3.4 Add two digits sector descriptions"
   ]
  },
  {
   "cell_type": "code",
   "id": "5cacaaacb6d31650",
   "metadata": {
    "ExecuteTime": {
     "end_time": "2024-12-08T14:09:07.244594Z",
     "start_time": "2024-12-08T14:09:07.241814Z"
    }
   },
   "source": [
    "# Use the NACE codes dictionary to get the sector descriptions\n",
    "nace_codes_file = \"../data/EconActiv_nace_2_gr.xls\""
   ],
   "outputs": [],
   "execution_count": 125
  },
  {
   "cell_type": "code",
   "id": "c31de1965f542e21",
   "metadata": {
    "ExecuteTime": {
     "end_time": "2024-12-08T14:09:07.289412Z",
     "start_time": "2024-12-08T14:09:07.273608Z"
    }
   },
   "source": [
    "# Use custom function\n",
    "nace_2_digits_descriptions = parse_nace_codes(nace_codes_file)"
   ],
   "outputs": [],
   "execution_count": 126
  },
  {
   "cell_type": "code",
   "id": "de6b146fd8fee9b7",
   "metadata": {
    "ExecuteTime": {
     "end_time": "2024-12-08T14:09:07.326397Z",
     "start_time": "2024-12-08T14:09:07.322582Z"
    }
   },
   "source": [
    "large_sectors_df = large_sectors_df.assign(\n",
    "    nace_2_digits_description=large_sectors_df[\"nace_2_digits\"].map(\n",
    "        nace_2_digits_descriptions\n",
    "    )\n",
    ")"
   ],
   "outputs": [],
   "execution_count": 127
  },
  {
   "cell_type": "code",
   "id": "6be5f38f92c12dab",
   "metadata": {
    "ExecuteTime": {
     "end_time": "2024-12-08T14:09:07.383133Z",
     "start_time": "2024-12-08T14:09:07.376465Z"
    }
   },
   "source": "large_sectors_df.head(2)",
   "outputs": [
    {
     "data": {
      "text/plain": [
       "   project_code    size   incorporation_status        region  \\\n",
       "0  ΕΞΜΠ-0543351   Μικρή  Υφιστάμενη Επιχείρηση  Ιονίων Νήσων   \n",
       "1  ΕΞΜΠ-0543354  Μεσαία  Υφιστάμενη Επιχείρηση       Αττικής   \n",
       "\n",
       "   investment_budget  public_funding nace_2_digits  \\\n",
       "0          482832.00       260504.28            11   \n",
       "1          729388.06       255285.82            25   \n",
       "\n",
       "                           nace_2_digits_description  \n",
       "0                                          Ποτοποιία  \n",
       "1  Κατασκευή μεταλλικών προϊόντων, με εξαίρεση τα...  "
      ],
      "text/html": [
       "<div>\n",
       "<style scoped>\n",
       "    .dataframe tbody tr th:only-of-type {\n",
       "        vertical-align: middle;\n",
       "    }\n",
       "\n",
       "    .dataframe tbody tr th {\n",
       "        vertical-align: top;\n",
       "    }\n",
       "\n",
       "    .dataframe thead th {\n",
       "        text-align: right;\n",
       "    }\n",
       "</style>\n",
       "<table border=\"1\" class=\"dataframe\">\n",
       "  <thead>\n",
       "    <tr style=\"text-align: right;\">\n",
       "      <th></th>\n",
       "      <th>project_code</th>\n",
       "      <th>size</th>\n",
       "      <th>incorporation_status</th>\n",
       "      <th>region</th>\n",
       "      <th>investment_budget</th>\n",
       "      <th>public_funding</th>\n",
       "      <th>nace_2_digits</th>\n",
       "      <th>nace_2_digits_description</th>\n",
       "    </tr>\n",
       "  </thead>\n",
       "  <tbody>\n",
       "    <tr>\n",
       "      <th>0</th>\n",
       "      <td>ΕΞΜΠ-0543351</td>\n",
       "      <td>Μικρή</td>\n",
       "      <td>Υφιστάμενη Επιχείρηση</td>\n",
       "      <td>Ιονίων Νήσων</td>\n",
       "      <td>482832.00</td>\n",
       "      <td>260504.28</td>\n",
       "      <td>11</td>\n",
       "      <td>Ποτοποιία</td>\n",
       "    </tr>\n",
       "    <tr>\n",
       "      <th>1</th>\n",
       "      <td>ΕΞΜΠ-0543354</td>\n",
       "      <td>Μεσαία</td>\n",
       "      <td>Υφιστάμενη Επιχείρηση</td>\n",
       "      <td>Αττικής</td>\n",
       "      <td>729388.06</td>\n",
       "      <td>255285.82</td>\n",
       "      <td>25</td>\n",
       "      <td>Κατασκευή μεταλλικών προϊόντων, με εξαίρεση τα...</td>\n",
       "    </tr>\n",
       "  </tbody>\n",
       "</table>\n",
       "</div>"
      ]
     },
     "execution_count": 128,
     "metadata": {},
     "output_type": "execute_result"
    }
   ],
   "execution_count": 128
  },
  {
   "cell_type": "markdown",
   "id": "9921eecd1c559f42",
   "metadata": {},
   "source": [
    "### 3.5 Add letters for General sector description"
   ]
  },
  {
   "cell_type": "code",
   "id": "afe7003e62e195a6",
   "metadata": {
    "ExecuteTime": {
     "end_time": "2024-12-08T14:09:07.455416Z",
     "start_time": "2024-12-08T14:09:07.452512Z"
    }
   },
   "source": [
    "# Groupes sectors by general sector description\n",
    "general_sectors = {\n",
    "    \"C: Manufacturing\": list(range(10, 34)),\n",
    "    \"E: Water supply, sewerage, waste management and remediation\": list(range(36, 40)),\n",
    "    \"H: Transportation and Storage\": list(range(49, 54)),\n",
    "    \"M: Legal, accounting, management, architecture, engineering, technical testing and analysis activities\": list(\n",
    "        range(69, 72)\n",
    "    ),\n",
    "    \"N: Administrative and support service activities\": list(range(77, 83)),\n",
    "}\n",
    "\n",
    "\n",
    "# Function to map the two-digit codes to the general sector descriptions\n",
    "def map_classification(nace_code):\n",
    "    for sector, codes in general_sectors.items():\n",
    "        if int(nace_code) in codes:\n",
    "            return sector\n",
    "    return \"Other\""
   ],
   "outputs": [],
   "execution_count": 129
  },
  {
   "cell_type": "code",
   "id": "b81d73ec10374b4c",
   "metadata": {
    "ExecuteTime": {
     "end_time": "2024-12-08T14:09:07.499848Z",
     "start_time": "2024-12-08T14:09:07.496964Z"
    }
   },
   "source": [
    "# Apply the function to create a new column in totals_df\n",
    "large_sectors_df[\"sector\"] = large_sectors_df[\"nace_2_digits\"].apply(map_classification)"
   ],
   "outputs": [],
   "execution_count": 130
  },
  {
   "cell_type": "code",
   "id": "e36eae7467f8c6fd",
   "metadata": {
    "ExecuteTime": {
     "end_time": "2024-12-08T14:09:07.596990Z",
     "start_time": "2024-12-08T14:09:07.590778Z"
    }
   },
   "source": [
    "large_sectors_df.head(5)"
   ],
   "outputs": [
    {
     "data": {
      "text/plain": [
       "   project_code        size   incorporation_status                region  \\\n",
       "0  ΕΞΜΠ-0543351       Μικρή  Υφιστάμενη Επιχείρηση          Ιονίων Νήσων   \n",
       "1  ΕΞΜΠ-0543354      Μεσαία  Υφιστάμενη Επιχείρηση               Αττικής   \n",
       "2  ΕΞΜΠ-0543354      Μεσαία  Υφιστάμενη Επιχείρηση               Αττικής   \n",
       "3  ΕΞΜΠ-0543354      Μεσαία  Υφιστάμενη Επιχείρηση               Αττικής   \n",
       "4  ΕΞΜΠ-0543368  Πολύ Μικρή  Υφιστάμενη Επιχείρηση  Κεντρικής Μακεδονίας   \n",
       "\n",
       "   investment_budget  public_funding nace_2_digits  \\\n",
       "0          482832.00       260504.28            11   \n",
       "1          729388.06       255285.82            25   \n",
       "2          729388.06       255285.82            25   \n",
       "3          729388.06       255285.82            28   \n",
       "4          359000.00       251300.00            31   \n",
       "\n",
       "                           nace_2_digits_description            sector  \n",
       "0                                          Ποτοποιία  C: Manufacturing  \n",
       "1  Κατασκευή μεταλλικών προϊόντων, με εξαίρεση τα...  C: Manufacturing  \n",
       "2  Κατασκευή μεταλλικών προϊόντων, με εξαίρεση τα...  C: Manufacturing  \n",
       "3  Κατασκευή μηχανημάτων και ειδών εξοπλισμού π.δ...  C: Manufacturing  \n",
       "4                                  Κατασκευή επίπλων  C: Manufacturing  "
      ],
      "text/html": [
       "<div>\n",
       "<style scoped>\n",
       "    .dataframe tbody tr th:only-of-type {\n",
       "        vertical-align: middle;\n",
       "    }\n",
       "\n",
       "    .dataframe tbody tr th {\n",
       "        vertical-align: top;\n",
       "    }\n",
       "\n",
       "    .dataframe thead th {\n",
       "        text-align: right;\n",
       "    }\n",
       "</style>\n",
       "<table border=\"1\" class=\"dataframe\">\n",
       "  <thead>\n",
       "    <tr style=\"text-align: right;\">\n",
       "      <th></th>\n",
       "      <th>project_code</th>\n",
       "      <th>size</th>\n",
       "      <th>incorporation_status</th>\n",
       "      <th>region</th>\n",
       "      <th>investment_budget</th>\n",
       "      <th>public_funding</th>\n",
       "      <th>nace_2_digits</th>\n",
       "      <th>nace_2_digits_description</th>\n",
       "      <th>sector</th>\n",
       "    </tr>\n",
       "  </thead>\n",
       "  <tbody>\n",
       "    <tr>\n",
       "      <th>0</th>\n",
       "      <td>ΕΞΜΠ-0543351</td>\n",
       "      <td>Μικρή</td>\n",
       "      <td>Υφιστάμενη Επιχείρηση</td>\n",
       "      <td>Ιονίων Νήσων</td>\n",
       "      <td>482832.00</td>\n",
       "      <td>260504.28</td>\n",
       "      <td>11</td>\n",
       "      <td>Ποτοποιία</td>\n",
       "      <td>C: Manufacturing</td>\n",
       "    </tr>\n",
       "    <tr>\n",
       "      <th>1</th>\n",
       "      <td>ΕΞΜΠ-0543354</td>\n",
       "      <td>Μεσαία</td>\n",
       "      <td>Υφιστάμενη Επιχείρηση</td>\n",
       "      <td>Αττικής</td>\n",
       "      <td>729388.06</td>\n",
       "      <td>255285.82</td>\n",
       "      <td>25</td>\n",
       "      <td>Κατασκευή μεταλλικών προϊόντων, με εξαίρεση τα...</td>\n",
       "      <td>C: Manufacturing</td>\n",
       "    </tr>\n",
       "    <tr>\n",
       "      <th>2</th>\n",
       "      <td>ΕΞΜΠ-0543354</td>\n",
       "      <td>Μεσαία</td>\n",
       "      <td>Υφιστάμενη Επιχείρηση</td>\n",
       "      <td>Αττικής</td>\n",
       "      <td>729388.06</td>\n",
       "      <td>255285.82</td>\n",
       "      <td>25</td>\n",
       "      <td>Κατασκευή μεταλλικών προϊόντων, με εξαίρεση τα...</td>\n",
       "      <td>C: Manufacturing</td>\n",
       "    </tr>\n",
       "    <tr>\n",
       "      <th>3</th>\n",
       "      <td>ΕΞΜΠ-0543354</td>\n",
       "      <td>Μεσαία</td>\n",
       "      <td>Υφιστάμενη Επιχείρηση</td>\n",
       "      <td>Αττικής</td>\n",
       "      <td>729388.06</td>\n",
       "      <td>255285.82</td>\n",
       "      <td>28</td>\n",
       "      <td>Κατασκευή μηχανημάτων και ειδών εξοπλισμού π.δ...</td>\n",
       "      <td>C: Manufacturing</td>\n",
       "    </tr>\n",
       "    <tr>\n",
       "      <th>4</th>\n",
       "      <td>ΕΞΜΠ-0543368</td>\n",
       "      <td>Πολύ Μικρή</td>\n",
       "      <td>Υφιστάμενη Επιχείρηση</td>\n",
       "      <td>Κεντρικής Μακεδονίας</td>\n",
       "      <td>359000.00</td>\n",
       "      <td>251300.00</td>\n",
       "      <td>31</td>\n",
       "      <td>Κατασκευή επίπλων</td>\n",
       "      <td>C: Manufacturing</td>\n",
       "    </tr>\n",
       "  </tbody>\n",
       "</table>\n",
       "</div>"
      ]
     },
     "execution_count": 131,
     "metadata": {},
     "output_type": "execute_result"
    }
   ],
   "execution_count": 131
  },
  {
   "metadata": {
    "ExecuteTime": {
     "end_time": "2024-12-08T14:09:07.659541Z",
     "start_time": "2024-12-08T14:09:07.655021Z"
    }
   },
   "cell_type": "code",
   "source": [
    "# split sector column to two columns. One for the sector letter and one for the sector description\n",
    "large_sectors_df[\"sector_letter\"] = large_sectors_df[\"sector\"].str.split(\":\").str[0]\n",
    "large_sectors_df[\"sector_description\"] = (\n",
    "    large_sectors_df[\"sector\"].str.split(\":\").str[1]\n",
    ")\n",
    "# drop sector column\n",
    "large_sectors_df = large_sectors_df.drop(columns=[\"sector\"])"
   ],
   "id": "e2635c1fa7c1f3c2",
   "outputs": [],
   "execution_count": 132
  },
  {
   "cell_type": "code",
   "id": "85fd8be1fff7ece5",
   "metadata": {
    "ExecuteTime": {
     "end_time": "2024-12-08T14:09:07.703617Z",
     "start_time": "2024-12-08T14:09:07.700397Z"
    }
   },
   "source": [
    "# Replace unique values with new project_id values starting from p_1 to p{len(df)}\n",
    "# Dictionary to map old project codes to new project IDs\n",
    "project_id_mapping = {\n",
    "    old_code: f\"p_{i+1}\"\n",
    "    for i, old_code in enumerate(large_sectors_df[\"project_code\"].unique())\n",
    "}"
   ],
   "outputs": [],
   "execution_count": 133
  },
  {
   "metadata": {
    "ExecuteTime": {
     "end_time": "2024-12-08T14:09:07.737911Z",
     "start_time": "2024-12-08T14:09:07.733208Z"
    }
   },
   "cell_type": "code",
   "source": [
    "project_id_mapping"
   ],
   "id": "9558bde28a1d50e4",
   "outputs": [
    {
     "data": {
      "text/plain": [
       "{'ΕΞΜΠ-0543351': 'p_1',\n",
       " 'ΕΞΜΠ-0543354': 'p_2',\n",
       " 'ΕΞΜΠ-0543368': 'p_3',\n",
       " 'ΕΞΜΠ-0543374': 'p_4',\n",
       " 'ΕΞΜΠ-0543375': 'p_5',\n",
       " 'ΕΞΜΠ-0543386': 'p_6',\n",
       " 'ΕΞΜΠ-0543387': 'p_7',\n",
       " 'ΕΞΜΠ-0543391': 'p_8',\n",
       " 'ΕΞΜΠ-0543401': 'p_9',\n",
       " 'ΕΞΜΠ-0543404': 'p_10',\n",
       " 'ΕΞΜΠ-0543414': 'p_11',\n",
       " 'ΕΞΜΠ-0543439': 'p_12',\n",
       " 'ΕΞΜΠ-0543458': 'p_13',\n",
       " 'ΕΞΜΠ-0543464': 'p_14',\n",
       " 'ΕΞΜΠ-0543493': 'p_15',\n",
       " 'ΕΞΜΠ-0543512': 'p_16',\n",
       " 'ΕΞΜΠ-0543553': 'p_17',\n",
       " 'ΕΞΜΠ-0543574': 'p_18',\n",
       " 'ΕΞΜΠ-0543657': 'p_19',\n",
       " 'ΕΞΜΠ-0543780': 'p_20',\n",
       " 'ΕΞΜΠ-0543816': 'p_21',\n",
       " 'ΕΞΜΠ-0543850': 'p_22',\n",
       " 'ΕΞΜΠ-0543893': 'p_23',\n",
       " 'ΕΞΜΠ-0543963': 'p_24',\n",
       " 'ΕΞΜΠ-0543972': 'p_25',\n",
       " 'ΕΞΜΠ-0544008': 'p_26',\n",
       " 'ΕΞΜΠ-0544036': 'p_27',\n",
       " 'ΕΞΜΠ-0544053': 'p_28',\n",
       " 'ΕΞΜΠ-0544054': 'p_29',\n",
       " 'ΕΞΜΠ-0544149': 'p_30',\n",
       " 'ΕΞΜΠ-0544521': 'p_31',\n",
       " 'ΕΞΜΠ-0544718': 'p_32',\n",
       " 'ΕΞΜΠ-0544732': 'p_33',\n",
       " 'ΕΞΜΠ-0544746': 'p_34',\n",
       " 'ΕΞΜΠ-0544774': 'p_35',\n",
       " 'ΕΞΜΠ-0544782': 'p_36',\n",
       " 'ΕΞΜΠ-0544802': 'p_37',\n",
       " 'ΕΞΜΠ-0544826': 'p_38',\n",
       " 'ΕΞΜΠ-0544838': 'p_39',\n",
       " 'ΕΞΜΠ-0544841': 'p_40',\n",
       " 'ΕΞΜΠ-0544844': 'p_41',\n",
       " 'ΕΞΜΠ-0544873': 'p_42',\n",
       " 'ΕΞΜΠ-0544902': 'p_43',\n",
       " 'ΕΞΜΠ-0544920': 'p_44',\n",
       " 'ΕΞΜΠ-0544927': 'p_45',\n",
       " 'ΕΞΜΠ-0544928': 'p_46',\n",
       " 'ΕΞΜΠ-0544937': 'p_47',\n",
       " 'ΕΞΜΠ-0544940': 'p_48',\n",
       " 'ΕΞΜΠ-0544949': 'p_49',\n",
       " 'ΕΞΜΠ-0544958': 'p_50',\n",
       " 'ΕΞΜΠ-0544962': 'p_51',\n",
       " 'ΕΞΜΠ-0544966': 'p_52',\n",
       " 'ΕΞΜΠ-0544993': 'p_53',\n",
       " 'ΕΞΜΠ-0545000': 'p_54',\n",
       " 'ΕΞΜΠ-0545014': 'p_55',\n",
       " 'ΕΞΜΠ-0545018': 'p_56',\n",
       " 'ΕΞΜΠ-0545025': 'p_57',\n",
       " 'ΕΞΜΠ-0545027': 'p_58',\n",
       " 'ΕΞΜΠ-0545044': 'p_59',\n",
       " 'ΕΞΜΠ-0545046': 'p_60',\n",
       " 'ΕΞΜΠ-0545054': 'p_61',\n",
       " 'ΕΞΜΠ-0545062': 'p_62',\n",
       " 'ΕΞΜΠ-0545077': 'p_63',\n",
       " 'ΕΞΜΠ-0545088': 'p_64',\n",
       " 'ΕΞΜΠ-0545091': 'p_65',\n",
       " 'ΕΞΜΠ-0545108': 'p_66',\n",
       " 'ΕΞΜΠ-0545112': 'p_67',\n",
       " 'ΕΞΜΠ-0545123': 'p_68',\n",
       " 'ΕΞΜΠ-0545141': 'p_69',\n",
       " 'ΕΞΜΠ-0545146': 'p_70',\n",
       " 'ΕΞΜΠ-0545153': 'p_71',\n",
       " 'ΕΞΜΠ-0545163': 'p_72',\n",
       " 'ΕΞΜΠ-0545169': 'p_73',\n",
       " 'ΕΞΜΠ-0545180': 'p_74',\n",
       " 'ΕΞΜΠ-0545189': 'p_75',\n",
       " 'ΕΞΜΠ-0545192': 'p_76',\n",
       " 'ΕΞΜΠ-0545194': 'p_77',\n",
       " 'ΕΞΜΠ-0545195': 'p_78',\n",
       " 'ΕΞΜΠ-0545214': 'p_79',\n",
       " 'ΕΞΜΠ-0545218': 'p_80',\n",
       " 'ΕΞΜΠ-0545219': 'p_81',\n",
       " 'ΕΞΜΠ-0545252': 'p_82',\n",
       " 'ΕΞΜΠ-0545261': 'p_83',\n",
       " 'ΕΞΜΠ-0545263': 'p_84',\n",
       " 'ΕΞΜΠ-0545265': 'p_85',\n",
       " 'ΕΞΜΠ-0545275': 'p_86',\n",
       " 'ΕΞΜΠ-0545286': 'p_87',\n",
       " 'ΕΞΜΠ-0545290': 'p_88',\n",
       " 'ΕΞΜΠ-0545308': 'p_89',\n",
       " 'ΕΞΜΠ-0545311': 'p_90',\n",
       " 'ΕΞΜΠ-0545316': 'p_91',\n",
       " 'ΕΞΜΠ-0545320': 'p_92',\n",
       " 'ΕΞΜΠ-0545330': 'p_93',\n",
       " 'ΕΞΜΠ-0545333': 'p_94',\n",
       " 'ΕΞΜΠ-0545345': 'p_95',\n",
       " 'ΕΞΜΠ-0545348': 'p_96',\n",
       " 'ΕΞΜΠ-0545358': 'p_97',\n",
       " 'ΕΞΜΠ-0545359': 'p_98',\n",
       " 'ΕΞΜΠ-0545361': 'p_99',\n",
       " 'ΕΞΜΠ-0545364': 'p_100',\n",
       " 'ΕΞΜΠ-0545373': 'p_101',\n",
       " 'ΕΞΜΠ-0545387': 'p_102',\n",
       " 'ΕΞΜΠ-0545391': 'p_103',\n",
       " 'ΕΞΜΠ-0545393': 'p_104',\n",
       " 'ΕΞΜΠ-0545396': 'p_105',\n",
       " 'ΕΞΜΠ-0545402': 'p_106',\n",
       " 'ΕΞΜΠ-0545403': 'p_107',\n",
       " 'ΕΞΜΠ-0545407': 'p_108',\n",
       " 'ΕΞΜΠ-0545427': 'p_109',\n",
       " 'ΕΞΜΠ-0545447': 'p_110',\n",
       " 'ΕΞΜΠ-0545453': 'p_111',\n",
       " 'ΕΞΜΠ-0545504': 'p_112',\n",
       " 'ΕΞΜΠ-0545674': 'p_113',\n",
       " 'ΕΞΜΠ-0545787': 'p_114',\n",
       " 'ΕΞΜΠ-0545799': 'p_115',\n",
       " 'ΕΞΜΠ-0545895': 'p_116',\n",
       " 'ΕΞΜΠ-0545926': 'p_117',\n",
       " 'ΕΞΜΠ-0545949': 'p_118',\n",
       " 'ΕΞΜΠ-0545990': 'p_119',\n",
       " 'ΕΞΜΠ-0546048': 'p_120',\n",
       " 'ΕΞΜΠ-0546192': 'p_121',\n",
       " 'ΕΞΜΠ-0546254': 'p_122',\n",
       " 'ΕΞΜΠ-0546299': 'p_123',\n",
       " 'ΕΞΜΠ-0546306': 'p_124',\n",
       " 'ΕΞΜΠ-0546405': 'p_125',\n",
       " 'ΕΞΜΠ-0546408': 'p_126',\n",
       " 'ΕΞΜΠ-0546493': 'p_127',\n",
       " 'ΕΞΜΠ-0546527': 'p_128',\n",
       " 'ΕΞΜΠ-0546584': 'p_129',\n",
       " 'ΕΞΜΠ-0546627': 'p_130',\n",
       " 'ΕΞΜΠ-0546728': 'p_131',\n",
       " 'ΕΞΜΠ-0546734': 'p_132',\n",
       " 'ΕΞΜΠ-0546775': 'p_133',\n",
       " 'ΕΞΜΠ-0546787': 'p_134',\n",
       " 'ΕΞΜΠ-0546804': 'p_135',\n",
       " 'ΕΞΜΠ-0546869': 'p_136',\n",
       " 'ΕΞΜΠ-0546950': 'p_137',\n",
       " 'ΕΞΜΠ-0547810': 'p_138',\n",
       " 'ΕΞΜΠ-0548892': 'p_139',\n",
       " 'ΕΞΜΠ-0549160': 'p_140',\n",
       " 'ΕΞΜΠ-0549733': 'p_141',\n",
       " 'ΕΞΜΠ-0549750': 'p_142',\n",
       " 'ΕΞΜΠ-0549752': 'p_143',\n",
       " 'ΕΞΜΠ-0549908': 'p_144',\n",
       " 'ΕΞΜΠ-0549920': 'p_145',\n",
       " 'ΕΞΜΠ-0550080': 'p_146',\n",
       " 'ΕΞΜΠ-0550282': 'p_147',\n",
       " 'ΕΞΜΠ-0550434': 'p_148',\n",
       " 'ΕΞΜΠ-0550471': 'p_149',\n",
       " 'ΕΞΜΠ-0550480': 'p_150',\n",
       " 'ΕΞΜΠ-0550507': 'p_151'}"
      ]
     },
     "execution_count": 134,
     "metadata": {},
     "output_type": "execute_result"
    }
   ],
   "execution_count": 134
  },
  {
   "metadata": {
    "ExecuteTime": {
     "end_time": "2024-12-08T14:09:07.780476Z",
     "start_time": "2024-12-08T14:09:07.776338Z"
    }
   },
   "cell_type": "code",
   "source": [
    "# Replace old project codes with new project IDs\n",
    "large_sectors_df[\"project_code\"] = large_sectors_df[\"project_code\"].map(\n",
    "    project_id_mapping\n",
    ")"
   ],
   "id": "5106fe6baf6f8b51",
   "outputs": [],
   "execution_count": 135
  },
  {
   "cell_type": "code",
   "id": "f4e2ad6e4d473843",
   "metadata": {
    "ExecuteTime": {
     "end_time": "2024-12-08T14:09:07.832990Z",
     "start_time": "2024-12-08T14:09:07.828542Z"
    }
   },
   "source": [
    "len(large_sectors_df)"
   ],
   "outputs": [
    {
     "data": {
      "text/plain": [
       "351"
      ]
     },
     "execution_count": 136,
     "metadata": {},
     "output_type": "execute_result"
    }
   ],
   "execution_count": 136
  },
  {
   "cell_type": "code",
   "id": "f587df48d90e362f",
   "metadata": {
    "ExecuteTime": {
     "end_time": "2024-12-08T14:09:07.890215Z",
     "start_time": "2024-12-08T14:09:07.886204Z"
    }
   },
   "source": [
    "large_sectors_df.project_code.nunique()"
   ],
   "outputs": [
    {
     "data": {
      "text/plain": [
       "151"
      ]
     },
     "execution_count": 137,
     "metadata": {},
     "output_type": "execute_result"
    }
   ],
   "execution_count": 137
  },
  {
   "metadata": {},
   "cell_type": "markdown",
   "source": "### 3.6 Translate all column values to English",
   "id": "cf0169e2a09c9bac"
  },
  {
   "metadata": {
    "ExecuteTime": {
     "end_time": "2024-12-08T14:09:07.940631Z",
     "start_time": "2024-12-08T14:09:07.937117Z"
    }
   },
   "cell_type": "code",
   "source": "df = large_sectors_df.copy()",
   "id": "f66d875251e55501",
   "outputs": [],
   "execution_count": 138
  },
  {
   "metadata": {
    "ExecuteTime": {
     "end_time": "2024-12-08T14:09:07.997367Z",
     "start_time": "2024-12-08T14:09:07.993286Z"
    }
   },
   "cell_type": "code",
   "source": "df.nace_2_digits_description.unique()",
   "id": "96bc4cf96c8854e7",
   "outputs": [
    {
     "data": {
      "text/plain": [
       "array(['Ποτοποιία',\n",
       "       'Κατασκευή μεταλλικών προϊόντων, με εξαίρεση τα μηχανήματα και τα είδη εξοπλισμού',\n",
       "       'Κατασκευή μηχανημάτων και ειδών εξοπλισμού π.δ.κ.α.',\n",
       "       'Κατασκευή επίπλων',\n",
       "       'Επισκευή και εγκατάσταση μηχανημάτων και εξοπλισμού',\n",
       "       'Συλλογή, επεξεργασία και διάθεση αποβλήτων? ανάκτηση υλικών',\n",
       "       'Βιομηχανία τροφίμων', 'Παραγωγή χημικών ουσιών και προϊόντων',\n",
       "       'Κατασκευή ειδών ένδυσης',\n",
       "       'Εκτυπώσεις και αναπαραγωγή προεγγεγραμμένων μέσων',\n",
       "       'Παραγωγή κλωστοϋφαντουργικών υλών',\n",
       "       'Άλλες μεταποιητικές δραστηριότητες',\n",
       "       'Κατασκευή προϊόντων από ελαστικό (καουτσούκ) και πλαστικές ύλες',\n",
       "       'Αρχιτεκτονικές δραστηριότητες και δραστηριότητες μηχανικών? τεχνικές δοκιμές και αναλύσεις',\n",
       "       'Χαρτοποιία και κατασκευή χάρτινων προϊόντων',\n",
       "       'Αποθήκευση και υποστηρικτικές προς τη μεταφορά δραστηριότητες',\n",
       "       'Βιομηχανία ξύλου και κατασκευή προϊόντων από ξύλο και φελλό, εκτός από έπιπλα? κατασκευή ειδών καλαθοποιίας και σπαρτοπλεκτικής',\n",
       "       'Κατασκευή ηλεκτρολογικού εξοπλισμού',\n",
       "       'Κατασκευή ηλεκτρονικών υπολογιστών, ηλεκτρονικών και οπτικών προϊόντων',\n",
       "       'Παραγωγή άλλων μη μεταλλικών ορυκτών προϊόντων',\n",
       "       'Κατασκευή μηχανοκίνητων οχημάτων, ρυμουλκούμενων και ημιρυμουλκούμενων οχημάτων',\n",
       "       'Παραγωγή βασικών μετάλλων',\n",
       "       'Διοικητικές δραστηριότητες γραφείου, γραμματειακή υποστήριξη και άλλες δραστηριότητες παροχής υποστήριξης προς τις επιχειρήσεις',\n",
       "       'Παραγωγή βασικών φαρμακευτικών προϊόντων και φαρμακευτικών σκευασμάτων'],\n",
       "      dtype=object)"
      ]
     },
     "execution_count": 139,
     "metadata": {},
     "output_type": "execute_result"
    }
   ],
   "execution_count": 139
  },
  {
   "metadata": {
    "ExecuteTime": {
     "end_time": "2024-12-08T14:09:08.050637Z",
     "start_time": "2024-12-08T14:09:08.046152Z"
    }
   },
   "cell_type": "code",
   "source": "df.nace_2_digits_description.nunique()",
   "id": "f96607567667d95a",
   "outputs": [
    {
     "data": {
      "text/plain": [
       "24"
      ]
     },
     "execution_count": 140,
     "metadata": {},
     "output_type": "execute_result"
    }
   ],
   "execution_count": 140
  },
  {
   "metadata": {
    "ExecuteTime": {
     "end_time": "2024-12-08T14:09:08.111083Z",
     "start_time": "2024-12-08T14:09:08.104980Z"
    }
   },
   "cell_type": "code",
   "source": [
    "# Get unique values from the 'nace_2_digits' column\n",
    "unique_nace_2_digits = df[\"nace_2_digits\"].unique()\n",
    "\n",
    "# Dictionary with all possible descriptions\n",
    "NACE_2_DIGITS_DESCRIPTIONS_EN = {\n",
    "    \"10\": \"Manufacture of food products\",\n",
    "    \"11\": \"Manufacture of beverages\",\n",
    "    \"12\": \"Manufacture of tobacco products\",\n",
    "    \"13\": \"Manufacture of textiles\",\n",
    "    \"14\": \"Manufacture of wearing apparel\",\n",
    "    \"15\": \"Manufacture of leather and related products\",\n",
    "    \"16\": \"Manufacture of wood and of products of wood and cork, except furniture; manufacture of articles of straw and plaiting materials\",\n",
    "    \"17\": \"Manufacture of paper and paper products\",\n",
    "    \"18\": \"Printing and reproduction of recorded media\",\n",
    "    \"19\": \"Manufacture of coke and refined petroleum products\",\n",
    "    \"20\": \"Manufacture of chemicals and chemical products\",\n",
    "    \"21\": \"Manufacture of basic pharmaceutical products and pharmaceutical preparations\",\n",
    "    \"22\": \"Manufacture of rubber and plastic products\",\n",
    "    \"23\": \"Manufacture of other non-metallic mineral products\",\n",
    "    \"24\": \"Manufacture of basic metals\",\n",
    "    \"25\": \"Manufacture of fabricated metal products, except machinery and equipment\",\n",
    "    \"26\": \"Manufacture of computer, electronic and optical products\",\n",
    "    \"27\": \"Manufacture of electrical equipment\",\n",
    "    \"28\": \"Manufacture of machinery and equipment n.e.c.\",\n",
    "    \"29\": \"Manufacture of motor vehicles, trailers and semi-trailers\",\n",
    "    \"30\": \"Manufacture of other transport equipment\",\n",
    "    \"31\": \"Manufacture of furniture\",\n",
    "    \"32\": \"Other manufacturing\",\n",
    "    \"33\": \"Repair and installation of machinery and equipment\",\n",
    "    \"36\": \"Water collection, treatment and supply\",\n",
    "    \"37\": \"Sewerage\",\n",
    "    \"38\": \"Waste collection, treatment and disposal activities; materials recovery\",\n",
    "    \"39\": \"Remediation activities and other waste management services\",\n",
    "    \"49\": \"Land transport and transport via pipelines\",\n",
    "    \"50\": \"Water transport\",\n",
    "    \"51\": \"Air transport\",\n",
    "    \"52\": \"Warehousing and support activities for transportation\",\n",
    "    \"53\": \"Postal and courier activities\",\n",
    "    \"69\": \"Legal and accounting activities\",\n",
    "    \"70\": \"Activities of head offices; management consultancy activities\",\n",
    "    \"71\": \"Architectural and engineering activities; technical testing and analysis\",\n",
    "    \"72\": \"Scientific research and development\",\n",
    "    \"77\": \"Rental and leasing activities\",\n",
    "    \"78\": \"Employment activities\",\n",
    "    \"79\": \"Travel agency, tour operator and other reservation service and related activities\",\n",
    "    \"80\": \"Security and investigation activities\",\n",
    "    \"81\": \"Services to buildings and landscape activities\",\n",
    "    \"82\": \"Office administrative, office support and other business support activities\",\n",
    "}\n",
    "\n",
    "# Filter dictionary with activities present in the data\n",
    "filtered_nace_2_digits_descriptions_en = {\n",
    "    k: v for k, v in NACE_2_DIGITS_DESCRIPTIONS_EN.items() if k in unique_nace_2_digits\n",
    "}\n",
    "filtered_nace_2_digits_descriptions_en"
   ],
   "id": "21d39bd7ad250a4b",
   "outputs": [
    {
     "data": {
      "text/plain": [
       "{'10': 'Manufacture of food products',\n",
       " '11': 'Manufacture of beverages',\n",
       " '13': 'Manufacture of textiles',\n",
       " '14': 'Manufacture of wearing apparel',\n",
       " '16': 'Manufacture of wood and of products of wood and cork, except furniture; manufacture of articles of straw and plaiting materials',\n",
       " '17': 'Manufacture of paper and paper products',\n",
       " '18': 'Printing and reproduction of recorded media',\n",
       " '20': 'Manufacture of chemicals and chemical products',\n",
       " '21': 'Manufacture of basic pharmaceutical products and pharmaceutical preparations',\n",
       " '22': 'Manufacture of rubber and plastic products',\n",
       " '23': 'Manufacture of other non-metallic mineral products',\n",
       " '24': 'Manufacture of basic metals',\n",
       " '25': 'Manufacture of fabricated metal products, except machinery and equipment',\n",
       " '26': 'Manufacture of computer, electronic and optical products',\n",
       " '27': 'Manufacture of electrical equipment',\n",
       " '28': 'Manufacture of machinery and equipment n.e.c.',\n",
       " '29': 'Manufacture of motor vehicles, trailers and semi-trailers',\n",
       " '31': 'Manufacture of furniture',\n",
       " '32': 'Other manufacturing',\n",
       " '33': 'Repair and installation of machinery and equipment',\n",
       " '38': 'Waste collection, treatment and disposal activities; materials recovery',\n",
       " '52': 'Warehousing and support activities for transportation',\n",
       " '71': 'Architectural and engineering activities; technical testing and analysis',\n",
       " '82': 'Office administrative, office support and other business support activities'}"
      ]
     },
     "execution_count": 141,
     "metadata": {},
     "output_type": "execute_result"
    }
   ],
   "execution_count": 141
  },
  {
   "metadata": {
    "ExecuteTime": {
     "end_time": "2024-12-08T14:09:08.164328Z",
     "start_time": "2024-12-08T14:09:08.161060Z"
    }
   },
   "cell_type": "code",
   "source": [
    "# Test for N of unique values\n",
    "len(filtered_nace_2_digits_descriptions_en)"
   ],
   "id": "6a11616a3b87ac7",
   "outputs": [
    {
     "data": {
      "text/plain": [
       "24"
      ]
     },
     "execution_count": 142,
     "metadata": {},
     "output_type": "execute_result"
    }
   ],
   "execution_count": 142
  },
  {
   "metadata": {
    "ExecuteTime": {
     "end_time": "2024-12-08T14:09:08.217787Z",
     "start_time": "2024-12-08T14:09:08.215269Z"
    }
   },
   "cell_type": "code",
   "source": "# Todo: test for mistranslations",
   "id": "48ba5a0386981ee6",
   "outputs": [],
   "execution_count": 143
  },
  {
   "metadata": {
    "ExecuteTime": {
     "end_time": "2024-12-08T14:09:08.273670Z",
     "start_time": "2024-12-08T14:09:08.263740Z"
    }
   },
   "cell_type": "code",
   "source": [
    "# Map existing values in the `nace_2_digits` column to English\n",
    "df[\"nace_2_digits_description\"] = df[\"nace_2_digits\"].replace(\n",
    "    filtered_nace_2_digits_descriptions_en\n",
    ")\n",
    "\n",
    "# Display the updated DataFrame\n",
    "df.head()"
   ],
   "id": "9ecbeaf8e8a34116",
   "outputs": [
    {
     "data": {
      "text/plain": [
       "  project_code        size   incorporation_status                region  \\\n",
       "0          p_1       Μικρή  Υφιστάμενη Επιχείρηση          Ιονίων Νήσων   \n",
       "1          p_2      Μεσαία  Υφιστάμενη Επιχείρηση               Αττικής   \n",
       "2          p_2      Μεσαία  Υφιστάμενη Επιχείρηση               Αττικής   \n",
       "3          p_2      Μεσαία  Υφιστάμενη Επιχείρηση               Αττικής   \n",
       "4          p_3  Πολύ Μικρή  Υφιστάμενη Επιχείρηση  Κεντρικής Μακεδονίας   \n",
       "\n",
       "   investment_budget  public_funding nace_2_digits  \\\n",
       "0          482832.00       260504.28            11   \n",
       "1          729388.06       255285.82            25   \n",
       "2          729388.06       255285.82            25   \n",
       "3          729388.06       255285.82            28   \n",
       "4          359000.00       251300.00            31   \n",
       "\n",
       "                           nace_2_digits_description sector_letter  \\\n",
       "0                           Manufacture of beverages             C   \n",
       "1  Manufacture of fabricated metal products, exce...             C   \n",
       "2  Manufacture of fabricated metal products, exce...             C   \n",
       "3      Manufacture of machinery and equipment n.e.c.             C   \n",
       "4                           Manufacture of furniture             C   \n",
       "\n",
       "  sector_description  \n",
       "0      Manufacturing  \n",
       "1      Manufacturing  \n",
       "2      Manufacturing  \n",
       "3      Manufacturing  \n",
       "4      Manufacturing  "
      ],
      "text/html": [
       "<div>\n",
       "<style scoped>\n",
       "    .dataframe tbody tr th:only-of-type {\n",
       "        vertical-align: middle;\n",
       "    }\n",
       "\n",
       "    .dataframe tbody tr th {\n",
       "        vertical-align: top;\n",
       "    }\n",
       "\n",
       "    .dataframe thead th {\n",
       "        text-align: right;\n",
       "    }\n",
       "</style>\n",
       "<table border=\"1\" class=\"dataframe\">\n",
       "  <thead>\n",
       "    <tr style=\"text-align: right;\">\n",
       "      <th></th>\n",
       "      <th>project_code</th>\n",
       "      <th>size</th>\n",
       "      <th>incorporation_status</th>\n",
       "      <th>region</th>\n",
       "      <th>investment_budget</th>\n",
       "      <th>public_funding</th>\n",
       "      <th>nace_2_digits</th>\n",
       "      <th>nace_2_digits_description</th>\n",
       "      <th>sector_letter</th>\n",
       "      <th>sector_description</th>\n",
       "    </tr>\n",
       "  </thead>\n",
       "  <tbody>\n",
       "    <tr>\n",
       "      <th>0</th>\n",
       "      <td>p_1</td>\n",
       "      <td>Μικρή</td>\n",
       "      <td>Υφιστάμενη Επιχείρηση</td>\n",
       "      <td>Ιονίων Νήσων</td>\n",
       "      <td>482832.00</td>\n",
       "      <td>260504.28</td>\n",
       "      <td>11</td>\n",
       "      <td>Manufacture of beverages</td>\n",
       "      <td>C</td>\n",
       "      <td>Manufacturing</td>\n",
       "    </tr>\n",
       "    <tr>\n",
       "      <th>1</th>\n",
       "      <td>p_2</td>\n",
       "      <td>Μεσαία</td>\n",
       "      <td>Υφιστάμενη Επιχείρηση</td>\n",
       "      <td>Αττικής</td>\n",
       "      <td>729388.06</td>\n",
       "      <td>255285.82</td>\n",
       "      <td>25</td>\n",
       "      <td>Manufacture of fabricated metal products, exce...</td>\n",
       "      <td>C</td>\n",
       "      <td>Manufacturing</td>\n",
       "    </tr>\n",
       "    <tr>\n",
       "      <th>2</th>\n",
       "      <td>p_2</td>\n",
       "      <td>Μεσαία</td>\n",
       "      <td>Υφιστάμενη Επιχείρηση</td>\n",
       "      <td>Αττικής</td>\n",
       "      <td>729388.06</td>\n",
       "      <td>255285.82</td>\n",
       "      <td>25</td>\n",
       "      <td>Manufacture of fabricated metal products, exce...</td>\n",
       "      <td>C</td>\n",
       "      <td>Manufacturing</td>\n",
       "    </tr>\n",
       "    <tr>\n",
       "      <th>3</th>\n",
       "      <td>p_2</td>\n",
       "      <td>Μεσαία</td>\n",
       "      <td>Υφιστάμενη Επιχείρηση</td>\n",
       "      <td>Αττικής</td>\n",
       "      <td>729388.06</td>\n",
       "      <td>255285.82</td>\n",
       "      <td>28</td>\n",
       "      <td>Manufacture of machinery and equipment n.e.c.</td>\n",
       "      <td>C</td>\n",
       "      <td>Manufacturing</td>\n",
       "    </tr>\n",
       "    <tr>\n",
       "      <th>4</th>\n",
       "      <td>p_3</td>\n",
       "      <td>Πολύ Μικρή</td>\n",
       "      <td>Υφιστάμενη Επιχείρηση</td>\n",
       "      <td>Κεντρικής Μακεδονίας</td>\n",
       "      <td>359000.00</td>\n",
       "      <td>251300.00</td>\n",
       "      <td>31</td>\n",
       "      <td>Manufacture of furniture</td>\n",
       "      <td>C</td>\n",
       "      <td>Manufacturing</td>\n",
       "    </tr>\n",
       "  </tbody>\n",
       "</table>\n",
       "</div>"
      ]
     },
     "execution_count": 144,
     "metadata": {},
     "output_type": "execute_result"
    }
   ],
   "execution_count": 144
  },
  {
   "metadata": {
    "ExecuteTime": {
     "end_time": "2024-12-08T14:09:08.343655Z",
     "start_time": "2024-12-08T14:09:08.340363Z"
    }
   },
   "cell_type": "code",
   "source": [
    "# Translate the 'size' column\n",
    "size_values = df[\"size\"].unique()\n",
    "size_values"
   ],
   "id": "2faf7bbe658e8419",
   "outputs": [
    {
     "data": {
      "text/plain": [
       "array(['Μικρή', 'Μεσαία', 'Πολύ Μικρή'], dtype=object)"
      ]
     },
     "execution_count": 145,
     "metadata": {},
     "output_type": "execute_result"
    }
   ],
   "execution_count": 145
  },
  {
   "metadata": {
    "ExecuteTime": {
     "end_time": "2024-12-08T14:09:08.387950Z",
     "start_time": "2024-12-08T14:09:08.384243Z"
    }
   },
   "cell_type": "code",
   "source": [
    "# Use the size_values array as keys to create dictionary\n",
    "SIZE_TRANSLATIONS = {\n",
    "    \"Μικρή\": \"Small\",\n",
    "    \"Μεσαία\": \"Medium\",\n",
    "    \"Πολύ Μικρή\": \"Very small\",\n",
    "}\n",
    "\n",
    "# Map existing values in the `size` column to English\n",
    "# df['size'] = df['size'].map(SIZE_TRANSLATIONS)\n",
    "df[\"size\"] = df[\"size\"].replace(SIZE_TRANSLATIONS)"
   ],
   "id": "6835022f23b3448f",
   "outputs": [],
   "execution_count": 146
  },
  {
   "metadata": {
    "ExecuteTime": {
     "end_time": "2024-12-08T14:09:08.420293Z",
     "start_time": "2024-12-08T14:09:08.417283Z"
    }
   },
   "cell_type": "code",
   "source": [
    "df[\"size\"].unique()"
   ],
   "id": "90415cc45a584215",
   "outputs": [
    {
     "data": {
      "text/plain": [
       "array(['Small', 'Medium', 'Very small'], dtype=object)"
      ]
     },
     "execution_count": 147,
     "metadata": {},
     "output_type": "execute_result"
    }
   ],
   "execution_count": 147
  },
  {
   "metadata": {
    "ExecuteTime": {
     "end_time": "2024-12-08T14:09:08.481657Z",
     "start_time": "2024-12-08T14:09:08.476902Z"
    }
   },
   "cell_type": "code",
   "source": [
    "# Translate the 'incorporation_status' column\n",
    "df[\"incorporation_status\"].unique()"
   ],
   "id": "d9df4fb8cb0fb20d",
   "outputs": [
    {
     "data": {
      "text/plain": [
       "array(['Υφιστάμενη Επιχείρηση', 'Νέα Επιχείρηση'], dtype=object)"
      ]
     },
     "execution_count": 148,
     "metadata": {},
     "output_type": "execute_result"
    }
   ],
   "execution_count": 148
  },
  {
   "metadata": {
    "ExecuteTime": {
     "end_time": "2024-12-08T14:09:08.536050Z",
     "start_time": "2024-12-08T14:09:08.532443Z"
    }
   },
   "cell_type": "code",
   "source": [
    "INCORP_TRANSLATIONS = {\n",
    "    \"Υφιστάμενη Επιχείρηση\": \"Existing Business\",\n",
    "    \"Νέα Επιχείρηση\": \"New Business\",\n",
    "}\n",
    "\n",
    "# Map existing values in the `incorporation_status` column to English\n",
    "df[\"incorporation_status\"] = df[\"incorporation_status\"].replace(INCORP_TRANSLATIONS)"
   ],
   "id": "eae92ca797a232a5",
   "outputs": [],
   "execution_count": 149
  },
  {
   "metadata": {
    "ExecuteTime": {
     "end_time": "2024-12-08T14:09:08.588035Z",
     "start_time": "2024-12-08T14:09:08.583718Z"
    }
   },
   "cell_type": "code",
   "source": [
    "# Translate the 'region' column values\n",
    "df[\"region\"].unique()"
   ],
   "id": "94729babe3bf3c17",
   "outputs": [
    {
     "data": {
      "text/plain": [
       "array(['Ιονίων Νήσων', 'Αττικής', 'Κεντρικής Μακεδονίας', 'Θεσσαλίας',\n",
       "       'Κρήτης', 'Στερεάς Ελλάδας', 'Ηπείρου', 'Πελοποννήσου',\n",
       "       'Δυτικής Ελλάδας', 'Ανατολικής Μακεδονίας και Θράκης',\n",
       "       'Δυτικής Μακεδονίας', 'Νοτίου Αιγαίου', 'Βορείου Αιγαίου'],\n",
       "      dtype=object)"
      ]
     },
     "execution_count": 150,
     "metadata": {},
     "output_type": "execute_result"
    }
   ],
   "execution_count": 150
  },
  {
   "metadata": {
    "ExecuteTime": {
     "end_time": "2024-12-08T14:09:08.641701Z",
     "start_time": "2024-12-08T14:09:08.637171Z"
    }
   },
   "cell_type": "code",
   "source": [
    "REGION_TRANSLATIONS = {\n",
    "    \"Ιονίων Νήσων\": \"Ionian Islands\",\n",
    "    \"Αττικής\": \"Attica\",\n",
    "    \"Κεντρικής Μακεδονίας\": \"Central Macedonia\",\n",
    "    \"Θεσσαλίας\": \"Thessaly\",\n",
    "    \"Κρήτης\": \"Crete\",\n",
    "    \"Στερεάς Ελλάδας\": \"Central Greece\",\n",
    "    \"Ηπείρου\": \"Epirus\",\n",
    "    \"Πελοποννήσου\": \"Peloponnese\",\n",
    "    \"Δυτικής Ελλάδας\": \"Western Greece\",\n",
    "    \"Ανατολικής Μακεδονίας και Θράκης\": \"Eastern Macedonia and Thrace\",\n",
    "    \"Δυτικής Μακεδονίας\": \"Western Macedonia\",\n",
    "    \"Νοτίου Αιγαίου\": \"South Aegean\",\n",
    "    \"Βορείου Αιγαίου\": \"North Aegean\",\n",
    "}\n",
    "\n",
    "# Map existing values in the `region` column to English\n",
    "df[\"region\"] = df[\"region\"].replace(REGION_TRANSLATIONS)"
   ],
   "id": "899fc252b8caf5cd",
   "outputs": [],
   "execution_count": 151
  },
  {
   "metadata": {
    "ExecuteTime": {
     "end_time": "2024-12-08T14:09:08.695398Z",
     "start_time": "2024-12-08T14:09:08.691815Z"
    }
   },
   "cell_type": "code",
   "source": [
    "df[\"region\"].unique()"
   ],
   "id": "51468a3f46f6af08",
   "outputs": [
    {
     "data": {
      "text/plain": [
       "array(['Ionian Islands', 'Attica', 'Central Macedonia', 'Thessaly',\n",
       "       'Crete', 'Central Greece', 'Epirus', 'Peloponnese',\n",
       "       'Western Greece', 'Eastern Macedonia and Thrace',\n",
       "       'Western Macedonia', 'South Aegean', 'North Aegean'], dtype=object)"
      ]
     },
     "execution_count": 152,
     "metadata": {},
     "output_type": "execute_result"
    }
   ],
   "execution_count": 152
  },
  {
   "metadata": {
    "ExecuteTime": {
     "end_time": "2024-12-08T14:09:08.754310Z",
     "start_time": "2024-12-08T14:09:08.747287Z"
    }
   },
   "cell_type": "code",
   "source": "df.head(3)",
   "id": "8cbe722cc17700c6",
   "outputs": [
    {
     "data": {
      "text/plain": [
       "  project_code    size incorporation_status          region  \\\n",
       "0          p_1   Small    Existing Business  Ionian Islands   \n",
       "1          p_2  Medium    Existing Business          Attica   \n",
       "2          p_2  Medium    Existing Business          Attica   \n",
       "\n",
       "   investment_budget  public_funding nace_2_digits  \\\n",
       "0          482832.00       260504.28            11   \n",
       "1          729388.06       255285.82            25   \n",
       "2          729388.06       255285.82            25   \n",
       "\n",
       "                           nace_2_digits_description sector_letter  \\\n",
       "0                           Manufacture of beverages             C   \n",
       "1  Manufacture of fabricated metal products, exce...             C   \n",
       "2  Manufacture of fabricated metal products, exce...             C   \n",
       "\n",
       "  sector_description  \n",
       "0      Manufacturing  \n",
       "1      Manufacturing  \n",
       "2      Manufacturing  "
      ],
      "text/html": [
       "<div>\n",
       "<style scoped>\n",
       "    .dataframe tbody tr th:only-of-type {\n",
       "        vertical-align: middle;\n",
       "    }\n",
       "\n",
       "    .dataframe tbody tr th {\n",
       "        vertical-align: top;\n",
       "    }\n",
       "\n",
       "    .dataframe thead th {\n",
       "        text-align: right;\n",
       "    }\n",
       "</style>\n",
       "<table border=\"1\" class=\"dataframe\">\n",
       "  <thead>\n",
       "    <tr style=\"text-align: right;\">\n",
       "      <th></th>\n",
       "      <th>project_code</th>\n",
       "      <th>size</th>\n",
       "      <th>incorporation_status</th>\n",
       "      <th>region</th>\n",
       "      <th>investment_budget</th>\n",
       "      <th>public_funding</th>\n",
       "      <th>nace_2_digits</th>\n",
       "      <th>nace_2_digits_description</th>\n",
       "      <th>sector_letter</th>\n",
       "      <th>sector_description</th>\n",
       "    </tr>\n",
       "  </thead>\n",
       "  <tbody>\n",
       "    <tr>\n",
       "      <th>0</th>\n",
       "      <td>p_1</td>\n",
       "      <td>Small</td>\n",
       "      <td>Existing Business</td>\n",
       "      <td>Ionian Islands</td>\n",
       "      <td>482832.00</td>\n",
       "      <td>260504.28</td>\n",
       "      <td>11</td>\n",
       "      <td>Manufacture of beverages</td>\n",
       "      <td>C</td>\n",
       "      <td>Manufacturing</td>\n",
       "    </tr>\n",
       "    <tr>\n",
       "      <th>1</th>\n",
       "      <td>p_2</td>\n",
       "      <td>Medium</td>\n",
       "      <td>Existing Business</td>\n",
       "      <td>Attica</td>\n",
       "      <td>729388.06</td>\n",
       "      <td>255285.82</td>\n",
       "      <td>25</td>\n",
       "      <td>Manufacture of fabricated metal products, exce...</td>\n",
       "      <td>C</td>\n",
       "      <td>Manufacturing</td>\n",
       "    </tr>\n",
       "    <tr>\n",
       "      <th>2</th>\n",
       "      <td>p_2</td>\n",
       "      <td>Medium</td>\n",
       "      <td>Existing Business</td>\n",
       "      <td>Attica</td>\n",
       "      <td>729388.06</td>\n",
       "      <td>255285.82</td>\n",
       "      <td>25</td>\n",
       "      <td>Manufacture of fabricated metal products, exce...</td>\n",
       "      <td>C</td>\n",
       "      <td>Manufacturing</td>\n",
       "    </tr>\n",
       "  </tbody>\n",
       "</table>\n",
       "</div>"
      ]
     },
     "execution_count": 153,
     "metadata": {},
     "output_type": "execute_result"
    }
   ],
   "execution_count": 153
  },
  {
   "cell_type": "markdown",
   "id": "6ab32946cff6d089",
   "metadata": {},
   "source": "### 3.7 Save data to csv to make it publicly available"
  },
  {
   "metadata": {
    "ExecuteTime": {
     "end_time": "2024-12-08T14:09:08.807202Z",
     "start_time": "2024-12-08T14:09:08.804228Z"
    }
   },
   "cell_type": "code",
   "source": [
    "# enforce that nace_2_digits is saved as string\n",
    "df[\"nace_2_digits\"] = df[\"nace_2_digits\"].astype(str)"
   ],
   "id": "3ac9cf19b19ac107",
   "outputs": [],
   "execution_count": 154
  },
  {
   "cell_type": "code",
   "id": "4e354c7828cbbdf3",
   "metadata": {
    "ExecuteTime": {
     "end_time": "2024-12-08T14:09:08.861062Z",
     "start_time": "2024-12-08T14:09:08.855504Z"
    }
   },
   "source": "df.to_csv(\"../data/smrt_manuf_projects_two_digit_activity.csv\", index=False)",
   "outputs": [],
   "execution_count": 155
  },
  {
   "cell_type": "markdown",
   "id": "2268ff61211e209a",
   "metadata": {},
   "source": ""
  },
  {
   "metadata": {
    "ExecuteTime": {
     "end_time": "2024-12-08T14:09:08.889521Z",
     "start_time": "2024-12-08T14:09:08.887931Z"
    }
   },
   "cell_type": "code",
   "source": "",
   "id": "6c6bfa3fe59b00ff",
   "outputs": [],
   "execution_count": null
  },
  {
   "metadata": {
    "ExecuteTime": {
     "end_time": "2024-12-08T14:09:08.926201Z",
     "start_time": "2024-12-08T14:09:08.923971Z"
    }
   },
   "cell_type": "code",
   "source": "",
   "id": "eb9090b586ec27e",
   "outputs": [],
   "execution_count": null
  }
 ],
 "metadata": {
  "kernelspec": {
   "display_name": "Python 3 (ipykernel)",
   "language": "python",
   "name": "python3"
  },
  "language_info": {
   "codemirror_mode": {
    "name": "ipython",
    "version": 3
   },
   "file_extension": ".py",
   "mimetype": "text/x-python",
   "name": "python",
   "nbconvert_exporter": "python",
   "pygments_lexer": "ipython3",
   "version": "3.12.7"
  }
 },
 "nbformat": 4,
 "nbformat_minor": 5
}
