{
 "cells": [
  {
   "cell_type": "markdown",
   "id": "eb1b29fe159d661",
   "metadata": {},
   "source": [
    "# Interactive Data validation and preparation file."
   ]
  },
  {
   "metadata": {
    "ExecuteTime": {
     "end_time": "2024-12-09T15:25:35.422780Z",
     "start_time": "2024-12-09T15:25:35.420622Z"
    }
   },
   "cell_type": "code",
   "source": [
    "# Todo: Refactor all translations process. Script to create dictionanries, dump to json, fuction to create english, french, greek data files."
   ],
   "id": "92972d8fbd53aa6b",
   "outputs": [],
   "execution_count": 161
  },
  {
   "cell_type": "code",
   "id": "cafe2daa4c73ac20",
   "metadata": {
    "ExecuteTime": {
     "end_time": "2024-12-09T15:25:35.498144Z",
     "start_time": "2024-12-09T15:25:35.495816Z"
    }
   },
   "source": [
    "import pandas as pd\n",
    "import numpy as np\n",
    "\n",
    "from parse_nace_codes import parse_nace_codes\n",
    "\n",
    "# Display numpy numbers with two decimal places\n",
    "np.set_printoptions(precision=3)\n",
    "\n",
    "# Display pandas numbers with two decimal places\n",
    "pd.set_option(\"display.float_format\", lambda x: \"%.3f\" % x)"
   ],
   "outputs": [],
   "execution_count": 162
  },
  {
   "cell_type": "code",
   "id": "73772dda7eac9af",
   "metadata": {
    "ExecuteTime": {
     "end_time": "2024-12-09T15:25:35.543764Z",
     "start_time": "2024-12-09T15:25:35.540045Z"
    }
   },
   "source": [
    "# Files location\n",
    "mis_file_path = \"../data/rrf_smrt_manuf_mis_granular_data.xlsx\"\n",
    "official_data_file_path = \"../data/rrf_smrt_manuf_funded_proposals_official_data.xlsx\""
   ],
   "outputs": [],
   "execution_count": 163
  },
  {
   "cell_type": "markdown",
   "id": "7e314652b14c0329",
   "metadata": {},
   "source": [
    "## Read Management Information System (MIS) data"
   ]
  },
  {
   "cell_type": "code",
   "id": "366ff6df96e326c1",
   "metadata": {
    "ExecuteTime": {
     "end_time": "2024-12-09T15:25:35.801504Z",
     "start_time": "2024-12-09T15:25:35.586957Z"
    }
   },
   "source": [
    "# Load MIS excel file\n",
    "with pd.ExcelFile(mis_file_path, engine=\"openpyxl\") as mis_excel_file:\n",
    "    # Get sheet names list\n",
    "    sheet_names = mis_excel_file.sheet_names\n",
    "\n",
    "    # Get sheets as dicts\n",
    "    mis_dfs = pd.read_excel(\n",
    "        mis_file_path,\n",
    "        sheet_name=sheet_names,\n",
    "        engine=\"openpyxl\",\n",
    "    )"
   ],
   "outputs": [],
   "execution_count": 164
  },
  {
   "cell_type": "code",
   "id": "8417cf8cdcec29be",
   "metadata": {
    "ExecuteTime": {
     "end_time": "2024-12-09T15:25:35.827158Z",
     "start_time": "2024-12-09T15:25:35.824818Z"
    }
   },
   "source": [
    "# Convert sheets dictionaries to dataframes\n",
    "mis_proposals_df = mis_dfs[sheet_names[0]]\n",
    "mis_sectors_df = mis_dfs[sheet_names[1]]"
   ],
   "outputs": [],
   "execution_count": 165
  },
  {
   "cell_type": "code",
   "id": "af29555e7950e55",
   "metadata": {
    "ExecuteTime": {
     "end_time": "2024-12-09T15:25:35.873118Z",
     "start_time": "2024-12-09T15:25:35.869681Z"
    }
   },
   "source": [
    "mis_proposals_df.columns"
   ],
   "outputs": [
    {
     "data": {
      "text/plain": [
       "Index(['Κωδικός Πρότασης', 'ΦΑΣΗ ΠΡΟΤΑΣΗΣ', 'Κατάσταση Αιτήματος',\n",
       "       'Τρέχουσα Κατάσταση Πρότασης', 'Επωνυμία Φορέα', 'Μέγεθος',\n",
       "       'Είδος Επιχείρησης', 'Περιφέρεια (unique)', 'ΠΕ (unique)',\n",
       "       'Συνολικός Προϋπολογισμός', 'Επιχορηγούμενος Προϋπολογισμός',\n",
       "       'Αιτούμενη Επιχορήγηση (ΔΔ)'],\n",
       "      dtype='object')"
      ]
     },
     "execution_count": 166,
     "metadata": {},
     "output_type": "execute_result"
    }
   ],
   "execution_count": 166
  },
  {
   "cell_type": "code",
   "id": "a9c06d5a419141c6",
   "metadata": {
    "ExecuteTime": {
     "end_time": "2024-12-09T15:25:35.923590Z",
     "start_time": "2024-12-09T15:25:35.921140Z"
    }
   },
   "source": [
    "# remove 'Επωνυμία Φορέα' column\n",
    "mis_proposals_df = mis_proposals_df.drop(columns=[\"Επωνυμία Φορέα\"])"
   ],
   "outputs": [],
   "execution_count": 167
  },
  {
   "cell_type": "code",
   "id": "4adddcc3c525a982",
   "metadata": {
    "ExecuteTime": {
     "end_time": "2024-12-09T15:25:35.973206Z",
     "start_time": "2024-12-09T15:25:35.969144Z"
    }
   },
   "source": [
    "mis_proposals_df[\"Κατάσταση Αιτήματος\"].unique()"
   ],
   "outputs": [
    {
     "data": {
      "text/plain": [
       "array(['Απορριφθείσα', 'Εγκεκριμένη',\n",
       "       'Έχει υποβληθεί - Δεν έχει παραληφθεί'], dtype=object)"
      ]
     },
     "execution_count": 168,
     "metadata": {},
     "output_type": "execute_result"
    }
   ],
   "execution_count": 168
  },
  {
   "cell_type": "code",
   "id": "171e5ddc1f10d52",
   "metadata": {
    "ExecuteTime": {
     "end_time": "2024-12-09T15:25:36.028499Z",
     "start_time": "2024-12-09T15:25:36.025756Z"
    }
   },
   "source": [
    "mis_approved_proposals = mis_proposals_df[\n",
    "    mis_proposals_df[\"Κατάσταση Αιτήματος\"] == \"Εγκεκριμένη\"\n",
    "]"
   ],
   "outputs": [],
   "execution_count": 169
  },
  {
   "cell_type": "code",
   "id": "9d42ae4756dbfb7d",
   "metadata": {
    "ExecuteTime": {
     "end_time": "2024-12-09T15:25:36.077228Z",
     "start_time": "2024-12-09T15:25:36.074645Z"
    }
   },
   "source": [
    "mis_approved_codes_list = list(mis_approved_proposals[\"Κωδικός Πρότασης\"].values)\n",
    "# strip all whitespaces\n",
    "mis_approved_codes_list = [x.strip() for x in mis_approved_codes_list]"
   ],
   "outputs": [],
   "execution_count": 170
  },
  {
   "cell_type": "markdown",
   "id": "1ac4c1be80f68ea9",
   "metadata": {},
   "source": [
    "## Read official published data"
   ]
  },
  {
   "cell_type": "code",
   "id": "3c0de1a9dea1ed07",
   "metadata": {
    "ExecuteTime": {
     "end_time": "2024-12-09T15:25:36.152201Z",
     "start_time": "2024-12-09T15:25:36.127315Z"
    }
   },
   "source": [
    "official_data_df = pd.read_excel(official_data_file_path, engine=\"openpyxl\")"
   ],
   "outputs": [],
   "execution_count": 171
  },
  {
   "cell_type": "code",
   "id": "cd591a17ebd2ce1e",
   "metadata": {
    "ExecuteTime": {
     "end_time": "2024-12-09T15:25:36.177037Z",
     "start_time": "2024-12-09T15:25:36.174630Z"
    }
   },
   "source": [
    "official_projects_codes_list = list(official_data_df[\"Κωδικός Πρότασης\"].values)\n",
    "# strip all whitespaces\n",
    "official_projects_codes_list = [x.strip() for x in official_projects_codes_list]"
   ],
   "outputs": [],
   "execution_count": 172
  },
  {
   "cell_type": "markdown",
   "id": "17ed6255396f1067",
   "metadata": {},
   "source": "### 1. Data validation and quality"
  },
  {
   "cell_type": "code",
   "id": "b8c7d08c0d537f21",
   "metadata": {
    "ExecuteTime": {
     "end_time": "2024-12-09T15:25:36.227776Z",
     "start_time": "2024-12-09T15:25:36.224228Z"
    }
   },
   "source": [
    "# Test if both lists have the same length\n",
    "len(official_projects_codes_list) == len(mis_approved_codes_list)"
   ],
   "outputs": [
    {
     "data": {
      "text/plain": [
       "True"
      ]
     },
     "execution_count": 173,
     "metadata": {},
     "output_type": "execute_result"
    }
   ],
   "execution_count": 173
  },
  {
   "cell_type": "code",
   "id": "7eb2ca3f59a4f46",
   "metadata": {
    "ExecuteTime": {
     "end_time": "2024-12-09T15:25:36.278824Z",
     "start_time": "2024-12-09T15:25:36.275271Z"
    }
   },
   "source": [
    "# Compare items in the two lists\n",
    "# TODO: refactor using sets\n",
    "items_not_in_mis = [\n",
    "    item for item in official_projects_codes_list if item not in mis_approved_codes_list\n",
    "]\n",
    "items_not_in_mis"
   ],
   "outputs": [
    {
     "data": {
      "text/plain": [
       "[]"
      ]
     },
     "execution_count": 174,
     "metadata": {},
     "output_type": "execute_result"
    }
   ],
   "execution_count": 174
  },
  {
   "cell_type": "code",
   "id": "8e3c6ba2a7b6652e",
   "metadata": {
    "ExecuteTime": {
     "end_time": "2024-12-09T15:25:36.330148Z",
     "start_time": "2024-12-09T15:25:36.327051Z"
    }
   },
   "source": [
    "# TODO: Test if total approved budget is the same in both datasets"
   ],
   "outputs": [],
   "execution_count": 175
  },
  {
   "cell_type": "code",
   "id": "922b241e6eac73ff",
   "metadata": {
    "ExecuteTime": {
     "end_time": "2024-12-09T15:25:36.385764Z",
     "start_time": "2024-12-09T15:25:36.380646Z"
    }
   },
   "source": [
    "# Test if all proposals have been reviewed and submitted in the MIS\n",
    "mis_proposals_df[\"Κατάσταση Αιτήματος\"].unique()"
   ],
   "outputs": [
    {
     "data": {
      "text/plain": [
       "array(['Απορριφθείσα', 'Εγκεκριμένη',\n",
       "       'Έχει υποβληθεί - Δεν έχει παραληφθεί'], dtype=object)"
      ]
     },
     "execution_count": 176,
     "metadata": {},
     "output_type": "execute_result"
    }
   ],
   "execution_count": 176
  },
  {
   "cell_type": "code",
   "id": "3e0c3662a077b02f",
   "metadata": {
    "ExecuteTime": {
     "end_time": "2024-12-09T15:25:36.442480Z",
     "start_time": "2024-12-09T15:25:36.433676Z"
    }
   },
   "source": [
    "non_submitted_df = mis_proposals_df[\n",
    "    mis_proposals_df[\"Κατάσταση Αιτήματος\"] == \"Έχει υποβληθεί - Δεν έχει παραληφθεί\"\n",
    "]  # Rejected proposal.\n",
    "non_submitted_df"
   ],
   "outputs": [
    {
     "data": {
      "text/plain": [
       "                   Κωδικός Πρότασης        ΦΑΣΗ ΠΡΟΤΑΣΗΣ  \\\n",
       "127  ΕΞΜΠ-0544761                    Γνωμοδοτική Ένταξης   \n",
       "\n",
       "                      Κατάσταση Αιτήματος Τρέχουσα Κατάσταση Πρότασης  \\\n",
       "127  Έχει υποβληθεί - Δεν έχει παραληφθεί                Απορριφθείσα   \n",
       "\n",
       "        Μέγεθος      Είδος Επιχείρησης Περιφέρεια (unique) ΠΕ (unique)  \\\n",
       "127  Πολύ Μικρή  Υφιστάμενη Επιχείρηση              Κρήτης    ΛΑΣΙΘΙΟΥ   \n",
       "\n",
       "     Συνολικός Προϋπολογισμός  Επιχορηγούμενος Προϋπολογισμός  \\\n",
       "127                276605.800                      276605.800   \n",
       "\n",
       "     Αιτούμενη Επιχορήγηση (ΔΔ)  \n",
       "127                  165963.480  "
      ],
      "text/html": [
       "<div>\n",
       "<style scoped>\n",
       "    .dataframe tbody tr th:only-of-type {\n",
       "        vertical-align: middle;\n",
       "    }\n",
       "\n",
       "    .dataframe tbody tr th {\n",
       "        vertical-align: top;\n",
       "    }\n",
       "\n",
       "    .dataframe thead th {\n",
       "        text-align: right;\n",
       "    }\n",
       "</style>\n",
       "<table border=\"1\" class=\"dataframe\">\n",
       "  <thead>\n",
       "    <tr style=\"text-align: right;\">\n",
       "      <th></th>\n",
       "      <th>Κωδικός Πρότασης</th>\n",
       "      <th>ΦΑΣΗ ΠΡΟΤΑΣΗΣ</th>\n",
       "      <th>Κατάσταση Αιτήματος</th>\n",
       "      <th>Τρέχουσα Κατάσταση Πρότασης</th>\n",
       "      <th>Μέγεθος</th>\n",
       "      <th>Είδος Επιχείρησης</th>\n",
       "      <th>Περιφέρεια (unique)</th>\n",
       "      <th>ΠΕ (unique)</th>\n",
       "      <th>Συνολικός Προϋπολογισμός</th>\n",
       "      <th>Επιχορηγούμενος Προϋπολογισμός</th>\n",
       "      <th>Αιτούμενη Επιχορήγηση (ΔΔ)</th>\n",
       "    </tr>\n",
       "  </thead>\n",
       "  <tbody>\n",
       "    <tr>\n",
       "      <th>127</th>\n",
       "      <td>ΕΞΜΠ-0544761</td>\n",
       "      <td>Γνωμοδοτική Ένταξης</td>\n",
       "      <td>Έχει υποβληθεί - Δεν έχει παραληφθεί</td>\n",
       "      <td>Απορριφθείσα</td>\n",
       "      <td>Πολύ Μικρή</td>\n",
       "      <td>Υφιστάμενη Επιχείρηση</td>\n",
       "      <td>Κρήτης</td>\n",
       "      <td>ΛΑΣΙΘΙΟΥ</td>\n",
       "      <td>276605.800</td>\n",
       "      <td>276605.800</td>\n",
       "      <td>165963.480</td>\n",
       "    </tr>\n",
       "  </tbody>\n",
       "</table>\n",
       "</div>"
      ]
     },
     "execution_count": 177,
     "metadata": {},
     "output_type": "execute_result"
    }
   ],
   "execution_count": 177
  },
  {
   "cell_type": "markdown",
   "id": "24f928f5430ffab3",
   "metadata": {},
   "source": "### 2. Drop and rename columns"
  },
  {
   "metadata": {},
   "cell_type": "markdown",
   "source": "### 2.1 Transform MIS proposals data",
   "id": "26a13da6a2304b6b"
  },
  {
   "cell_type": "code",
   "id": "390920f312372208",
   "metadata": {
    "ExecuteTime": {
     "end_time": "2024-12-09T15:25:36.510540Z",
     "start_time": "2024-12-09T15:25:36.508178Z"
    }
   },
   "source": [
    "df = mis_approved_proposals"
   ],
   "outputs": [],
   "execution_count": 178
  },
  {
   "cell_type": "code",
   "id": "1a2c702092ac2ccc",
   "metadata": {
    "ExecuteTime": {
     "end_time": "2024-12-09T15:25:36.554865Z",
     "start_time": "2024-12-09T15:25:36.551938Z"
    }
   },
   "source": [
    "cols_to_drop = [\"ΦΑΣΗ ΠΡΟΤΑΣΗΣ\", \"Κατάσταση Αιτήματος\", \"Τρέχουσα Κατάσταση Πρότασης\"]\n",
    "df = df.drop(columns=cols_to_drop)"
   ],
   "outputs": [],
   "execution_count": 179
  },
  {
   "cell_type": "code",
   "id": "b7f81622b883b024",
   "metadata": {
    "ExecuteTime": {
     "end_time": "2024-12-09T15:25:36.650916Z",
     "start_time": "2024-12-09T15:25:36.647943Z"
    }
   },
   "source": [
    "df.columns"
   ],
   "outputs": [
    {
     "data": {
      "text/plain": [
       "Index(['Κωδικός Πρότασης', 'Μέγεθος', 'Είδος Επιχείρησης',\n",
       "       'Περιφέρεια (unique)', 'ΠΕ (unique)', 'Συνολικός Προϋπολογισμός',\n",
       "       'Επιχορηγούμενος Προϋπολογισμός', 'Αιτούμενη Επιχορήγηση (ΔΔ)'],\n",
       "      dtype='object')"
      ]
     },
     "execution_count": 180,
     "metadata": {},
     "output_type": "execute_result"
    }
   ],
   "execution_count": 180
  },
  {
   "cell_type": "code",
   "id": "a67ec5e5bf9b6e05",
   "metadata": {
    "ExecuteTime": {
     "end_time": "2024-12-09T15:25:36.696892Z",
     "start_time": "2024-12-09T15:25:36.694150Z"
    }
   },
   "source": [
    "# rename, translate column names\n",
    "df.columns = [\n",
    "    \"project_code\",\n",
    "    \"size\",\n",
    "    \"status\",\n",
    "    \"region\",\n",
    "    \"regional_unit\",\n",
    "    \"investment_budget\",\n",
    "    \"eligible_budget\",\n",
    "    \"public_funding\",\n",
    "]"
   ],
   "outputs": [],
   "execution_count": 181
  },
  {
   "metadata": {
    "ExecuteTime": {
     "end_time": "2024-12-09T15:25:36.777883Z",
     "start_time": "2024-12-09T15:25:36.774181Z"
    }
   },
   "cell_type": "code",
   "source": "df.project_code.unique()[:3]",
   "id": "1ec9a1f89fe2e840",
   "outputs": [
    {
     "data": {
      "text/plain": [
       "array(['ΕΞΜΠ-0543351                  ', 'ΕΞΜΠ-0543354                  ',\n",
       "       'ΕΞΜΠ-0543368                  '], dtype=object)"
      ]
     },
     "execution_count": 182,
     "metadata": {},
     "output_type": "execute_result"
    }
   ],
   "execution_count": 182
  },
  {
   "metadata": {
    "ExecuteTime": {
     "end_time": "2024-12-09T15:25:36.830942Z",
     "start_time": "2024-12-09T15:25:36.828053Z"
    }
   },
   "cell_type": "code",
   "source": [
    "# strip whitespaces from df[\"project_code\"]\n",
    "df[\"project_code\"] = df[\"project_code\"].str.strip()"
   ],
   "id": "a456bb585c4051b7",
   "outputs": [],
   "execution_count": 183
  },
  {
   "metadata": {},
   "cell_type": "markdown",
   "source": "### 2.1 Transform MIS sectors' data",
   "id": "9827c1a5f564971"
  },
  {
   "cell_type": "code",
   "id": "93e54edc197c7e51",
   "metadata": {
    "ExecuteTime": {
     "end_time": "2024-12-09T15:25:36.885923Z",
     "start_time": "2024-12-09T15:25:36.882714Z"
    }
   },
   "source": "mis_sectors_df.columns",
   "outputs": [
    {
     "data": {
      "text/plain": [
       "Index(['Κωδικός Πρότασης', 'ΚΑΔ', '4ψήφιος ΚΑΔ - Κωδικός', 'Περιγραφή ΚΑΔ',\n",
       "       'Κύριος ΚΑΔ', 'ΚΑΔ Επένδυσης?'],\n",
       "      dtype='object')"
      ]
     },
     "execution_count": 184,
     "metadata": {},
     "output_type": "execute_result"
    }
   ],
   "execution_count": 184
  },
  {
   "cell_type": "code",
   "id": "ee7a6f58c1eff6f4",
   "metadata": {
    "ExecuteTime": {
     "end_time": "2024-12-09T15:25:36.935159Z",
     "start_time": "2024-12-09T15:25:36.932502Z"
    }
   },
   "source": [
    "# keep only necessary columns\n",
    "mis_sectors_df.columns = [\n",
    "    \"project_code\",\n",
    "    \"nace_8_digits_code\",\n",
    "    \"nace_4_digits_code\",\n",
    "    \"description_nace_8_digits\",\n",
    "    \"main_nace\",\n",
    "    \"investment_nace\",\n",
    "]"
   ],
   "outputs": [],
   "execution_count": 185
  },
  {
   "cell_type": "code",
   "id": "bf91b78ac43f8c0a",
   "metadata": {
    "ExecuteTime": {
     "end_time": "2024-12-09T15:25:36.984044Z",
     "start_time": "2024-12-09T15:25:36.980281Z"
    }
   },
   "source": [
    "mis_sectors_df[\"investment_nace\"].unique()"
   ],
   "outputs": [
    {
     "data": {
      "text/plain": [
       "array(['NAI', 'OXI'], dtype=object)"
      ]
     },
     "execution_count": 186,
     "metadata": {},
     "output_type": "execute_result"
    }
   ],
   "execution_count": 186
  },
  {
   "metadata": {
    "ExecuteTime": {
     "end_time": "2024-12-09T15:25:37.034993Z",
     "start_time": "2024-12-09T15:25:37.031338Z"
    }
   },
   "cell_type": "code",
   "source": "mis_sectors_df[\"project_code\"].unique()[:3]",
   "id": "de93f3b3ad58af5b",
   "outputs": [
    {
     "data": {
      "text/plain": [
       "array(['ΕΞΜΠ-0543351                  ', 'ΕΞΜΠ-0543354                  ',\n",
       "       'ΕΞΜΠ-0543368                  '], dtype=object)"
      ]
     },
     "execution_count": 187,
     "metadata": {},
     "output_type": "execute_result"
    }
   ],
   "execution_count": 187
  },
  {
   "metadata": {
    "ExecuteTime": {
     "end_time": "2024-12-09T15:25:37.083901Z",
     "start_time": "2024-12-09T15:25:37.080482Z"
    }
   },
   "cell_type": "code",
   "source": [
    "# strip whitespaces from mis_sectors_df[\"project_code\"]\n",
    "mis_sectors_df[\"project_code\"] = mis_sectors_df[\"project_code\"].str.strip()"
   ],
   "id": "b5d65256448d3ca2",
   "outputs": [],
   "execution_count": 188
  },
  {
   "metadata": {
    "ExecuteTime": {
     "end_time": "2024-12-09T15:25:37.134306Z",
     "start_time": "2024-12-09T15:25:37.131Z"
    }
   },
   "cell_type": "code",
   "source": "mis_sectors_df[\"project_code\"].unique()[:3]",
   "id": "a63b42f815ffe223",
   "outputs": [
    {
     "data": {
      "text/plain": [
       "array(['ΕΞΜΠ-0543351', 'ΕΞΜΠ-0543354', 'ΕΞΜΠ-0543368'], dtype=object)"
      ]
     },
     "execution_count": 189,
     "metadata": {},
     "output_type": "execute_result"
    }
   ],
   "execution_count": 189
  },
  {
   "metadata": {},
   "cell_type": "markdown",
   "source": "## 3. Focus on the approved proposals for investment",
   "id": "11d4a865e2092f56"
  },
  {
   "cell_type": "markdown",
   "id": "edecd016fde668cf",
   "metadata": {},
   "source": "### 3.1. Keep only investments' sectors"
  },
  {
   "cell_type": "code",
   "id": "fd1678fdc4dd5679",
   "metadata": {
    "ExecuteTime": {
     "end_time": "2024-12-09T15:25:37.183962Z",
     "start_time": "2024-12-09T15:25:37.180854Z"
    }
   },
   "source": [
    "investment_sectors = mis_sectors_df[mis_sectors_df[\"investment_nace\"] == \"NAI\"]"
   ],
   "outputs": [],
   "execution_count": 190
  },
  {
   "cell_type": "code",
   "id": "c3164d2f4298b044",
   "metadata": {
    "ExecuteTime": {
     "end_time": "2024-12-09T15:25:37.235681Z",
     "start_time": "2024-12-09T15:25:37.232329Z"
    }
   },
   "source": [
    "len(investment_sectors)"
   ],
   "outputs": [
    {
     "data": {
      "text/plain": [
       "351"
      ]
     },
     "execution_count": 191,
     "metadata": {},
     "output_type": "execute_result"
    }
   ],
   "execution_count": 191
  },
  {
   "cell_type": "code",
   "id": "e8d3f5d82dad90dd",
   "metadata": {
    "ExecuteTime": {
     "end_time": "2024-12-09T15:25:37.285392Z",
     "start_time": "2024-12-09T15:25:37.281293Z"
    }
   },
   "source": [
    "other_sectors = mis_sectors_df[mis_sectors_df[\"investment_nace\"] == \"OXI\"]\n",
    "len(other_sectors)"
   ],
   "outputs": [
    {
     "data": {
      "text/plain": [
       "1198"
      ]
     },
     "execution_count": 192,
     "metadata": {},
     "output_type": "execute_result"
    }
   ],
   "execution_count": 192
  },
  {
   "cell_type": "code",
   "id": "9dd884919db85a89",
   "metadata": {
    "ExecuteTime": {
     "end_time": "2024-12-09T15:25:37.337758Z",
     "start_time": "2024-12-09T15:25:37.333744Z"
    }
   },
   "source": "len(mis_sectors_df[\"nace_4_digits_code\"].unique())",
   "outputs": [
    {
     "data": {
      "text/plain": [
       "307"
      ]
     },
     "execution_count": 193,
     "metadata": {},
     "output_type": "execute_result"
    }
   ],
   "execution_count": 193
  },
  {
   "cell_type": "code",
   "id": "c971b49f34959e0c",
   "metadata": {
    "ExecuteTime": {
     "end_time": "2024-12-09T15:25:37.394535Z",
     "start_time": "2024-12-09T15:25:37.388307Z"
    }
   },
   "source": [
    "investment_sectors.head(10)"
   ],
   "outputs": [
    {
     "data": {
      "text/plain": [
       "    project_code nace_8_digits_code  nace_4_digits_code  \\\n",
       "0   ΕΞΜΠ-0543351           11.05.10              11.050   \n",
       "3   ΕΞΜΠ-0543354           25.62.10              25.620   \n",
       "4   ΕΞΜΠ-0543354           25.62.20              25.620   \n",
       "5   ΕΞΜΠ-0543354           28.11.41              28.110   \n",
       "23  ΕΞΜΠ-0543368           31.02.10              31.020   \n",
       "24  ΕΞΜΠ-0543368           31.09.12              31.090   \n",
       "25  ΕΞΜΠ-0543368           31.09.13              31.090   \n",
       "26  ΕΞΜΠ-0543368        31.09.92.01              31.090   \n",
       "41  ΕΞΜΠ-0543374            25.62.1              25.620   \n",
       "42  ΕΞΜΠ-0543374              25.99              25.990   \n",
       "\n",
       "                            description_nace_8_digits main_nace  \\\n",
       "0     Παραγωγή μπίρας, εκτός από κατάλοιπα ζυθοποιίας       NAI   \n",
       "3                Υπηρεσίες τόρνευσης μεταλλικών μερών       OXI   \n",
       "4                      Άλλες υπηρεσίες μεταλλοτεχνίας       OXI   \n",
       "5   Κατασκευή μερών κινητήρων εσωτερικής καύσης στ...       NAI   \n",
       "23                         Κατασκευή επίπλων κουζίνας       OXI   \n",
       "24  Κατασκευή ξύλινων επίπλων που χρησιμοποιούνται...       NAI   \n",
       "25                 Κατασκευή ξύλινων επίπλων π.δ.κ.α.       OXI   \n",
       "26    Υπηρεσίες αποκατάστασης και ανακαίνισης επίπλων       OXI   \n",
       "41               Υπηρεσίες τόρνευσης μεταλλικών μερών       OXI   \n",
       "42      Κατασκευή άλλων μεταλλικών προϊόντων π.δ.κ.α.       OXI   \n",
       "\n",
       "   investment_nace  \n",
       "0              NAI  \n",
       "3              NAI  \n",
       "4              NAI  \n",
       "5              NAI  \n",
       "23             NAI  \n",
       "24             NAI  \n",
       "25             NAI  \n",
       "26             NAI  \n",
       "41             NAI  \n",
       "42             NAI  "
      ],
      "text/html": [
       "<div>\n",
       "<style scoped>\n",
       "    .dataframe tbody tr th:only-of-type {\n",
       "        vertical-align: middle;\n",
       "    }\n",
       "\n",
       "    .dataframe tbody tr th {\n",
       "        vertical-align: top;\n",
       "    }\n",
       "\n",
       "    .dataframe thead th {\n",
       "        text-align: right;\n",
       "    }\n",
       "</style>\n",
       "<table border=\"1\" class=\"dataframe\">\n",
       "  <thead>\n",
       "    <tr style=\"text-align: right;\">\n",
       "      <th></th>\n",
       "      <th>project_code</th>\n",
       "      <th>nace_8_digits_code</th>\n",
       "      <th>nace_4_digits_code</th>\n",
       "      <th>description_nace_8_digits</th>\n",
       "      <th>main_nace</th>\n",
       "      <th>investment_nace</th>\n",
       "    </tr>\n",
       "  </thead>\n",
       "  <tbody>\n",
       "    <tr>\n",
       "      <th>0</th>\n",
       "      <td>ΕΞΜΠ-0543351</td>\n",
       "      <td>11.05.10</td>\n",
       "      <td>11.050</td>\n",
       "      <td>Παραγωγή μπίρας, εκτός από κατάλοιπα ζυθοποιίας</td>\n",
       "      <td>NAI</td>\n",
       "      <td>NAI</td>\n",
       "    </tr>\n",
       "    <tr>\n",
       "      <th>3</th>\n",
       "      <td>ΕΞΜΠ-0543354</td>\n",
       "      <td>25.62.10</td>\n",
       "      <td>25.620</td>\n",
       "      <td>Υπηρεσίες τόρνευσης μεταλλικών μερών</td>\n",
       "      <td>OXI</td>\n",
       "      <td>NAI</td>\n",
       "    </tr>\n",
       "    <tr>\n",
       "      <th>4</th>\n",
       "      <td>ΕΞΜΠ-0543354</td>\n",
       "      <td>25.62.20</td>\n",
       "      <td>25.620</td>\n",
       "      <td>Άλλες υπηρεσίες μεταλλοτεχνίας</td>\n",
       "      <td>OXI</td>\n",
       "      <td>NAI</td>\n",
       "    </tr>\n",
       "    <tr>\n",
       "      <th>5</th>\n",
       "      <td>ΕΞΜΠ-0543354</td>\n",
       "      <td>28.11.41</td>\n",
       "      <td>28.110</td>\n",
       "      <td>Κατασκευή μερών κινητήρων εσωτερικής καύσης στ...</td>\n",
       "      <td>NAI</td>\n",
       "      <td>NAI</td>\n",
       "    </tr>\n",
       "    <tr>\n",
       "      <th>23</th>\n",
       "      <td>ΕΞΜΠ-0543368</td>\n",
       "      <td>31.02.10</td>\n",
       "      <td>31.020</td>\n",
       "      <td>Κατασκευή επίπλων κουζίνας</td>\n",
       "      <td>OXI</td>\n",
       "      <td>NAI</td>\n",
       "    </tr>\n",
       "    <tr>\n",
       "      <th>24</th>\n",
       "      <td>ΕΞΜΠ-0543368</td>\n",
       "      <td>31.09.12</td>\n",
       "      <td>31.090</td>\n",
       "      <td>Κατασκευή ξύλινων επίπλων που χρησιμοποιούνται...</td>\n",
       "      <td>NAI</td>\n",
       "      <td>NAI</td>\n",
       "    </tr>\n",
       "    <tr>\n",
       "      <th>25</th>\n",
       "      <td>ΕΞΜΠ-0543368</td>\n",
       "      <td>31.09.13</td>\n",
       "      <td>31.090</td>\n",
       "      <td>Κατασκευή ξύλινων επίπλων π.δ.κ.α.</td>\n",
       "      <td>OXI</td>\n",
       "      <td>NAI</td>\n",
       "    </tr>\n",
       "    <tr>\n",
       "      <th>26</th>\n",
       "      <td>ΕΞΜΠ-0543368</td>\n",
       "      <td>31.09.92.01</td>\n",
       "      <td>31.090</td>\n",
       "      <td>Υπηρεσίες αποκατάστασης και ανακαίνισης επίπλων</td>\n",
       "      <td>OXI</td>\n",
       "      <td>NAI</td>\n",
       "    </tr>\n",
       "    <tr>\n",
       "      <th>41</th>\n",
       "      <td>ΕΞΜΠ-0543374</td>\n",
       "      <td>25.62.1</td>\n",
       "      <td>25.620</td>\n",
       "      <td>Υπηρεσίες τόρνευσης μεταλλικών μερών</td>\n",
       "      <td>OXI</td>\n",
       "      <td>NAI</td>\n",
       "    </tr>\n",
       "    <tr>\n",
       "      <th>42</th>\n",
       "      <td>ΕΞΜΠ-0543374</td>\n",
       "      <td>25.99</td>\n",
       "      <td>25.990</td>\n",
       "      <td>Κατασκευή άλλων μεταλλικών προϊόντων π.δ.κ.α.</td>\n",
       "      <td>OXI</td>\n",
       "      <td>NAI</td>\n",
       "    </tr>\n",
       "  </tbody>\n",
       "</table>\n",
       "</div>"
      ]
     },
     "execution_count": 194,
     "metadata": {},
     "output_type": "execute_result"
    }
   ],
   "execution_count": 194
  },
  {
   "cell_type": "markdown",
   "id": "deece2357609a69",
   "metadata": {},
   "source": [
    "The description corresponds to the 6 or 8 digit NACE codes."
   ]
  },
  {
   "cell_type": "markdown",
   "id": "c241d403a0c1796f",
   "metadata": {},
   "source": [
    "### 3.2 Merge MIS approved proposals data with sectors data"
   ]
  },
  {
   "cell_type": "code",
   "id": "a71399f695ea9228",
   "metadata": {
    "ExecuteTime": {
     "end_time": "2024-12-09T15:25:37.465303Z",
     "start_time": "2024-12-09T15:25:37.461914Z"
    }
   },
   "source": [
    "# merge proposals and sectors dataframes on 'Κωδικός Πρότασης'\n",
    "merged_sectors_df = pd.merge(df, investment_sectors, on=\"project_code\")"
   ],
   "outputs": [],
   "execution_count": 195
  },
  {
   "cell_type": "code",
   "id": "bde21e153358544c",
   "metadata": {
    "ExecuteTime": {
     "end_time": "2024-12-09T15:25:37.512974Z",
     "start_time": "2024-12-09T15:25:37.509264Z"
    }
   },
   "source": [
    "len(merged_sectors_df)  # in 6 digits NACE codes"
   ],
   "outputs": [
    {
     "data": {
      "text/plain": [
       "351"
      ]
     },
     "execution_count": 196,
     "metadata": {},
     "output_type": "execute_result"
    }
   ],
   "execution_count": 196
  },
  {
   "cell_type": "code",
   "id": "19fd1d747ff92eb6",
   "metadata": {
    "ExecuteTime": {
     "end_time": "2024-12-09T15:25:37.576504Z",
     "start_time": "2024-12-09T15:25:37.572693Z"
    }
   },
   "source": [
    "merged_sectors_df[\"project_code\"].nunique()"
   ],
   "outputs": [
    {
     "data": {
      "text/plain": [
       "151"
      ]
     },
     "execution_count": 197,
     "metadata": {},
     "output_type": "execute_result"
    }
   ],
   "execution_count": 197
  },
  {
   "cell_type": "markdown",
   "id": "df68851f8ccc0866",
   "metadata": {},
   "source": [
    "#### Note: There are 351 sector rows for 151 projects. This is because many projects are investing in multiple sectors."
   ]
  },
  {
   "cell_type": "markdown",
   "id": "4726aaa158d648af",
   "metadata": {},
   "source": [
    "### 3.3 Convert NACE codes to two digits"
   ]
  },
  {
   "cell_type": "code",
   "id": "10ebfcc64479f930",
   "metadata": {
    "ExecuteTime": {
     "end_time": "2024-12-09T15:25:37.642700Z",
     "start_time": "2024-12-09T15:25:37.638414Z"
    }
   },
   "source": [
    "# test if there are codes below 10, that might miss the first zero\n",
    "sorted(merged_sectors_df[\"nace_4_digits_code\"].unique())[:5]"
   ],
   "outputs": [
    {
     "data": {
      "text/plain": [
       "[np.float64(10.13),\n",
       " np.float64(10.31),\n",
       " np.float64(10.39),\n",
       " np.float64(10.41),\n",
       " np.float64(10.51)]"
      ]
     },
     "execution_count": 198,
     "metadata": {},
     "output_type": "execute_result"
    }
   ],
   "execution_count": 198
  },
  {
   "cell_type": "code",
   "id": "24688babe25b7684",
   "metadata": {
    "ExecuteTime": {
     "end_time": "2024-12-09T15:25:37.696009Z",
     "start_time": "2024-12-09T15:25:37.692464Z"
    }
   },
   "source": [
    "# convert nace_4_digits and nace_8_digits to string. TODO: Do it in one line.\n",
    "merged_sectors_df[\"nace_4_digits_code\"] = merged_sectors_df[\"nace_4_digits_code\"].apply(str)\n",
    "merged_sectors_df[\"nace_8_digits_code\"] = merged_sectors_df[\"nace_8_digits_code\"].apply(str)"
   ],
   "outputs": [],
   "execution_count": 199
  },
  {
   "cell_type": "code",
   "id": "86f9e3a193c8b252",
   "metadata": {
    "ExecuteTime": {
     "end_time": "2024-12-09T15:25:37.746050Z",
     "start_time": "2024-12-09T15:25:37.743175Z"
    }
   },
   "source": [
    "# get first two digits of the nace_4_digits code and save it in a new column\n",
    "merged_sectors_df[\"nace_2_digits_code\"] = merged_sectors_df[\"nace_4_digits_code\"].apply(\n",
    "    lambda x: x[:2]\n",
    ")"
   ],
   "outputs": [],
   "execution_count": 200
  },
  {
   "cell_type": "code",
   "id": "6fc3aac150108e8a",
   "metadata": {
    "ExecuteTime": {
     "end_time": "2024-12-09T15:25:37.796012Z",
     "start_time": "2024-12-09T15:25:37.792136Z"
    }
   },
   "source": [
    "# data validation test\n",
    "merged_sectors_df.investment_nace.unique()"
   ],
   "outputs": [
    {
     "data": {
      "text/plain": [
       "array(['NAI'], dtype=object)"
      ]
     },
     "execution_count": 201,
     "metadata": {},
     "output_type": "execute_result"
    }
   ],
   "execution_count": 201
  },
  {
   "cell_type": "code",
   "id": "8f5e0c0f55c33607",
   "metadata": {
    "ExecuteTime": {
     "end_time": "2024-12-09T15:25:37.845845Z",
     "start_time": "2024-12-09T15:25:37.842367Z"
    }
   },
   "source": [
    "merged_sectors_df.columns"
   ],
   "outputs": [
    {
     "data": {
      "text/plain": [
       "Index(['project_code', 'size', 'status', 'region', 'regional_unit',\n",
       "       'investment_budget', 'eligible_budget', 'public_funding',\n",
       "       'nace_8_digits_code', 'nace_4_digits_code', 'description_nace_8_digits',\n",
       "       'main_nace', 'investment_nace', 'nace_2_digits_code'],\n",
       "      dtype='object')"
      ]
     },
     "execution_count": 202,
     "metadata": {},
     "output_type": "execute_result"
    }
   ],
   "execution_count": 202
  },
  {
   "cell_type": "code",
   "id": "dd7f45138286abed",
   "metadata": {
    "ExecuteTime": {
     "end_time": "2024-12-09T15:25:37.896481Z",
     "start_time": "2024-12-09T15:25:37.892973Z"
    }
   },
   "source": [
    "# keep necessary columns for two digit sectoral analysis\n",
    "large_sectors_df = merged_sectors_df[\n",
    "    [\n",
    "        \"project_code\",\n",
    "        \"size\",\n",
    "        \"status\",\n",
    "        \"region\",\n",
    "        \"investment_budget\",\n",
    "        \"public_funding\",\n",
    "        \"nace_2_digits_code\",\n",
    "    ]\n",
    "]"
   ],
   "outputs": [],
   "execution_count": 203
  },
  {
   "cell_type": "code",
   "id": "560de19fc8e806ca",
   "metadata": {
    "ExecuteTime": {
     "end_time": "2024-12-09T15:25:37.956423Z",
     "start_time": "2024-12-09T15:25:37.950223Z"
    }
   },
   "source": [
    "large_sectors_df.head(2)"
   ],
   "outputs": [
    {
     "data": {
      "text/plain": [
       "   project_code    size                 status        region  \\\n",
       "0  ΕΞΜΠ-0543351   Μικρή  Υφιστάμενη Επιχείρηση  Ιονίων Νήσων   \n",
       "1  ΕΞΜΠ-0543354  Μεσαία  Υφιστάμενη Επιχείρηση       Αττικής   \n",
       "\n",
       "   investment_budget  public_funding nace_2_digits_code  \n",
       "0         482832.000      260504.280                 11  \n",
       "1         729388.060      255285.820                 25  "
      ],
      "text/html": [
       "<div>\n",
       "<style scoped>\n",
       "    .dataframe tbody tr th:only-of-type {\n",
       "        vertical-align: middle;\n",
       "    }\n",
       "\n",
       "    .dataframe tbody tr th {\n",
       "        vertical-align: top;\n",
       "    }\n",
       "\n",
       "    .dataframe thead th {\n",
       "        text-align: right;\n",
       "    }\n",
       "</style>\n",
       "<table border=\"1\" class=\"dataframe\">\n",
       "  <thead>\n",
       "    <tr style=\"text-align: right;\">\n",
       "      <th></th>\n",
       "      <th>project_code</th>\n",
       "      <th>size</th>\n",
       "      <th>status</th>\n",
       "      <th>region</th>\n",
       "      <th>investment_budget</th>\n",
       "      <th>public_funding</th>\n",
       "      <th>nace_2_digits_code</th>\n",
       "    </tr>\n",
       "  </thead>\n",
       "  <tbody>\n",
       "    <tr>\n",
       "      <th>0</th>\n",
       "      <td>ΕΞΜΠ-0543351</td>\n",
       "      <td>Μικρή</td>\n",
       "      <td>Υφιστάμενη Επιχείρηση</td>\n",
       "      <td>Ιονίων Νήσων</td>\n",
       "      <td>482832.000</td>\n",
       "      <td>260504.280</td>\n",
       "      <td>11</td>\n",
       "    </tr>\n",
       "    <tr>\n",
       "      <th>1</th>\n",
       "      <td>ΕΞΜΠ-0543354</td>\n",
       "      <td>Μεσαία</td>\n",
       "      <td>Υφιστάμενη Επιχείρηση</td>\n",
       "      <td>Αττικής</td>\n",
       "      <td>729388.060</td>\n",
       "      <td>255285.820</td>\n",
       "      <td>25</td>\n",
       "    </tr>\n",
       "  </tbody>\n",
       "</table>\n",
       "</div>"
      ]
     },
     "execution_count": 204,
     "metadata": {},
     "output_type": "execute_result"
    }
   ],
   "execution_count": 204
  },
  {
   "cell_type": "code",
   "id": "c0d9b4b5269dc199",
   "metadata": {
    "ExecuteTime": {
     "end_time": "2024-12-09T15:25:38.026398Z",
     "start_time": "2024-12-09T15:25:38.022950Z"
    }
   },
   "source": [
    "# Number of sectors\n",
    "large_sectors_df[\"nace_2_digits_code\"].nunique()"
   ],
   "outputs": [
    {
     "data": {
      "text/plain": [
       "24"
      ]
     },
     "execution_count": 205,
     "metadata": {},
     "output_type": "execute_result"
    }
   ],
   "execution_count": 205
  },
  {
   "cell_type": "markdown",
   "id": "7f70f7179aaf11bb",
   "metadata": {},
   "source": [
    "\n",
    "### 3.4 Add two digits sector descriptions"
   ]
  },
  {
   "cell_type": "code",
   "id": "5cacaaacb6d31650",
   "metadata": {
    "ExecuteTime": {
     "end_time": "2024-12-09T15:25:38.067695Z",
     "start_time": "2024-12-09T15:25:38.065015Z"
    }
   },
   "source": [
    "# Use the NACE codes dictionary to get the sector descriptions\n",
    "nace_codes_elstat_file = \"../data/EconActiv_nace_2_gr.xls\""
   ],
   "outputs": [],
   "execution_count": 206
  },
  {
   "cell_type": "code",
   "id": "c31de1965f542e21",
   "metadata": {
    "ExecuteTime": {
     "end_time": "2024-12-09T15:25:38.133338Z",
     "start_time": "2024-12-09T15:25:38.118521Z"
    }
   },
   "source": [
    "# Use custom function\n",
    "nace_2_digits_descriptions = parse_nace_codes(nace_codes_elstat_file)"
   ],
   "outputs": [],
   "execution_count": 207
  },
  {
   "cell_type": "code",
   "id": "de6b146fd8fee9b7",
   "metadata": {
    "ExecuteTime": {
     "end_time": "2024-12-09T15:25:38.203526Z",
     "start_time": "2024-12-09T15:25:38.200417Z"
    }
   },
   "source": [
    "large_sectors_df = large_sectors_df.assign(\n",
    "    nace_2_digits_description=large_sectors_df[\"nace_2_digits_code\"].map(\n",
    "        nace_2_digits_descriptions\n",
    "    )\n",
    ")"
   ],
   "outputs": [],
   "execution_count": 208
  },
  {
   "cell_type": "code",
   "id": "6be5f38f92c12dab",
   "metadata": {
    "ExecuteTime": {
     "end_time": "2024-12-09T15:25:38.253930Z",
     "start_time": "2024-12-09T15:25:38.247151Z"
    }
   },
   "source": "large_sectors_df.head(2)",
   "outputs": [
    {
     "data": {
      "text/plain": [
       "   project_code    size                 status        region  \\\n",
       "0  ΕΞΜΠ-0543351   Μικρή  Υφιστάμενη Επιχείρηση  Ιονίων Νήσων   \n",
       "1  ΕΞΜΠ-0543354  Μεσαία  Υφιστάμενη Επιχείρηση       Αττικής   \n",
       "\n",
       "   investment_budget  public_funding nace_2_digits_code  \\\n",
       "0         482832.000      260504.280                 11   \n",
       "1         729388.060      255285.820                 25   \n",
       "\n",
       "                           nace_2_digits_description  \n",
       "0                                          Ποτοποιία  \n",
       "1  Κατασκευή μεταλλικών προϊόντων, με εξαίρεση τα...  "
      ],
      "text/html": [
       "<div>\n",
       "<style scoped>\n",
       "    .dataframe tbody tr th:only-of-type {\n",
       "        vertical-align: middle;\n",
       "    }\n",
       "\n",
       "    .dataframe tbody tr th {\n",
       "        vertical-align: top;\n",
       "    }\n",
       "\n",
       "    .dataframe thead th {\n",
       "        text-align: right;\n",
       "    }\n",
       "</style>\n",
       "<table border=\"1\" class=\"dataframe\">\n",
       "  <thead>\n",
       "    <tr style=\"text-align: right;\">\n",
       "      <th></th>\n",
       "      <th>project_code</th>\n",
       "      <th>size</th>\n",
       "      <th>status</th>\n",
       "      <th>region</th>\n",
       "      <th>investment_budget</th>\n",
       "      <th>public_funding</th>\n",
       "      <th>nace_2_digits_code</th>\n",
       "      <th>nace_2_digits_description</th>\n",
       "    </tr>\n",
       "  </thead>\n",
       "  <tbody>\n",
       "    <tr>\n",
       "      <th>0</th>\n",
       "      <td>ΕΞΜΠ-0543351</td>\n",
       "      <td>Μικρή</td>\n",
       "      <td>Υφιστάμενη Επιχείρηση</td>\n",
       "      <td>Ιονίων Νήσων</td>\n",
       "      <td>482832.000</td>\n",
       "      <td>260504.280</td>\n",
       "      <td>11</td>\n",
       "      <td>Ποτοποιία</td>\n",
       "    </tr>\n",
       "    <tr>\n",
       "      <th>1</th>\n",
       "      <td>ΕΞΜΠ-0543354</td>\n",
       "      <td>Μεσαία</td>\n",
       "      <td>Υφιστάμενη Επιχείρηση</td>\n",
       "      <td>Αττικής</td>\n",
       "      <td>729388.060</td>\n",
       "      <td>255285.820</td>\n",
       "      <td>25</td>\n",
       "      <td>Κατασκευή μεταλλικών προϊόντων, με εξαίρεση τα...</td>\n",
       "    </tr>\n",
       "  </tbody>\n",
       "</table>\n",
       "</div>"
      ]
     },
     "execution_count": 209,
     "metadata": {},
     "output_type": "execute_result"
    }
   ],
   "execution_count": 209
  },
  {
   "cell_type": "markdown",
   "id": "9921eecd1c559f42",
   "metadata": {},
   "source": [
    "### 3.5 Add letters for General sector description"
   ]
  },
  {
   "cell_type": "code",
   "id": "afe7003e62e195a6",
   "metadata": {
    "ExecuteTime": {
     "end_time": "2024-12-09T15:25:38.326617Z",
     "start_time": "2024-12-09T15:25:38.323657Z"
    }
   },
   "source": [
    "# Groupes sectors by general sector description\n",
    "general_sectors = {\n",
    "    \"C: Manufacturing\": list(range(10, 34)),\n",
    "    \"E: Water supply, sewerage, waste management and remediation\": list(range(36, 40)),\n",
    "    \"H: Transportation and Storage\": list(range(49, 54)),\n",
    "    \"M: Legal, accounting, management, architecture, engineering, technical testing and analysis activities\": list(\n",
    "        range(69, 72)\n",
    "    ),\n",
    "    \"N: Administrative and support service activities\": list(range(77, 83)),\n",
    "}\n",
    "\n",
    "\n",
    "# Function to map the two-digit codes to the general sector descriptions\n",
    "def map_classification(nace_code):\n",
    "    for sector, codes in general_sectors.items():\n",
    "        if int(nace_code) in codes:\n",
    "            return sector\n",
    "    return \"Other\""
   ],
   "outputs": [],
   "execution_count": 210
  },
  {
   "cell_type": "code",
   "id": "b81d73ec10374b4c",
   "metadata": {
    "ExecuteTime": {
     "end_time": "2024-12-09T15:25:38.372378Z",
     "start_time": "2024-12-09T15:25:38.368559Z"
    }
   },
   "source": [
    "# Apply the function to create a new column in totals_df\n",
    "large_sectors_df[\"sector\"] = large_sectors_df[\"nace_2_digits_code\"].apply(map_classification)"
   ],
   "outputs": [],
   "execution_count": 211
  },
  {
   "cell_type": "code",
   "id": "e36eae7467f8c6fd",
   "metadata": {
    "ExecuteTime": {
     "end_time": "2024-12-09T15:25:38.480532Z",
     "start_time": "2024-12-09T15:25:38.473356Z"
    }
   },
   "source": [
    "large_sectors_df.head(5)"
   ],
   "outputs": [
    {
     "data": {
      "text/plain": [
       "   project_code        size                 status                region  \\\n",
       "0  ΕΞΜΠ-0543351       Μικρή  Υφιστάμενη Επιχείρηση          Ιονίων Νήσων   \n",
       "1  ΕΞΜΠ-0543354      Μεσαία  Υφιστάμενη Επιχείρηση               Αττικής   \n",
       "2  ΕΞΜΠ-0543354      Μεσαία  Υφιστάμενη Επιχείρηση               Αττικής   \n",
       "3  ΕΞΜΠ-0543354      Μεσαία  Υφιστάμενη Επιχείρηση               Αττικής   \n",
       "4  ΕΞΜΠ-0543368  Πολύ Μικρή  Υφιστάμενη Επιχείρηση  Κεντρικής Μακεδονίας   \n",
       "\n",
       "   investment_budget  public_funding nace_2_digits_code  \\\n",
       "0         482832.000      260504.280                 11   \n",
       "1         729388.060      255285.820                 25   \n",
       "2         729388.060      255285.820                 25   \n",
       "3         729388.060      255285.820                 28   \n",
       "4         359000.000      251300.000                 31   \n",
       "\n",
       "                           nace_2_digits_description            sector  \n",
       "0                                          Ποτοποιία  C: Manufacturing  \n",
       "1  Κατασκευή μεταλλικών προϊόντων, με εξαίρεση τα...  C: Manufacturing  \n",
       "2  Κατασκευή μεταλλικών προϊόντων, με εξαίρεση τα...  C: Manufacturing  \n",
       "3  Κατασκευή μηχανημάτων και ειδών εξοπλισμού π.δ...  C: Manufacturing  \n",
       "4                                  Κατασκευή επίπλων  C: Manufacturing  "
      ],
      "text/html": [
       "<div>\n",
       "<style scoped>\n",
       "    .dataframe tbody tr th:only-of-type {\n",
       "        vertical-align: middle;\n",
       "    }\n",
       "\n",
       "    .dataframe tbody tr th {\n",
       "        vertical-align: top;\n",
       "    }\n",
       "\n",
       "    .dataframe thead th {\n",
       "        text-align: right;\n",
       "    }\n",
       "</style>\n",
       "<table border=\"1\" class=\"dataframe\">\n",
       "  <thead>\n",
       "    <tr style=\"text-align: right;\">\n",
       "      <th></th>\n",
       "      <th>project_code</th>\n",
       "      <th>size</th>\n",
       "      <th>status</th>\n",
       "      <th>region</th>\n",
       "      <th>investment_budget</th>\n",
       "      <th>public_funding</th>\n",
       "      <th>nace_2_digits_code</th>\n",
       "      <th>nace_2_digits_description</th>\n",
       "      <th>sector</th>\n",
       "    </tr>\n",
       "  </thead>\n",
       "  <tbody>\n",
       "    <tr>\n",
       "      <th>0</th>\n",
       "      <td>ΕΞΜΠ-0543351</td>\n",
       "      <td>Μικρή</td>\n",
       "      <td>Υφιστάμενη Επιχείρηση</td>\n",
       "      <td>Ιονίων Νήσων</td>\n",
       "      <td>482832.000</td>\n",
       "      <td>260504.280</td>\n",
       "      <td>11</td>\n",
       "      <td>Ποτοποιία</td>\n",
       "      <td>C: Manufacturing</td>\n",
       "    </tr>\n",
       "    <tr>\n",
       "      <th>1</th>\n",
       "      <td>ΕΞΜΠ-0543354</td>\n",
       "      <td>Μεσαία</td>\n",
       "      <td>Υφιστάμενη Επιχείρηση</td>\n",
       "      <td>Αττικής</td>\n",
       "      <td>729388.060</td>\n",
       "      <td>255285.820</td>\n",
       "      <td>25</td>\n",
       "      <td>Κατασκευή μεταλλικών προϊόντων, με εξαίρεση τα...</td>\n",
       "      <td>C: Manufacturing</td>\n",
       "    </tr>\n",
       "    <tr>\n",
       "      <th>2</th>\n",
       "      <td>ΕΞΜΠ-0543354</td>\n",
       "      <td>Μεσαία</td>\n",
       "      <td>Υφιστάμενη Επιχείρηση</td>\n",
       "      <td>Αττικής</td>\n",
       "      <td>729388.060</td>\n",
       "      <td>255285.820</td>\n",
       "      <td>25</td>\n",
       "      <td>Κατασκευή μεταλλικών προϊόντων, με εξαίρεση τα...</td>\n",
       "      <td>C: Manufacturing</td>\n",
       "    </tr>\n",
       "    <tr>\n",
       "      <th>3</th>\n",
       "      <td>ΕΞΜΠ-0543354</td>\n",
       "      <td>Μεσαία</td>\n",
       "      <td>Υφιστάμενη Επιχείρηση</td>\n",
       "      <td>Αττικής</td>\n",
       "      <td>729388.060</td>\n",
       "      <td>255285.820</td>\n",
       "      <td>28</td>\n",
       "      <td>Κατασκευή μηχανημάτων και ειδών εξοπλισμού π.δ...</td>\n",
       "      <td>C: Manufacturing</td>\n",
       "    </tr>\n",
       "    <tr>\n",
       "      <th>4</th>\n",
       "      <td>ΕΞΜΠ-0543368</td>\n",
       "      <td>Πολύ Μικρή</td>\n",
       "      <td>Υφιστάμενη Επιχείρηση</td>\n",
       "      <td>Κεντρικής Μακεδονίας</td>\n",
       "      <td>359000.000</td>\n",
       "      <td>251300.000</td>\n",
       "      <td>31</td>\n",
       "      <td>Κατασκευή επίπλων</td>\n",
       "      <td>C: Manufacturing</td>\n",
       "    </tr>\n",
       "  </tbody>\n",
       "</table>\n",
       "</div>"
      ]
     },
     "execution_count": 212,
     "metadata": {},
     "output_type": "execute_result"
    }
   ],
   "execution_count": 212
  },
  {
   "metadata": {
    "ExecuteTime": {
     "end_time": "2024-12-09T15:25:38.567305Z",
     "start_time": "2024-12-09T15:25:38.563060Z"
    }
   },
   "cell_type": "code",
   "source": [
    "# split sector column to two columns. One for the sector letter and one for the sector description\n",
    "large_sectors_df[\"sector_code\"] = large_sectors_df[\"sector\"].str.split(\":\").str[0]\n",
    "large_sectors_df[\"sector_description\"] = (\n",
    "    large_sectors_df[\"sector\"].str.split(\":\").str[1]\n",
    ")\n",
    "# drop sector column\n",
    "large_sectors_df = large_sectors_df.drop(columns=[\"sector\"])"
   ],
   "id": "e2635c1fa7c1f3c2",
   "outputs": [],
   "execution_count": 213
  },
  {
   "cell_type": "code",
   "id": "85fd8be1fff7ece5",
   "metadata": {
    "ExecuteTime": {
     "end_time": "2024-12-09T15:25:38.614786Z",
     "start_time": "2024-12-09T15:25:38.611388Z"
    }
   },
   "source": [
    "# Replace unique values with new project_id values starting from p_1 to p{len(df)}\n",
    "# Dictionary to map old project codes to new project IDs\n",
    "project_id_mapping = {\n",
    "    old_code: f\"p_{i+1}\"\n",
    "    for i, old_code in enumerate(large_sectors_df[\"project_code\"].unique())\n",
    "}"
   ],
   "outputs": [],
   "execution_count": 214
  },
  {
   "metadata": {
    "ExecuteTime": {
     "end_time": "2024-12-09T15:25:38.653630Z",
     "start_time": "2024-12-09T15:25:38.650399Z"
    }
   },
   "cell_type": "code",
   "source": [
    "# Replace old project codes with new project IDs\n",
    "large_sectors_df[\"project_code\"] = large_sectors_df[\"project_code\"].map(\n",
    "    project_id_mapping\n",
    ")"
   ],
   "id": "5106fe6baf6f8b51",
   "outputs": [],
   "execution_count": 215
  },
  {
   "cell_type": "code",
   "id": "f587df48d90e362f",
   "metadata": {
    "ExecuteTime": {
     "end_time": "2024-12-09T15:25:38.737434Z",
     "start_time": "2024-12-09T15:25:38.734854Z"
    }
   },
   "source": [
    "large_sectors_df.project_code.nunique()"
   ],
   "outputs": [
    {
     "data": {
      "text/plain": [
       "151"
      ]
     },
     "execution_count": 216,
     "metadata": {},
     "output_type": "execute_result"
    }
   ],
   "execution_count": 216
  },
  {
   "metadata": {},
   "cell_type": "markdown",
   "source": "### 3.6 Translate all column values to English",
   "id": "cf0169e2a09c9bac"
  },
  {
   "metadata": {
    "ExecuteTime": {
     "end_time": "2024-12-09T15:25:38.788849Z",
     "start_time": "2024-12-09T15:25:38.785952Z"
    }
   },
   "cell_type": "code",
   "source": "df = large_sectors_df.copy()",
   "id": "f66d875251e55501",
   "outputs": [],
   "execution_count": 217
  },
  {
   "metadata": {
    "ExecuteTime": {
     "end_time": "2024-12-09T15:25:38.838772Z",
     "start_time": "2024-12-09T15:25:38.835103Z"
    }
   },
   "cell_type": "code",
   "source": "df.nace_2_digits_description.unique()",
   "id": "96bc4cf96c8854e7",
   "outputs": [
    {
     "data": {
      "text/plain": [
       "array(['Ποτοποιία',\n",
       "       'Κατασκευή μεταλλικών προϊόντων, με εξαίρεση τα μηχανήματα και τα είδη εξοπλισμού',\n",
       "       'Κατασκευή μηχανημάτων και ειδών εξοπλισμού π.δ.κ.α.',\n",
       "       'Κατασκευή επίπλων',\n",
       "       'Επισκευή και εγκατάσταση μηχανημάτων και εξοπλισμού',\n",
       "       'Συλλογή, επεξεργασία και διάθεση αποβλήτων? ανάκτηση υλικών',\n",
       "       'Βιομηχανία τροφίμων', 'Παραγωγή χημικών ουσιών και προϊόντων',\n",
       "       'Κατασκευή ειδών ένδυσης',\n",
       "       'Εκτυπώσεις και αναπαραγωγή προεγγεγραμμένων μέσων',\n",
       "       'Παραγωγή κλωστοϋφαντουργικών υλών',\n",
       "       'Άλλες μεταποιητικές δραστηριότητες',\n",
       "       'Κατασκευή προϊόντων από ελαστικό (καουτσούκ) και πλαστικές ύλες',\n",
       "       'Αρχιτεκτονικές δραστηριότητες και δραστηριότητες μηχανικών? τεχνικές δοκιμές και αναλύσεις',\n",
       "       'Χαρτοποιία και κατασκευή χάρτινων προϊόντων',\n",
       "       'Αποθήκευση και υποστηρικτικές προς τη μεταφορά δραστηριότητες',\n",
       "       'Βιομηχανία ξύλου και κατασκευή προϊόντων από ξύλο και φελλό, εκτός από έπιπλα? κατασκευή ειδών καλαθοποιίας και σπαρτοπλεκτικής',\n",
       "       'Κατασκευή ηλεκτρολογικού εξοπλισμού',\n",
       "       'Κατασκευή ηλεκτρονικών υπολογιστών, ηλεκτρονικών και οπτικών προϊόντων',\n",
       "       'Παραγωγή άλλων μη μεταλλικών ορυκτών προϊόντων',\n",
       "       'Κατασκευή μηχανοκίνητων οχημάτων, ρυμουλκούμενων και ημιρυμουλκούμενων οχημάτων',\n",
       "       'Παραγωγή βασικών μετάλλων',\n",
       "       'Διοικητικές δραστηριότητες γραφείου, γραμματειακή υποστήριξη και άλλες δραστηριότητες παροχής υποστήριξης προς τις επιχειρήσεις',\n",
       "       'Παραγωγή βασικών φαρμακευτικών προϊόντων και φαρμακευτικών σκευασμάτων'],\n",
       "      dtype=object)"
      ]
     },
     "execution_count": 218,
     "metadata": {},
     "output_type": "execute_result"
    }
   ],
   "execution_count": 218
  },
  {
   "metadata": {
    "ExecuteTime": {
     "end_time": "2024-12-09T15:25:38.889387Z",
     "start_time": "2024-12-09T15:25:38.885945Z"
    }
   },
   "cell_type": "code",
   "source": "df.nace_2_digits_description.nunique()",
   "id": "f96607567667d95a",
   "outputs": [
    {
     "data": {
      "text/plain": [
       "24"
      ]
     },
     "execution_count": 219,
     "metadata": {},
     "output_type": "execute_result"
    }
   ],
   "execution_count": 219
  },
  {
   "metadata": {
    "ExecuteTime": {
     "end_time": "2024-12-09T15:25:38.941978Z",
     "start_time": "2024-12-09T15:25:38.936323Z"
    }
   },
   "cell_type": "code",
   "source": [
    "# Get unique values from the 'nace_2_digits' column\n",
    "unique_nace_2_digits = df[\"nace_2_digits_code\"].unique()\n",
    "\n",
    "# Dictionary with all possible descriptions\n",
    "NACE_2_DIGITS_DESCRIPTIONS_EN = {\n",
    "    \"10\": \"Manufacture of food products\",\n",
    "    \"11\": \"Manufacture of beverages\",\n",
    "    \"12\": \"Manufacture of tobacco products\",\n",
    "    \"13\": \"Manufacture of textiles\",\n",
    "    \"14\": \"Manufacture of wearing apparel\",\n",
    "    \"15\": \"Manufacture of leather and related products\",\n",
    "    \"16\": \"Manufacture of wood and of products of wood and cork, except furniture; manufacture of articles of straw and plaiting materials\",\n",
    "    \"17\": \"Manufacture of paper and paper products\",\n",
    "    \"18\": \"Printing and reproduction of recorded media\",\n",
    "    \"19\": \"Manufacture of coke and refined petroleum products\",\n",
    "    \"20\": \"Manufacture of chemicals and chemical products\",\n",
    "    \"21\": \"Manufacture of basic pharmaceutical products and pharmaceutical preparations\",\n",
    "    \"22\": \"Manufacture of rubber and plastic products\",\n",
    "    \"23\": \"Manufacture of other non-metallic mineral products\",\n",
    "    \"24\": \"Manufacture of basic metals\",\n",
    "    \"25\": \"Manufacture of fabricated metal products, except machinery and equipment\",\n",
    "    \"26\": \"Manufacture of computer, electronic and optical products\",\n",
    "    \"27\": \"Manufacture of electrical equipment\",\n",
    "    \"28\": \"Manufacture of machinery and equipment n.e.c.\",\n",
    "    \"29\": \"Manufacture of motor vehicles, trailers and semi-trailers\",\n",
    "    \"30\": \"Manufacture of other transport equipment\",\n",
    "    \"31\": \"Manufacture of furniture\",\n",
    "    \"32\": \"Other manufacturing\",\n",
    "    \"33\": \"Repair and installation of machinery and equipment\",\n",
    "    \"36\": \"Water collection, treatment and supply\",\n",
    "    \"37\": \"Sewerage\",\n",
    "    \"38\": \"Waste collection, treatment and disposal activities; materials recovery\",\n",
    "    \"39\": \"Remediation activities and other waste management services\",\n",
    "    \"49\": \"Land transport and transport via pipelines\",\n",
    "    \"50\": \"Water transport\",\n",
    "    \"51\": \"Air transport\",\n",
    "    \"52\": \"Warehousing and support activities for transportation\",\n",
    "    \"53\": \"Postal and courier activities\",\n",
    "    \"69\": \"Legal and accounting activities\",\n",
    "    \"70\": \"Activities of head offices; management consultancy activities\",\n",
    "    \"71\": \"Architectural and engineering activities; technical testing and analysis\",\n",
    "    \"72\": \"Scientific research and development\",\n",
    "    \"77\": \"Rental and leasing activities\",\n",
    "    \"78\": \"Employment activities\",\n",
    "    \"79\": \"Travel agency, tour operator and other reservation service and related activities\",\n",
    "    \"80\": \"Security and investigation activities\",\n",
    "    \"81\": \"Services to buildings and landscape activities\",\n",
    "    \"82\": \"Office administrative, office support and other business support activities\",\n",
    "}\n",
    "\n",
    "# Filter dictionary with activities present in the data\n",
    "filtered_nace_2_digits_descriptions_en = {\n",
    "    k: v for k, v in NACE_2_DIGITS_DESCRIPTIONS_EN.items() if k in unique_nace_2_digits\n",
    "}\n",
    "filtered_nace_2_digits_descriptions_en"
   ],
   "id": "21d39bd7ad250a4b",
   "outputs": [
    {
     "data": {
      "text/plain": [
       "{'10': 'Manufacture of food products',\n",
       " '11': 'Manufacture of beverages',\n",
       " '13': 'Manufacture of textiles',\n",
       " '14': 'Manufacture of wearing apparel',\n",
       " '16': 'Manufacture of wood and of products of wood and cork, except furniture; manufacture of articles of straw and plaiting materials',\n",
       " '17': 'Manufacture of paper and paper products',\n",
       " '18': 'Printing and reproduction of recorded media',\n",
       " '20': 'Manufacture of chemicals and chemical products',\n",
       " '21': 'Manufacture of basic pharmaceutical products and pharmaceutical preparations',\n",
       " '22': 'Manufacture of rubber and plastic products',\n",
       " '23': 'Manufacture of other non-metallic mineral products',\n",
       " '24': 'Manufacture of basic metals',\n",
       " '25': 'Manufacture of fabricated metal products, except machinery and equipment',\n",
       " '26': 'Manufacture of computer, electronic and optical products',\n",
       " '27': 'Manufacture of electrical equipment',\n",
       " '28': 'Manufacture of machinery and equipment n.e.c.',\n",
       " '29': 'Manufacture of motor vehicles, trailers and semi-trailers',\n",
       " '31': 'Manufacture of furniture',\n",
       " '32': 'Other manufacturing',\n",
       " '33': 'Repair and installation of machinery and equipment',\n",
       " '38': 'Waste collection, treatment and disposal activities; materials recovery',\n",
       " '52': 'Warehousing and support activities for transportation',\n",
       " '71': 'Architectural and engineering activities; technical testing and analysis',\n",
       " '82': 'Office administrative, office support and other business support activities'}"
      ]
     },
     "execution_count": 220,
     "metadata": {},
     "output_type": "execute_result"
    }
   ],
   "execution_count": 220
  },
  {
   "metadata": {
    "ExecuteTime": {
     "end_time": "2024-12-09T15:25:38.995288Z",
     "start_time": "2024-12-09T15:25:38.992446Z"
    }
   },
   "cell_type": "code",
   "source": [
    "# Test for N of unique values\n",
    "len(filtered_nace_2_digits_descriptions_en)"
   ],
   "id": "6a11616a3b87ac7",
   "outputs": [
    {
     "data": {
      "text/plain": [
       "24"
      ]
     },
     "execution_count": 221,
     "metadata": {},
     "output_type": "execute_result"
    }
   ],
   "execution_count": 221
  },
  {
   "metadata": {
    "ExecuteTime": {
     "end_time": "2024-12-09T15:25:39.042605Z",
     "start_time": "2024-12-09T15:25:39.040283Z"
    }
   },
   "cell_type": "code",
   "source": "# Todo: test for mistranslations",
   "id": "48ba5a0386981ee6",
   "outputs": [],
   "execution_count": 222
  },
  {
   "metadata": {
    "ExecuteTime": {
     "end_time": "2024-12-09T15:25:39.097675Z",
     "start_time": "2024-12-09T15:25:39.089601Z"
    }
   },
   "cell_type": "code",
   "source": [
    "# Map existing values in the `nace_2_digits` column to English\n",
    "df[\"nace_2_digits_description\"] = df[\"nace_2_digits_code\"].replace(\n",
    "    filtered_nace_2_digits_descriptions_en\n",
    ")\n",
    "\n",
    "# Display the updated DataFrame\n",
    "df.head()"
   ],
   "id": "9ecbeaf8e8a34116",
   "outputs": [
    {
     "data": {
      "text/plain": [
       "  project_code        size                 status                region  \\\n",
       "0          p_1       Μικρή  Υφιστάμενη Επιχείρηση          Ιονίων Νήσων   \n",
       "1          p_2      Μεσαία  Υφιστάμενη Επιχείρηση               Αττικής   \n",
       "2          p_2      Μεσαία  Υφιστάμενη Επιχείρηση               Αττικής   \n",
       "3          p_2      Μεσαία  Υφιστάμενη Επιχείρηση               Αττικής   \n",
       "4          p_3  Πολύ Μικρή  Υφιστάμενη Επιχείρηση  Κεντρικής Μακεδονίας   \n",
       "\n",
       "   investment_budget  public_funding nace_2_digits_code  \\\n",
       "0         482832.000      260504.280                 11   \n",
       "1         729388.060      255285.820                 25   \n",
       "2         729388.060      255285.820                 25   \n",
       "3         729388.060      255285.820                 28   \n",
       "4         359000.000      251300.000                 31   \n",
       "\n",
       "                           nace_2_digits_description sector_code  \\\n",
       "0                           Manufacture of beverages           C   \n",
       "1  Manufacture of fabricated metal products, exce...           C   \n",
       "2  Manufacture of fabricated metal products, exce...           C   \n",
       "3      Manufacture of machinery and equipment n.e.c.           C   \n",
       "4                           Manufacture of furniture           C   \n",
       "\n",
       "  sector_description  \n",
       "0      Manufacturing  \n",
       "1      Manufacturing  \n",
       "2      Manufacturing  \n",
       "3      Manufacturing  \n",
       "4      Manufacturing  "
      ],
      "text/html": [
       "<div>\n",
       "<style scoped>\n",
       "    .dataframe tbody tr th:only-of-type {\n",
       "        vertical-align: middle;\n",
       "    }\n",
       "\n",
       "    .dataframe tbody tr th {\n",
       "        vertical-align: top;\n",
       "    }\n",
       "\n",
       "    .dataframe thead th {\n",
       "        text-align: right;\n",
       "    }\n",
       "</style>\n",
       "<table border=\"1\" class=\"dataframe\">\n",
       "  <thead>\n",
       "    <tr style=\"text-align: right;\">\n",
       "      <th></th>\n",
       "      <th>project_code</th>\n",
       "      <th>size</th>\n",
       "      <th>status</th>\n",
       "      <th>region</th>\n",
       "      <th>investment_budget</th>\n",
       "      <th>public_funding</th>\n",
       "      <th>nace_2_digits_code</th>\n",
       "      <th>nace_2_digits_description</th>\n",
       "      <th>sector_code</th>\n",
       "      <th>sector_description</th>\n",
       "    </tr>\n",
       "  </thead>\n",
       "  <tbody>\n",
       "    <tr>\n",
       "      <th>0</th>\n",
       "      <td>p_1</td>\n",
       "      <td>Μικρή</td>\n",
       "      <td>Υφιστάμενη Επιχείρηση</td>\n",
       "      <td>Ιονίων Νήσων</td>\n",
       "      <td>482832.000</td>\n",
       "      <td>260504.280</td>\n",
       "      <td>11</td>\n",
       "      <td>Manufacture of beverages</td>\n",
       "      <td>C</td>\n",
       "      <td>Manufacturing</td>\n",
       "    </tr>\n",
       "    <tr>\n",
       "      <th>1</th>\n",
       "      <td>p_2</td>\n",
       "      <td>Μεσαία</td>\n",
       "      <td>Υφιστάμενη Επιχείρηση</td>\n",
       "      <td>Αττικής</td>\n",
       "      <td>729388.060</td>\n",
       "      <td>255285.820</td>\n",
       "      <td>25</td>\n",
       "      <td>Manufacture of fabricated metal products, exce...</td>\n",
       "      <td>C</td>\n",
       "      <td>Manufacturing</td>\n",
       "    </tr>\n",
       "    <tr>\n",
       "      <th>2</th>\n",
       "      <td>p_2</td>\n",
       "      <td>Μεσαία</td>\n",
       "      <td>Υφιστάμενη Επιχείρηση</td>\n",
       "      <td>Αττικής</td>\n",
       "      <td>729388.060</td>\n",
       "      <td>255285.820</td>\n",
       "      <td>25</td>\n",
       "      <td>Manufacture of fabricated metal products, exce...</td>\n",
       "      <td>C</td>\n",
       "      <td>Manufacturing</td>\n",
       "    </tr>\n",
       "    <tr>\n",
       "      <th>3</th>\n",
       "      <td>p_2</td>\n",
       "      <td>Μεσαία</td>\n",
       "      <td>Υφιστάμενη Επιχείρηση</td>\n",
       "      <td>Αττικής</td>\n",
       "      <td>729388.060</td>\n",
       "      <td>255285.820</td>\n",
       "      <td>28</td>\n",
       "      <td>Manufacture of machinery and equipment n.e.c.</td>\n",
       "      <td>C</td>\n",
       "      <td>Manufacturing</td>\n",
       "    </tr>\n",
       "    <tr>\n",
       "      <th>4</th>\n",
       "      <td>p_3</td>\n",
       "      <td>Πολύ Μικρή</td>\n",
       "      <td>Υφιστάμενη Επιχείρηση</td>\n",
       "      <td>Κεντρικής Μακεδονίας</td>\n",
       "      <td>359000.000</td>\n",
       "      <td>251300.000</td>\n",
       "      <td>31</td>\n",
       "      <td>Manufacture of furniture</td>\n",
       "      <td>C</td>\n",
       "      <td>Manufacturing</td>\n",
       "    </tr>\n",
       "  </tbody>\n",
       "</table>\n",
       "</div>"
      ]
     },
     "execution_count": 223,
     "metadata": {},
     "output_type": "execute_result"
    }
   ],
   "execution_count": 223
  },
  {
   "metadata": {
    "ExecuteTime": {
     "end_time": "2024-12-09T15:25:39.169568Z",
     "start_time": "2024-12-09T15:25:39.166899Z"
    }
   },
   "cell_type": "code",
   "source": [
    "# Translate the 'size' column\n",
    "size_values = df[\"size\"].unique()\n",
    "size_values"
   ],
   "id": "2faf7bbe658e8419",
   "outputs": [
    {
     "data": {
      "text/plain": [
       "array(['Μικρή', 'Μεσαία', 'Πολύ Μικρή'], dtype=object)"
      ]
     },
     "execution_count": 224,
     "metadata": {},
     "output_type": "execute_result"
    }
   ],
   "execution_count": 224
  },
  {
   "metadata": {
    "ExecuteTime": {
     "end_time": "2024-12-09T15:25:39.213162Z",
     "start_time": "2024-12-09T15:25:39.209916Z"
    }
   },
   "cell_type": "code",
   "source": [
    "# Use the size_values array as keys to create dictionary\n",
    "SIZE_TRANSLATIONS = {\n",
    "    \"Μικρή\": \"Small\",\n",
    "    \"Μεσαία\": \"Medium\",\n",
    "    \"Πολύ Μικρή\": \"Micro\",\n",
    "}\n",
    "\n",
    "# Map existing values in the `size` column to English\n",
    "# df['size'] = df['size'].map(SIZE_TRANSLATIONS)\n",
    "df[\"size\"] = df[\"size\"].replace(SIZE_TRANSLATIONS)"
   ],
   "id": "6835022f23b3448f",
   "outputs": [],
   "execution_count": 225
  },
  {
   "metadata": {
    "ExecuteTime": {
     "end_time": "2024-12-09T15:25:39.272975Z",
     "start_time": "2024-12-09T15:25:39.270103Z"
    }
   },
   "cell_type": "code",
   "source": [
    "df[\"size\"].unique()"
   ],
   "id": "90415cc45a584215",
   "outputs": [
    {
     "data": {
      "text/plain": [
       "array(['Small', 'Medium', 'Micro'], dtype=object)"
      ]
     },
     "execution_count": 226,
     "metadata": {},
     "output_type": "execute_result"
    }
   ],
   "execution_count": 226
  },
  {
   "metadata": {
    "ExecuteTime": {
     "end_time": "2024-12-09T15:25:39.328938Z",
     "start_time": "2024-12-09T15:25:39.325838Z"
    }
   },
   "cell_type": "code",
   "source": [
    "# Translate the 'status' column\n",
    "df[\"status\"].unique()"
   ],
   "id": "d9df4fb8cb0fb20d",
   "outputs": [
    {
     "data": {
      "text/plain": [
       "array(['Υφιστάμενη Επιχείρηση', 'Νέα Επιχείρηση'], dtype=object)"
      ]
     },
     "execution_count": 227,
     "metadata": {},
     "output_type": "execute_result"
    }
   ],
   "execution_count": 227
  },
  {
   "metadata": {
    "ExecuteTime": {
     "end_time": "2024-12-09T15:25:39.380258Z",
     "start_time": "2024-12-09T15:25:39.377073Z"
    }
   },
   "cell_type": "code",
   "source": [
    "INCORP_TRANSLATIONS = {\n",
    "    \"Υφιστάμενη Επιχείρηση\": \"Existing\",\n",
    "    \"Νέα Επιχείρηση\": \"New\",\n",
    "}\n",
    "\n",
    "# Map existing values in the `status` column to English\n",
    "df[\"status\"] = df[\"status\"].replace(INCORP_TRANSLATIONS)"
   ],
   "id": "eae92ca797a232a5",
   "outputs": [],
   "execution_count": 228
  },
  {
   "metadata": {
    "ExecuteTime": {
     "end_time": "2024-12-09T15:25:39.433382Z",
     "start_time": "2024-12-09T15:25:39.429798Z"
    }
   },
   "cell_type": "code",
   "source": [
    "# Translate the 'region' column values\n",
    "df[\"region\"].unique()"
   ],
   "id": "94729babe3bf3c17",
   "outputs": [
    {
     "data": {
      "text/plain": [
       "array(['Ιονίων Νήσων', 'Αττικής', 'Κεντρικής Μακεδονίας', 'Θεσσαλίας',\n",
       "       'Κρήτης', 'Στερεάς Ελλάδας', 'Ηπείρου', 'Πελοποννήσου',\n",
       "       'Δυτικής Ελλάδας', 'Ανατολικής Μακεδονίας και Θράκης',\n",
       "       'Δυτικής Μακεδονίας', 'Νοτίου Αιγαίου', 'Βορείου Αιγαίου'],\n",
       "      dtype=object)"
      ]
     },
     "execution_count": 229,
     "metadata": {},
     "output_type": "execute_result"
    }
   ],
   "execution_count": 229
  },
  {
   "metadata": {
    "ExecuteTime": {
     "end_time": "2024-12-09T15:25:39.484445Z",
     "start_time": "2024-12-09T15:25:39.480409Z"
    }
   },
   "cell_type": "code",
   "source": [
    "REGION_TRANSLATIONS = {\n",
    "    \"Ιονίων Νήσων\": \"Ionian Islands\",\n",
    "    \"Αττικής\": \"Attica\",\n",
    "    \"Κεντρικής Μακεδονίας\": \"Central Macedonia\",\n",
    "    \"Θεσσαλίας\": \"Thessaly\",\n",
    "    \"Κρήτης\": \"Crete\",\n",
    "    \"Στερεάς Ελλάδας\": \"Central Greece\",\n",
    "    \"Ηπείρου\": \"Epirus\",\n",
    "    \"Πελοποννήσου\": \"Peloponnese\",\n",
    "    \"Δυτικής Ελλάδας\": \"Western Greece\",\n",
    "    \"Ανατολικής Μακεδονίας και Θράκης\": \"Eastern Macedonia and Thrace\",\n",
    "    \"Δυτικής Μακεδονίας\": \"Western Macedonia\",\n",
    "    \"Νοτίου Αιγαίου\": \"South Aegean\",\n",
    "    \"Βορείου Αιγαίου\": \"North Aegean\",\n",
    "}\n",
    "\n",
    "# Map existing values in the `region` column to English\n",
    "df[\"region\"] = df[\"region\"].replace(REGION_TRANSLATIONS)"
   ],
   "id": "899fc252b8caf5cd",
   "outputs": [],
   "execution_count": 230
  },
  {
   "metadata": {
    "ExecuteTime": {
     "end_time": "2024-12-09T15:25:39.536571Z",
     "start_time": "2024-12-09T15:25:39.533207Z"
    }
   },
   "cell_type": "code",
   "source": [
    "df[\"region\"].unique()"
   ],
   "id": "51468a3f46f6af08",
   "outputs": [
    {
     "data": {
      "text/plain": [
       "array(['Ionian Islands', 'Attica', 'Central Macedonia', 'Thessaly',\n",
       "       'Crete', 'Central Greece', 'Epirus', 'Peloponnese',\n",
       "       'Western Greece', 'Eastern Macedonia and Thrace',\n",
       "       'Western Macedonia', 'South Aegean', 'North Aegean'], dtype=object)"
      ]
     },
     "execution_count": 231,
     "metadata": {},
     "output_type": "execute_result"
    }
   ],
   "execution_count": 231
  },
  {
   "metadata": {
    "ExecuteTime": {
     "end_time": "2024-12-09T15:25:39.595269Z",
     "start_time": "2024-12-09T15:25:39.589069Z"
    }
   },
   "cell_type": "code",
   "source": "df.head(3)",
   "id": "8cbe722cc17700c6",
   "outputs": [
    {
     "data": {
      "text/plain": [
       "  project_code    size    status          region  investment_budget  \\\n",
       "0          p_1   Small  Existing  Ionian Islands         482832.000   \n",
       "1          p_2  Medium  Existing          Attica         729388.060   \n",
       "2          p_2  Medium  Existing          Attica         729388.060   \n",
       "\n",
       "   public_funding nace_2_digits_code  \\\n",
       "0      260504.280                 11   \n",
       "1      255285.820                 25   \n",
       "2      255285.820                 25   \n",
       "\n",
       "                           nace_2_digits_description sector_code  \\\n",
       "0                           Manufacture of beverages           C   \n",
       "1  Manufacture of fabricated metal products, exce...           C   \n",
       "2  Manufacture of fabricated metal products, exce...           C   \n",
       "\n",
       "  sector_description  \n",
       "0      Manufacturing  \n",
       "1      Manufacturing  \n",
       "2      Manufacturing  "
      ],
      "text/html": [
       "<div>\n",
       "<style scoped>\n",
       "    .dataframe tbody tr th:only-of-type {\n",
       "        vertical-align: middle;\n",
       "    }\n",
       "\n",
       "    .dataframe tbody tr th {\n",
       "        vertical-align: top;\n",
       "    }\n",
       "\n",
       "    .dataframe thead th {\n",
       "        text-align: right;\n",
       "    }\n",
       "</style>\n",
       "<table border=\"1\" class=\"dataframe\">\n",
       "  <thead>\n",
       "    <tr style=\"text-align: right;\">\n",
       "      <th></th>\n",
       "      <th>project_code</th>\n",
       "      <th>size</th>\n",
       "      <th>status</th>\n",
       "      <th>region</th>\n",
       "      <th>investment_budget</th>\n",
       "      <th>public_funding</th>\n",
       "      <th>nace_2_digits_code</th>\n",
       "      <th>nace_2_digits_description</th>\n",
       "      <th>sector_code</th>\n",
       "      <th>sector_description</th>\n",
       "    </tr>\n",
       "  </thead>\n",
       "  <tbody>\n",
       "    <tr>\n",
       "      <th>0</th>\n",
       "      <td>p_1</td>\n",
       "      <td>Small</td>\n",
       "      <td>Existing</td>\n",
       "      <td>Ionian Islands</td>\n",
       "      <td>482832.000</td>\n",
       "      <td>260504.280</td>\n",
       "      <td>11</td>\n",
       "      <td>Manufacture of beverages</td>\n",
       "      <td>C</td>\n",
       "      <td>Manufacturing</td>\n",
       "    </tr>\n",
       "    <tr>\n",
       "      <th>1</th>\n",
       "      <td>p_2</td>\n",
       "      <td>Medium</td>\n",
       "      <td>Existing</td>\n",
       "      <td>Attica</td>\n",
       "      <td>729388.060</td>\n",
       "      <td>255285.820</td>\n",
       "      <td>25</td>\n",
       "      <td>Manufacture of fabricated metal products, exce...</td>\n",
       "      <td>C</td>\n",
       "      <td>Manufacturing</td>\n",
       "    </tr>\n",
       "    <tr>\n",
       "      <th>2</th>\n",
       "      <td>p_2</td>\n",
       "      <td>Medium</td>\n",
       "      <td>Existing</td>\n",
       "      <td>Attica</td>\n",
       "      <td>729388.060</td>\n",
       "      <td>255285.820</td>\n",
       "      <td>25</td>\n",
       "      <td>Manufacture of fabricated metal products, exce...</td>\n",
       "      <td>C</td>\n",
       "      <td>Manufacturing</td>\n",
       "    </tr>\n",
       "  </tbody>\n",
       "</table>\n",
       "</div>"
      ]
     },
     "execution_count": 232,
     "metadata": {},
     "output_type": "execute_result"
    }
   ],
   "execution_count": 232
  },
  {
   "metadata": {},
   "cell_type": "markdown",
   "source": "### 3.7 convert budget and funding values to millions and keep three decimal places",
   "id": "1b7d170e55c3b75b"
  },
  {
   "metadata": {
    "ExecuteTime": {
     "end_time": "2024-12-09T15:25:39.665354Z",
     "start_time": "2024-12-09T15:25:39.663197Z"
    }
   },
   "cell_type": "code",
   "source": [
    "df[\"investment_budget\"] = df[\"investment_budget\"] / 1_000_000\n",
    "df[\"public_funding\"] = df[\"public_funding\"] / 1_000_000"
   ],
   "id": "7c8bc49d36c2c214",
   "outputs": [],
   "execution_count": 233
  },
  {
   "metadata": {
    "ExecuteTime": {
     "end_time": "2024-12-09T15:25:39.717581Z",
     "start_time": "2024-12-09T15:25:39.711323Z"
    }
   },
   "cell_type": "code",
   "source": "df.head()",
   "id": "c7746ecf8d69794b",
   "outputs": [
    {
     "data": {
      "text/plain": [
       "  project_code    size    status             region  investment_budget  \\\n",
       "0          p_1   Small  Existing     Ionian Islands              0.483   \n",
       "1          p_2  Medium  Existing             Attica              0.729   \n",
       "2          p_2  Medium  Existing             Attica              0.729   \n",
       "3          p_2  Medium  Existing             Attica              0.729   \n",
       "4          p_3   Micro  Existing  Central Macedonia              0.359   \n",
       "\n",
       "   public_funding nace_2_digits_code  \\\n",
       "0           0.261                 11   \n",
       "1           0.255                 25   \n",
       "2           0.255                 25   \n",
       "3           0.255                 28   \n",
       "4           0.251                 31   \n",
       "\n",
       "                           nace_2_digits_description sector_code  \\\n",
       "0                           Manufacture of beverages           C   \n",
       "1  Manufacture of fabricated metal products, exce...           C   \n",
       "2  Manufacture of fabricated metal products, exce...           C   \n",
       "3      Manufacture of machinery and equipment n.e.c.           C   \n",
       "4                           Manufacture of furniture           C   \n",
       "\n",
       "  sector_description  \n",
       "0      Manufacturing  \n",
       "1      Manufacturing  \n",
       "2      Manufacturing  \n",
       "3      Manufacturing  \n",
       "4      Manufacturing  "
      ],
      "text/html": [
       "<div>\n",
       "<style scoped>\n",
       "    .dataframe tbody tr th:only-of-type {\n",
       "        vertical-align: middle;\n",
       "    }\n",
       "\n",
       "    .dataframe tbody tr th {\n",
       "        vertical-align: top;\n",
       "    }\n",
       "\n",
       "    .dataframe thead th {\n",
       "        text-align: right;\n",
       "    }\n",
       "</style>\n",
       "<table border=\"1\" class=\"dataframe\">\n",
       "  <thead>\n",
       "    <tr style=\"text-align: right;\">\n",
       "      <th></th>\n",
       "      <th>project_code</th>\n",
       "      <th>size</th>\n",
       "      <th>status</th>\n",
       "      <th>region</th>\n",
       "      <th>investment_budget</th>\n",
       "      <th>public_funding</th>\n",
       "      <th>nace_2_digits_code</th>\n",
       "      <th>nace_2_digits_description</th>\n",
       "      <th>sector_code</th>\n",
       "      <th>sector_description</th>\n",
       "    </tr>\n",
       "  </thead>\n",
       "  <tbody>\n",
       "    <tr>\n",
       "      <th>0</th>\n",
       "      <td>p_1</td>\n",
       "      <td>Small</td>\n",
       "      <td>Existing</td>\n",
       "      <td>Ionian Islands</td>\n",
       "      <td>0.483</td>\n",
       "      <td>0.261</td>\n",
       "      <td>11</td>\n",
       "      <td>Manufacture of beverages</td>\n",
       "      <td>C</td>\n",
       "      <td>Manufacturing</td>\n",
       "    </tr>\n",
       "    <tr>\n",
       "      <th>1</th>\n",
       "      <td>p_2</td>\n",
       "      <td>Medium</td>\n",
       "      <td>Existing</td>\n",
       "      <td>Attica</td>\n",
       "      <td>0.729</td>\n",
       "      <td>0.255</td>\n",
       "      <td>25</td>\n",
       "      <td>Manufacture of fabricated metal products, exce...</td>\n",
       "      <td>C</td>\n",
       "      <td>Manufacturing</td>\n",
       "    </tr>\n",
       "    <tr>\n",
       "      <th>2</th>\n",
       "      <td>p_2</td>\n",
       "      <td>Medium</td>\n",
       "      <td>Existing</td>\n",
       "      <td>Attica</td>\n",
       "      <td>0.729</td>\n",
       "      <td>0.255</td>\n",
       "      <td>25</td>\n",
       "      <td>Manufacture of fabricated metal products, exce...</td>\n",
       "      <td>C</td>\n",
       "      <td>Manufacturing</td>\n",
       "    </tr>\n",
       "    <tr>\n",
       "      <th>3</th>\n",
       "      <td>p_2</td>\n",
       "      <td>Medium</td>\n",
       "      <td>Existing</td>\n",
       "      <td>Attica</td>\n",
       "      <td>0.729</td>\n",
       "      <td>0.255</td>\n",
       "      <td>28</td>\n",
       "      <td>Manufacture of machinery and equipment n.e.c.</td>\n",
       "      <td>C</td>\n",
       "      <td>Manufacturing</td>\n",
       "    </tr>\n",
       "    <tr>\n",
       "      <th>4</th>\n",
       "      <td>p_3</td>\n",
       "      <td>Micro</td>\n",
       "      <td>Existing</td>\n",
       "      <td>Central Macedonia</td>\n",
       "      <td>0.359</td>\n",
       "      <td>0.251</td>\n",
       "      <td>31</td>\n",
       "      <td>Manufacture of furniture</td>\n",
       "      <td>C</td>\n",
       "      <td>Manufacturing</td>\n",
       "    </tr>\n",
       "  </tbody>\n",
       "</table>\n",
       "</div>"
      ]
     },
     "execution_count": 234,
     "metadata": {},
     "output_type": "execute_result"
    }
   ],
   "execution_count": 234
  },
  {
   "cell_type": "markdown",
   "id": "6ab32946cff6d089",
   "metadata": {},
   "source": "### 3.8 Save data to csv to make it publicly available"
  },
  {
   "cell_type": "code",
   "id": "4e354c7828cbbdf3",
   "metadata": {
    "ExecuteTime": {
     "end_time": "2024-12-09T15:25:39.764280Z",
     "start_time": "2024-12-09T15:25:39.758948Z"
    }
   },
   "source": "df.to_csv(\"../data/smrt_manuf_projects_two_digit_activity.csv\", index=False)",
   "outputs": [],
   "execution_count": 235
  },
  {
   "cell_type": "markdown",
   "id": "2268ff61211e209a",
   "metadata": {},
   "source": ""
  }
 ],
 "metadata": {
  "kernelspec": {
   "display_name": "Python 3 (ipykernel)",
   "language": "python",
   "name": "python3"
  },
  "language_info": {
   "codemirror_mode": {
    "name": "ipython",
    "version": 3
   },
   "file_extension": ".py",
   "mimetype": "text/x-python",
   "name": "python",
   "nbconvert_exporter": "python",
   "pygments_lexer": "ipython3",
   "version": "3.12.7"
  }
 },
 "nbformat": 4,
 "nbformat_minor": 5
}
