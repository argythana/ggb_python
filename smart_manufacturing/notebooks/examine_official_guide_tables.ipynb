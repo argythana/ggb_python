{
 "cells": [
  {
   "cell_type": "code",
   "id": "initial_id",
   "metadata": {
    "collapsed": true,
    "ExecuteTime": {
     "end_time": "2024-12-12T13:25:27.802630Z",
     "start_time": "2024-12-12T13:25:27.530638Z"
    }
   },
   "source": [
    "import pandas as pd\n",
    "import tabula"
   ],
   "outputs": [],
   "execution_count": 2
  },
  {
   "metadata": {
    "ExecuteTime": {
     "end_time": "2024-12-12T13:27:10.610204Z",
     "start_time": "2024-12-12T13:27:10.606761Z"
    }
   },
   "cell_type": "code",
   "source": [
    "# Read the pdf file\n",
    "pdf_path = \"../related_docs/official_implementation_guide_v9.pdf\""
   ],
   "id": "a3baa4522d2a4a9d",
   "outputs": [],
   "execution_count": 10
  },
  {
   "metadata": {
    "ExecuteTime": {
     "end_time": "2024-12-12T13:27:11.949243Z",
     "start_time": "2024-12-12T13:27:11.081873Z"
    }
   },
   "cell_type": "code",
   "source": [
    "# Parse the grants limits table as dataframe\n",
    "tabula.read_pdf(pdf_path, pages=15, lattice=True)[0][:1]"
   ],
   "id": "52ce7bd3b9320b93",
   "outputs": [
    {
     "data": {
      "text/plain": [
       "  ΠΕΡΙΦΕΡΕΙΕΣ ΜΕΓΕΘΟΣ ΕΠΙΧΕΙΡΗΣΕΩΝ\\rΔαπάνες Άρθρου 14  \\\n",
       "0         NaN                                 ΜΕΣΑΙΕΣ   \n",
       "\n",
       "  Δαπάνες Άρθρου\\r18 και 31 Unnamed: 0  \n",
       "0    ΜΙΚΡΕΣ -\\rΠΟΛΥ\\rΜΙΚΡΕΣ        NaN  "
      ],
      "text/html": [
       "<div>\n",
       "<style scoped>\n",
       "    .dataframe tbody tr th:only-of-type {\n",
       "        vertical-align: middle;\n",
       "    }\n",
       "\n",
       "    .dataframe tbody tr th {\n",
       "        vertical-align: top;\n",
       "    }\n",
       "\n",
       "    .dataframe thead th {\n",
       "        text-align: right;\n",
       "    }\n",
       "</style>\n",
       "<table border=\"1\" class=\"dataframe\">\n",
       "  <thead>\n",
       "    <tr style=\"text-align: right;\">\n",
       "      <th></th>\n",
       "      <th>ΠΕΡΙΦΕΡΕΙΕΣ</th>\n",
       "      <th>ΜΕΓΕΘΟΣ ΕΠΙΧΕΙΡΗΣΕΩΝ\\rΔαπάνες Άρθρου 14</th>\n",
       "      <th>Δαπάνες Άρθρου\\r18 και 31</th>\n",
       "      <th>Unnamed: 0</th>\n",
       "    </tr>\n",
       "  </thead>\n",
       "  <tbody>\n",
       "    <tr>\n",
       "      <th>0</th>\n",
       "      <td>NaN</td>\n",
       "      <td>ΜΕΣΑΙΕΣ</td>\n",
       "      <td>ΜΙΚΡΕΣ -\\rΠΟΛΥ\\rΜΙΚΡΕΣ</td>\n",
       "      <td>NaN</td>\n",
       "    </tr>\n",
       "  </tbody>\n",
       "</table>\n",
       "</div>"
      ]
     },
     "execution_count": 11,
     "metadata": {},
     "output_type": "execute_result"
    }
   ],
   "execution_count": 11
  },
  {
   "metadata": {
    "ExecuteTime": {
     "end_time": "2024-12-12T13:27:12.075667Z",
     "start_time": "2024-12-12T13:27:11.973977Z"
    }
   },
   "cell_type": "code",
   "source": [
    "eu_regions_grants_limits = tabula.read_pdf(pdf_path,\n",
    "                pages=15,\n",
    "                lattice=True,\n",
    "                )[0]#[0:]\n",
    "\n",
    "eu_regions_grants_limits"
   ],
   "id": "4cdd6d9e59614e47",
   "outputs": [
    {
     "data": {
      "text/plain": [
       "                                          ΠΕΡΙΦΕΡΕΙΕΣ  \\\n",
       "0                                                 NaN   \n",
       "1                                       Βόρειο Αιγαίο   \n",
       "2                                               Κρήτη   \n",
       "3                          ΑνατολικήΜακεδονία-\\rΘράκη   \n",
       "4                                  Κεντρική Μακεδονία   \n",
       "5                                    Δυτική Μακεδονία   \n",
       "6                                             Ήπειρος   \n",
       "7                                            Θεσσαλία   \n",
       "8                                         Ιόνια Νησιά   \n",
       "9                                       Δυτική Ελλάδα   \n",
       "10                                      Στερεά Ελλάδα   \n",
       "11                                          Ευρυτανία   \n",
       "12  Πελοπόννησος:Δήμοι\\rΜεγαλόπολης,Γορτυνίας\\rΤρί...   \n",
       "13                         Πελοπόννησος:Λοιποί\\rΔήμοι   \n",
       "14                                       Νότιο Αιγαίο   \n",
       "\n",
       "   ΜΕΓΕΘΟΣ ΕΠΙΧΕΙΡΗΣΕΩΝ\\rΔαπάνες Άρθρου 14 Δαπάνες Άρθρου\\r18 και 31  \\\n",
       "0                                  ΜΕΣΑΙΕΣ    ΜΙΚΡΕΣ -\\rΠΟΛΥ\\rΜΙΚΡΕΣ   \n",
       "1                                      70%                       75%   \n",
       "2                                      60%                       70%   \n",
       "3                                      60%                       70%   \n",
       "4                                      60%                       70%   \n",
       "5                                      60%                       70%   \n",
       "6                                      60%                       70%   \n",
       "7                                      60%                       70%   \n",
       "8                                      50%                       60%   \n",
       "9                                      60%                       70%   \n",
       "10                                     50%                       60%   \n",
       "11                                     50%                       60%   \n",
       "12                                     60%                       70%   \n",
       "13                                     50%                       60%   \n",
       "14                                     50%                       60%   \n",
       "\n",
       "   Unnamed: 0  \n",
       "0         NaN  \n",
       "1         50%  \n",
       "2         50%  \n",
       "3         50%  \n",
       "4         50%  \n",
       "5         50%  \n",
       "6         50%  \n",
       "7         50%  \n",
       "8         50%  \n",
       "9         50%  \n",
       "10        50%  \n",
       "11        50%  \n",
       "12        50%  \n",
       "13        50%  \n",
       "14        50%  "
      ],
      "text/html": [
       "<div>\n",
       "<style scoped>\n",
       "    .dataframe tbody tr th:only-of-type {\n",
       "        vertical-align: middle;\n",
       "    }\n",
       "\n",
       "    .dataframe tbody tr th {\n",
       "        vertical-align: top;\n",
       "    }\n",
       "\n",
       "    .dataframe thead th {\n",
       "        text-align: right;\n",
       "    }\n",
       "</style>\n",
       "<table border=\"1\" class=\"dataframe\">\n",
       "  <thead>\n",
       "    <tr style=\"text-align: right;\">\n",
       "      <th></th>\n",
       "      <th>ΠΕΡΙΦΕΡΕΙΕΣ</th>\n",
       "      <th>ΜΕΓΕΘΟΣ ΕΠΙΧΕΙΡΗΣΕΩΝ\\rΔαπάνες Άρθρου 14</th>\n",
       "      <th>Δαπάνες Άρθρου\\r18 και 31</th>\n",
       "      <th>Unnamed: 0</th>\n",
       "    </tr>\n",
       "  </thead>\n",
       "  <tbody>\n",
       "    <tr>\n",
       "      <th>0</th>\n",
       "      <td>NaN</td>\n",
       "      <td>ΜΕΣΑΙΕΣ</td>\n",
       "      <td>ΜΙΚΡΕΣ -\\rΠΟΛΥ\\rΜΙΚΡΕΣ</td>\n",
       "      <td>NaN</td>\n",
       "    </tr>\n",
       "    <tr>\n",
       "      <th>1</th>\n",
       "      <td>Βόρειο Αιγαίο</td>\n",
       "      <td>70%</td>\n",
       "      <td>75%</td>\n",
       "      <td>50%</td>\n",
       "    </tr>\n",
       "    <tr>\n",
       "      <th>2</th>\n",
       "      <td>Κρήτη</td>\n",
       "      <td>60%</td>\n",
       "      <td>70%</td>\n",
       "      <td>50%</td>\n",
       "    </tr>\n",
       "    <tr>\n",
       "      <th>3</th>\n",
       "      <td>ΑνατολικήΜακεδονία-\\rΘράκη</td>\n",
       "      <td>60%</td>\n",
       "      <td>70%</td>\n",
       "      <td>50%</td>\n",
       "    </tr>\n",
       "    <tr>\n",
       "      <th>4</th>\n",
       "      <td>Κεντρική Μακεδονία</td>\n",
       "      <td>60%</td>\n",
       "      <td>70%</td>\n",
       "      <td>50%</td>\n",
       "    </tr>\n",
       "    <tr>\n",
       "      <th>5</th>\n",
       "      <td>Δυτική Μακεδονία</td>\n",
       "      <td>60%</td>\n",
       "      <td>70%</td>\n",
       "      <td>50%</td>\n",
       "    </tr>\n",
       "    <tr>\n",
       "      <th>6</th>\n",
       "      <td>Ήπειρος</td>\n",
       "      <td>60%</td>\n",
       "      <td>70%</td>\n",
       "      <td>50%</td>\n",
       "    </tr>\n",
       "    <tr>\n",
       "      <th>7</th>\n",
       "      <td>Θεσσαλία</td>\n",
       "      <td>60%</td>\n",
       "      <td>70%</td>\n",
       "      <td>50%</td>\n",
       "    </tr>\n",
       "    <tr>\n",
       "      <th>8</th>\n",
       "      <td>Ιόνια Νησιά</td>\n",
       "      <td>50%</td>\n",
       "      <td>60%</td>\n",
       "      <td>50%</td>\n",
       "    </tr>\n",
       "    <tr>\n",
       "      <th>9</th>\n",
       "      <td>Δυτική Ελλάδα</td>\n",
       "      <td>60%</td>\n",
       "      <td>70%</td>\n",
       "      <td>50%</td>\n",
       "    </tr>\n",
       "    <tr>\n",
       "      <th>10</th>\n",
       "      <td>Στερεά Ελλάδα</td>\n",
       "      <td>50%</td>\n",
       "      <td>60%</td>\n",
       "      <td>50%</td>\n",
       "    </tr>\n",
       "    <tr>\n",
       "      <th>11</th>\n",
       "      <td>Ευρυτανία</td>\n",
       "      <td>50%</td>\n",
       "      <td>60%</td>\n",
       "      <td>50%</td>\n",
       "    </tr>\n",
       "    <tr>\n",
       "      <th>12</th>\n",
       "      <td>Πελοπόννησος:Δήμοι\\rΜεγαλόπολης,Γορτυνίας\\rΤρί...</td>\n",
       "      <td>60%</td>\n",
       "      <td>70%</td>\n",
       "      <td>50%</td>\n",
       "    </tr>\n",
       "    <tr>\n",
       "      <th>13</th>\n",
       "      <td>Πελοπόννησος:Λοιποί\\rΔήμοι</td>\n",
       "      <td>50%</td>\n",
       "      <td>60%</td>\n",
       "      <td>50%</td>\n",
       "    </tr>\n",
       "    <tr>\n",
       "      <th>14</th>\n",
       "      <td>Νότιο Αιγαίο</td>\n",
       "      <td>50%</td>\n",
       "      <td>60%</td>\n",
       "      <td>50%</td>\n",
       "    </tr>\n",
       "  </tbody>\n",
       "</table>\n",
       "</div>"
      ]
     },
     "execution_count": 12,
     "metadata": {},
     "output_type": "execute_result"
    }
   ],
   "execution_count": 12
  },
  {
   "metadata": {
    "ExecuteTime": {
     "end_time": "2024-12-12T13:27:12.157579Z",
     "start_time": "2024-12-12T13:27:12.154193Z"
    }
   },
   "cell_type": "code",
   "source": "eu_regions_grants_limits.columns",
   "id": "eba374771f928d0e",
   "outputs": [
    {
     "data": {
      "text/plain": [
       "Index(['ΠΕΡΙΦΕΡΕΙΕΣ', 'ΜΕΓΕΘΟΣ ΕΠΙΧΕΙΡΗΣΕΩΝ\\rΔαπάνες Άρθρου 14',\n",
       "       'Δαπάνες Άρθρου\\r18 και 31', 'Unnamed: 0'],\n",
       "      dtype='object')"
      ]
     },
     "execution_count": 13,
     "metadata": {},
     "output_type": "execute_result"
    }
   ],
   "execution_count": 13
  },
  {
   "metadata": {
    "ExecuteTime": {
     "end_time": "2024-12-12T13:27:12.377426Z",
     "start_time": "2024-12-12T13:27:12.374757Z"
    }
   },
   "cell_type": "code",
   "source": [
    "# Dictionary to replace the column names\n",
    "new_columns = {\n",
    "    'ΠΕΡΙΦΕΡΕΙΕΣ': 'region',\n",
    "    'ΜΕΓΕΘΟΣ ΕΠΙΧΕΙΡΗΣΕΩΝ\\rΔαπάνες Άρθρου 14': 'medium_size_article_14',\n",
    "    'Δαπάνες Άρθρου\\r18 και 31': 'small_micro_size_article_14',\n",
    "    'Unnamed: 0': 'article_18'\n",
    "}\n",
    "\n",
    "# Rename the columns\n",
    "eu_regions_grants_limits.rename(columns=new_columns, inplace=True)"
   ],
   "id": "6ed4b28388f4ad1f",
   "outputs": [],
   "execution_count": 14
  },
  {
   "metadata": {
    "ExecuteTime": {
     "end_time": "2024-12-12T13:27:12.913903Z",
     "start_time": "2024-12-12T13:27:12.910928Z"
    }
   },
   "cell_type": "code",
   "source": "eu_regions_grants_limits.drop(0, inplace=True)",
   "id": "fa0cf21aae9def11",
   "outputs": [],
   "execution_count": 15
  },
  {
   "metadata": {
    "ExecuteTime": {
     "end_time": "2024-12-12T13:27:13.475832Z",
     "start_time": "2024-12-12T13:27:13.465579Z"
    }
   },
   "cell_type": "code",
   "source": "eu_regions_grants_limits",
   "id": "42595bf2fa98bcfe",
   "outputs": [
    {
     "data": {
      "text/plain": [
       "                                               region medium_size_article_14  \\\n",
       "1                                       Βόρειο Αιγαίο                    70%   \n",
       "2                                               Κρήτη                    60%   \n",
       "3                          ΑνατολικήΜακεδονία-\\rΘράκη                    60%   \n",
       "4                                  Κεντρική Μακεδονία                    60%   \n",
       "5                                    Δυτική Μακεδονία                    60%   \n",
       "6                                             Ήπειρος                    60%   \n",
       "7                                            Θεσσαλία                    60%   \n",
       "8                                         Ιόνια Νησιά                    50%   \n",
       "9                                       Δυτική Ελλάδα                    60%   \n",
       "10                                      Στερεά Ελλάδα                    50%   \n",
       "11                                          Ευρυτανία                    50%   \n",
       "12  Πελοπόννησος:Δήμοι\\rΜεγαλόπολης,Γορτυνίας\\rΤρί...                    60%   \n",
       "13                         Πελοπόννησος:Λοιποί\\rΔήμοι                    50%   \n",
       "14                                       Νότιο Αιγαίο                    50%   \n",
       "\n",
       "   small_micro_size_article_14 article_18  \n",
       "1                          75%        50%  \n",
       "2                          70%        50%  \n",
       "3                          70%        50%  \n",
       "4                          70%        50%  \n",
       "5                          70%        50%  \n",
       "6                          70%        50%  \n",
       "7                          70%        50%  \n",
       "8                          60%        50%  \n",
       "9                          70%        50%  \n",
       "10                         60%        50%  \n",
       "11                         60%        50%  \n",
       "12                         70%        50%  \n",
       "13                         60%        50%  \n",
       "14                         60%        50%  "
      ],
      "text/html": [
       "<div>\n",
       "<style scoped>\n",
       "    .dataframe tbody tr th:only-of-type {\n",
       "        vertical-align: middle;\n",
       "    }\n",
       "\n",
       "    .dataframe tbody tr th {\n",
       "        vertical-align: top;\n",
       "    }\n",
       "\n",
       "    .dataframe thead th {\n",
       "        text-align: right;\n",
       "    }\n",
       "</style>\n",
       "<table border=\"1\" class=\"dataframe\">\n",
       "  <thead>\n",
       "    <tr style=\"text-align: right;\">\n",
       "      <th></th>\n",
       "      <th>region</th>\n",
       "      <th>medium_size_article_14</th>\n",
       "      <th>small_micro_size_article_14</th>\n",
       "      <th>article_18</th>\n",
       "    </tr>\n",
       "  </thead>\n",
       "  <tbody>\n",
       "    <tr>\n",
       "      <th>1</th>\n",
       "      <td>Βόρειο Αιγαίο</td>\n",
       "      <td>70%</td>\n",
       "      <td>75%</td>\n",
       "      <td>50%</td>\n",
       "    </tr>\n",
       "    <tr>\n",
       "      <th>2</th>\n",
       "      <td>Κρήτη</td>\n",
       "      <td>60%</td>\n",
       "      <td>70%</td>\n",
       "      <td>50%</td>\n",
       "    </tr>\n",
       "    <tr>\n",
       "      <th>3</th>\n",
       "      <td>ΑνατολικήΜακεδονία-\\rΘράκη</td>\n",
       "      <td>60%</td>\n",
       "      <td>70%</td>\n",
       "      <td>50%</td>\n",
       "    </tr>\n",
       "    <tr>\n",
       "      <th>4</th>\n",
       "      <td>Κεντρική Μακεδονία</td>\n",
       "      <td>60%</td>\n",
       "      <td>70%</td>\n",
       "      <td>50%</td>\n",
       "    </tr>\n",
       "    <tr>\n",
       "      <th>5</th>\n",
       "      <td>Δυτική Μακεδονία</td>\n",
       "      <td>60%</td>\n",
       "      <td>70%</td>\n",
       "      <td>50%</td>\n",
       "    </tr>\n",
       "    <tr>\n",
       "      <th>6</th>\n",
       "      <td>Ήπειρος</td>\n",
       "      <td>60%</td>\n",
       "      <td>70%</td>\n",
       "      <td>50%</td>\n",
       "    </tr>\n",
       "    <tr>\n",
       "      <th>7</th>\n",
       "      <td>Θεσσαλία</td>\n",
       "      <td>60%</td>\n",
       "      <td>70%</td>\n",
       "      <td>50%</td>\n",
       "    </tr>\n",
       "    <tr>\n",
       "      <th>8</th>\n",
       "      <td>Ιόνια Νησιά</td>\n",
       "      <td>50%</td>\n",
       "      <td>60%</td>\n",
       "      <td>50%</td>\n",
       "    </tr>\n",
       "    <tr>\n",
       "      <th>9</th>\n",
       "      <td>Δυτική Ελλάδα</td>\n",
       "      <td>60%</td>\n",
       "      <td>70%</td>\n",
       "      <td>50%</td>\n",
       "    </tr>\n",
       "    <tr>\n",
       "      <th>10</th>\n",
       "      <td>Στερεά Ελλάδα</td>\n",
       "      <td>50%</td>\n",
       "      <td>60%</td>\n",
       "      <td>50%</td>\n",
       "    </tr>\n",
       "    <tr>\n",
       "      <th>11</th>\n",
       "      <td>Ευρυτανία</td>\n",
       "      <td>50%</td>\n",
       "      <td>60%</td>\n",
       "      <td>50%</td>\n",
       "    </tr>\n",
       "    <tr>\n",
       "      <th>12</th>\n",
       "      <td>Πελοπόννησος:Δήμοι\\rΜεγαλόπολης,Γορτυνίας\\rΤρί...</td>\n",
       "      <td>60%</td>\n",
       "      <td>70%</td>\n",
       "      <td>50%</td>\n",
       "    </tr>\n",
       "    <tr>\n",
       "      <th>13</th>\n",
       "      <td>Πελοπόννησος:Λοιποί\\rΔήμοι</td>\n",
       "      <td>50%</td>\n",
       "      <td>60%</td>\n",
       "      <td>50%</td>\n",
       "    </tr>\n",
       "    <tr>\n",
       "      <th>14</th>\n",
       "      <td>Νότιο Αιγαίο</td>\n",
       "      <td>50%</td>\n",
       "      <td>60%</td>\n",
       "      <td>50%</td>\n",
       "    </tr>\n",
       "  </tbody>\n",
       "</table>\n",
       "</div>"
      ]
     },
     "execution_count": 16,
     "metadata": {},
     "output_type": "execute_result"
    }
   ],
   "execution_count": 16
  },
  {
   "metadata": {
    "ExecuteTime": {
     "end_time": "2024-12-12T13:28:46.124816Z",
     "start_time": "2024-12-12T13:28:46.120704Z"
    }
   },
   "cell_type": "code",
   "source": [
    "\n",
    "eu_regions_grants_limits.region.values"
   ],
   "id": "9c0c38ec519cf287",
   "outputs": [
    {
     "data": {
      "text/plain": [
       "array(['Βόρειο Αιγαίο', 'Κρήτη', 'ΑνατολικήΜακεδονία- Θράκη',\n",
       "       'Κεντρική Μακεδονία', 'Δυτική Μακεδονία', 'Ήπειρος', 'Θεσσαλία',\n",
       "       'Ιόνια Νησιά', 'Δυτική Ελλάδα', 'Στερεά Ελλάδα', 'Ευρυτανία',\n",
       "       'Πελοπόννησος:Δήμοι Μεγαλόπολης,Γορτυνίας Τρίπολης Οιχαλίας',\n",
       "       'Πελοπόννησος:Λοιποί Δήμοι', 'Νότιο Αιγαίο'], dtype=object)"
      ]
     },
     "execution_count": 19,
     "metadata": {},
     "output_type": "execute_result"
    }
   ],
   "execution_count": 19
  },
  {
   "metadata": {
    "ExecuteTime": {
     "end_time": "2024-12-12T13:28:43.277339Z",
     "start_time": "2024-12-12T13:28:43.272582Z"
    }
   },
   "cell_type": "code",
   "source": [
    "# Remove unnecessary characters '\\r' from the region column values\n",
    "eu_regions_grants_limits['region'] = eu_regions_grants_limits['region'].str.replace('\\r', ' ')"
   ],
   "id": "9536a20caabd4862",
   "outputs": [],
   "execution_count": 18
  },
  {
   "metadata": {},
   "cell_type": "code",
   "outputs": [],
   "execution_count": null,
   "source": [
    "# Dictionary to translate the region names from Greek to English\n",
    "\n",
    "OFFICIAL_GUIDE_REGIONS_TRANSLATIONS_GR_EN = {\n",
    "    'Βόρειο Αιγαίο': 'North Aegean',\n",
    "    'Κρήτη': 'Crete',\n",
    "    'ΑνατολικήΜακεδονία- Θράκη': 'Eastern Macedonia and Thrace',\n",
    "    'Κεντρική Μακεδονία': 'Central Macedonia',\n",
    "    'Δυτική Μακεδονία': 'Western Macedonia',\n",
    "    'Ήπειρος': 'Epirus',\n",
    "    'Θεσσαλία': 'Thessaly',\n",
    "    'Ιόνια Νησιά': 'Ionian Islands',\n",
    "    'Δυτική Ελλάδα': 'Western Greece',\n",
    "    'Στερεά Ελλάδα': 'Central Greece',\n",
    "    'Ευρυτανία',\n",
    "       'Πελοπόννησος:Δήμοι Μεγαλόπολης,Γορτυνίας Τρίπολης Οιχαλίας',\n",
    "       'Πελοπόννησος:Λοιποί Δήμοι', 'Νότιο Αιγαίο'\n",
    "}\n",
    "\n"
   ],
   "id": "c12b88d55be37222"
  },
  {
   "metadata": {},
   "cell_type": "code",
   "outputs": [],
   "execution_count": null,
   "source": [
    "# Region names from the official Implementation guide\n",
    "\n",
    "OFFICIAL_GUIDE_REGIONS_TRANSLATIONS_GR_EN = {\n"
   ],
   "id": "439548be4238fe63"
  }
 ],
 "metadata": {
  "kernelspec": {
   "display_name": "Python 3",
   "language": "python",
   "name": "python3"
  },
  "language_info": {
   "codemirror_mode": {
    "name": "ipython",
    "version": 2
   },
   "file_extension": ".py",
   "mimetype": "text/x-python",
   "name": "python",
   "nbconvert_exporter": "python",
   "pygments_lexer": "ipython2",
   "version": "2.7.6"
  }
 },
 "nbformat": 4,
 "nbformat_minor": 5
}
