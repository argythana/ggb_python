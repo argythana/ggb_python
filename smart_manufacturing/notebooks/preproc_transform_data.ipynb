{
 "cells": [
  {
   "cell_type": "markdown",
   "id": "eb1b29fe159d661",
   "metadata": {},
   "source": [
    "# Interactive Data validation and preparation file."
   ]
  },
  {
   "cell_type": "code",
   "execution_count": 84,
   "id": "181a5505-1f31-4c16-b648-7716db988007",
   "metadata": {
    "ExecuteTime": {
     "end_time": "2024-12-12T13:00:54.519958Z",
     "start_time": "2024-12-12T13:00:54.265660Z"
    }
   },
   "outputs": [],
   "source": [
    "import pandas as pd\n",
    "import numpy as np\n",
    "\n",
    "# Display numpy numbers with two decimal places\n",
    "np.set_printoptions(precision=3)\n",
    "\n",
    "# Display pandas numbers with two decimal places\n",
    "pd.set_option(\"display.float_format\", lambda x: \"%.3f\" % x)\n",
    "\n",
    "from pathlib import Path\n",
    "import sys\n",
    "\n",
    "# Get the current working directory\n",
    "cwd = Path.cwd()\n",
    "\n",
    "# Get parent directory\n",
    "parent_dir = cwd.parent\n",
    "\n",
    "# Add parent directory to the Python path\n",
    "if str(parent_dir) not in sys.path:\n",
    "    sys.path.append(str(parent_dir))\n",
    "\n",
    "# #Get utils directory\n",
    "# utils_dir = parent_dir / \"utils\"\n",
    "\n",
    "# # Add utils directory to the Python path\n",
    "# if str(utils_dir) not in sys.path:\n",
    "#     sys.path.append(str(utils_dir))\n",
    "\n",
    "from utils.parse_nace_codes import parse_nace_codes\n",
    "from utils.translations import MIS_REGIONS_TRANSLATIONS_GR_EN"
   ]
  },
  {
   "cell_type": "code",
   "execution_count": 85,
   "id": "af0218c5b7c298db",
   "metadata": {
    "ExecuteTime": {
     "end_time": "2024-12-12T13:00:54.715584Z",
     "start_time": "2024-12-12T13:00:54.713330Z"
    }
   },
   "outputs": [],
   "source": [
    "# Source data files location\n",
    "mis_file_path = \"../data/rrf_smrt_manuf_mis_granular_data.xlsx\"\n",
    "official_data_file_path = \"../data/rrf_smrt_manuf_funded_proposals_official_data.xlsx\""
   ]
  },
  {
   "cell_type": "markdown",
   "id": "7e314652b14c0329",
   "metadata": {},
   "source": [
    "## Read Management Information System (MIS) data"
   ]
  },
  {
   "cell_type": "code",
   "execution_count": 6,
   "id": "366ff6df96e326c1",
   "metadata": {
    "ExecuteTime": {
     "end_time": "2024-12-12T13:00:55.067766Z",
     "start_time": "2024-12-12T13:00:54.764966Z"
    }
   },
   "outputs": [],
   "source": [
    "# Load MIS excel file\n",
    "with pd.ExcelFile(mis_file_path, engine=\"openpyxl\") as mis_excel_file:\n",
    "    # Get sheet names list\n",
    "    sheet_names = mis_excel_file.sheet_names\n",
    "\n",
    "    # Get sheets as dicts\n",
    "    mis_dfs = pd.read_excel(\n",
    "        mis_file_path,\n",
    "        sheet_name=sheet_names,\n",
    "        engine=\"openpyxl\",\n",
    "    )"
   ]
  },
  {
   "cell_type": "code",
   "execution_count": 7,
   "id": "8417cf8cdcec29be",
   "metadata": {
    "ExecuteTime": {
     "end_time": "2024-12-12T13:00:55.078443Z",
     "start_time": "2024-12-12T13:00:55.076632Z"
    }
   },
   "outputs": [],
   "source": [
    "# Convert sheets dictionaries to dataframes\n",
    "mis_proposals_df = mis_dfs[sheet_names[0]]\n",
    "mis_sectors_df = mis_dfs[sheet_names[1]]"
   ]
  },
  {
   "cell_type": "code",
   "execution_count": 9,
   "id": "a9c06d5a419141c6",
   "metadata": {
    "ExecuteTime": {
     "end_time": "2024-12-12T13:00:55.179273Z",
     "start_time": "2024-12-12T13:00:55.176545Z"
    }
   },
   "outputs": [],
   "source": [
    "# remove 'Επωνυμία Φορέα' column\n",
    "mis_proposals_df = mis_proposals_df.drop(columns=[\"Επωνυμία Φορέα\"])"
   ]
  },
  {
   "cell_type": "code",
   "execution_count": 10,
   "id": "4adddcc3c525a982",
   "metadata": {
    "ExecuteTime": {
     "end_time": "2024-12-12T13:00:55.236053Z",
     "start_time": "2024-12-12T13:00:55.232275Z"
    }
   },
   "outputs": [
    {
     "data": {
      "text/plain": [
       "array(['Απορριφθείσα', 'Εγκεκριμένη',\n",
       "       'Έχει υποβληθεί - Δεν έχει παραληφθεί'], dtype=object)"
      ]
     },
     "execution_count": 10,
     "metadata": {},
     "output_type": "execute_result"
    }
   ],
   "source": [
    "mis_proposals_df[\"Κατάσταση Αιτήματος\"].unique()"
   ]
  },
  {
   "cell_type": "code",
   "execution_count": 11,
   "id": "171e5ddc1f10d52",
   "metadata": {
    "ExecuteTime": {
     "end_time": "2024-12-12T13:00:55.289884Z",
     "start_time": "2024-12-12T13:00:55.286918Z"
    }
   },
   "outputs": [],
   "source": [
    "# Filter proposals, keep approved only\n",
    "mis_approved_proposals = mis_proposals_df[\n",
    "    mis_proposals_df[\"Κατάσταση Αιτήματος\"] == \"Εγκεκριμένη\"\n",
    "]"
   ]
  },
  {
   "cell_type": "code",
   "execution_count": 12,
   "id": "9d42ae4756dbfb7d",
   "metadata": {
    "ExecuteTime": {
     "end_time": "2024-12-12T13:00:55.340042Z",
     "start_time": "2024-12-12T13:00:55.337525Z"
    }
   },
   "outputs": [],
   "source": [
    "mis_approved_codes_list = list(mis_approved_proposals[\"Κωδικός Πρότασης\"].values)\n",
    "# strip all whitespaces\n",
    "mis_approved_codes_list = [x.strip() for x in mis_approved_codes_list]"
   ]
  },
  {
   "cell_type": "markdown",
   "id": "1ac4c1be80f68ea9",
   "metadata": {},
   "source": [
    "## Read official published data"
   ]
  },
  {
   "cell_type": "code",
   "execution_count": 13,
   "id": "3c0de1a9dea1ed07",
   "metadata": {
    "ExecuteTime": {
     "end_time": "2024-12-12T13:00:55.468470Z",
     "start_time": "2024-12-12T13:00:55.386217Z"
    }
   },
   "outputs": [],
   "source": [
    "official_data_df = pd.read_excel(official_data_file_path, engine=\"openpyxl\")"
   ]
  },
  {
   "cell_type": "code",
   "execution_count": 14,
   "id": "cd591a17ebd2ce1e",
   "metadata": {
    "ExecuteTime": {
     "end_time": "2024-12-12T13:00:55.483415Z",
     "start_time": "2024-12-12T13:00:55.481152Z"
    }
   },
   "outputs": [],
   "source": [
    "official_projects_codes_list = list(official_data_df[\"Κωδικός Πρότασης\"].values)\n",
    "# strip all whitespaces\n",
    "official_projects_codes_list = [x.strip() for x in official_projects_codes_list]"
   ]
  },
  {
   "cell_type": "markdown",
   "id": "17ed6255396f1067",
   "metadata": {},
   "source": [
    "### 1. Data validation and quality"
   ]
  },
  {
   "cell_type": "code",
   "execution_count": 15,
   "id": "b8c7d08c0d537f21",
   "metadata": {
    "ExecuteTime": {
     "end_time": "2024-12-12T13:00:55.531071Z",
     "start_time": "2024-12-12T13:00:55.528301Z"
    }
   },
   "outputs": [
    {
     "data": {
      "text/plain": [
       "True"
      ]
     },
     "execution_count": 15,
     "metadata": {},
     "output_type": "execute_result"
    }
   ],
   "source": [
    "# Test if both lists have the same length\n",
    "len(official_projects_codes_list) == len(mis_approved_codes_list)"
   ]
  },
  {
   "cell_type": "code",
   "execution_count": 16,
   "id": "7eb2ca3f59a4f46",
   "metadata": {
    "ExecuteTime": {
     "end_time": "2024-12-12T13:00:55.585003Z",
     "start_time": "2024-12-12T13:00:55.582156Z"
    }
   },
   "outputs": [
    {
     "data": {
      "text/plain": [
       "[]"
      ]
     },
     "execution_count": 16,
     "metadata": {},
     "output_type": "execute_result"
    }
   ],
   "source": [
    "# Compare items in the two lists\n",
    "# TODO: refactor using sets\n",
    "items_not_in_mis = [\n",
    "    item for item in official_projects_codes_list if item not in mis_approved_codes_list\n",
    "]\n",
    "items_not_in_mis"
   ]
  },
  {
   "cell_type": "code",
   "execution_count": 17,
   "id": "8e3c6ba2a7b6652e",
   "metadata": {
    "ExecuteTime": {
     "end_time": "2024-12-12T13:00:55.634851Z",
     "start_time": "2024-12-12T13:00:55.632192Z"
    }
   },
   "outputs": [],
   "source": [
    "# TODO: Test if total approved budget is the same in both datasets"
   ]
  },
  {
   "cell_type": "code",
   "execution_count": 18,
   "id": "922b241e6eac73ff",
   "metadata": {
    "ExecuteTime": {
     "end_time": "2024-12-12T13:00:55.686696Z",
     "start_time": "2024-12-12T13:00:55.683677Z"
    }
   },
   "outputs": [
    {
     "data": {
      "text/plain": [
       "array(['Απορριφθείσα', 'Εγκεκριμένη',\n",
       "       'Έχει υποβληθεί - Δεν έχει παραληφθεί'], dtype=object)"
      ]
     },
     "execution_count": 18,
     "metadata": {},
     "output_type": "execute_result"
    }
   ],
   "source": [
    "# Test if all proposals have been reviewed and submitted in the MIS\n",
    "mis_proposals_df[\"Κατάσταση Αιτήματος\"].unique()"
   ]
  },
  {
   "cell_type": "code",
   "execution_count": 86,
   "id": "3e0c3662a077b02f",
   "metadata": {
    "ExecuteTime": {
     "end_time": "2024-12-12T13:00:55.748849Z",
     "start_time": "2024-12-12T13:00:55.738787Z"
    }
   },
   "outputs": [],
   "source": [
    "# non_submitted_df = mis_proposals_df[\n",
    "#     mis_proposals_df[\"Κατάσταση Αιτήματος\"] == \"Έχει υποβληθεί - Δεν έχει παραληφθεί\"\n",
    "# ]  # Rejected proposal.\n",
    "# non_submitted_df"
   ]
  },
  {
   "cell_type": "markdown",
   "id": "24f928f5430ffab3",
   "metadata": {},
   "source": [
    "### 2. Drop and rename columns"
   ]
  },
  {
   "cell_type": "markdown",
   "id": "26a13da6a2304b6b",
   "metadata": {},
   "source": [
    "### 2.1 Transform MIS proposals data"
   ]
  },
  {
   "cell_type": "code",
   "execution_count": 20,
   "id": "390920f312372208",
   "metadata": {
    "ExecuteTime": {
     "end_time": "2024-12-12T13:00:55.791063Z",
     "start_time": "2024-12-12T13:00:55.789426Z"
    }
   },
   "outputs": [],
   "source": [
    "# Work only on approved proposals\n",
    "df = mis_approved_proposals"
   ]
  },
  {
   "cell_type": "code",
   "execution_count": 21,
   "id": "1a2c702092ac2ccc",
   "metadata": {
    "ExecuteTime": {
     "end_time": "2024-12-12T13:00:55.841640Z",
     "start_time": "2024-12-12T13:00:55.838753Z"
    }
   },
   "outputs": [],
   "source": [
    "cols_to_drop = [\"ΦΑΣΗ ΠΡΟΤΑΣΗΣ\", \"Κατάσταση Αιτήματος\", \"Τρέχουσα Κατάσταση Πρότασης\"]\n",
    "df = df.drop(columns=cols_to_drop)"
   ]
  },
  {
   "cell_type": "code",
   "execution_count": 23,
   "id": "a67ec5e5bf9b6e05",
   "metadata": {
    "ExecuteTime": {
     "end_time": "2024-12-12T13:00:55.981308Z",
     "start_time": "2024-12-12T13:00:55.978297Z"
    }
   },
   "outputs": [],
   "source": [
    "# rename, translate column names\n",
    "df.columns = [\n",
    "    \"project_code\",\n",
    "    \"size\",\n",
    "    \"status\",\n",
    "    \"region\",\n",
    "    \"regional_unit\",\n",
    "    \"investment_budget\",\n",
    "    \"eligible_budget\",\n",
    "    \"public_funding\",\n",
    "]"
   ]
  },
  {
   "cell_type": "code",
   "execution_count": 24,
   "id": "1ec9a1f89fe2e840",
   "metadata": {
    "ExecuteTime": {
     "end_time": "2024-12-12T13:00:56.047926Z",
     "start_time": "2024-12-12T13:00:56.044368Z"
    }
   },
   "outputs": [
    {
     "data": {
      "text/plain": [
       "array(['ΕΞΜΠ-0543351                  ', 'ΕΞΜΠ-0543354                  ',\n",
       "       'ΕΞΜΠ-0543368                  '], dtype=object)"
      ]
     },
     "execution_count": 24,
     "metadata": {},
     "output_type": "execute_result"
    }
   ],
   "source": [
    "df.project_code.unique()[:3]"
   ]
  },
  {
   "cell_type": "code",
   "execution_count": 25,
   "id": "a456bb585c4051b7",
   "metadata": {
    "ExecuteTime": {
     "end_time": "2024-12-12T13:00:56.089457Z",
     "start_time": "2024-12-12T13:00:56.086578Z"
    }
   },
   "outputs": [],
   "source": [
    "# strip whitespaces from df[\"project_code\"]\n",
    "df[\"project_code\"] = df[\"project_code\"].str.strip()"
   ]
  },
  {
   "cell_type": "markdown",
   "id": "9827c1a5f564971",
   "metadata": {},
   "source": [
    "### 2.1 Transform MIS sectors' data"
   ]
  },
  {
   "cell_type": "code",
   "execution_count": 26,
   "id": "93e54edc197c7e51",
   "metadata": {
    "ExecuteTime": {
     "end_time": "2024-12-12T13:00:56.138856Z",
     "start_time": "2024-12-12T13:00:56.135490Z"
    }
   },
   "outputs": [
    {
     "data": {
      "text/plain": [
       "Index(['Κωδικός Πρότασης', 'ΚΑΔ', '4ψήφιος ΚΑΔ - Κωδικός', 'Περιγραφή ΚΑΔ',\n",
       "       'Κύριος ΚΑΔ', 'ΚΑΔ Επένδυσης?'],\n",
       "      dtype='object')"
      ]
     },
     "execution_count": 26,
     "metadata": {},
     "output_type": "execute_result"
    }
   ],
   "source": [
    "mis_sectors_df.columns"
   ]
  },
  {
   "cell_type": "code",
   "execution_count": 27,
   "id": "ee7a6f58c1eff6f4",
   "metadata": {
    "ExecuteTime": {
     "end_time": "2024-12-12T13:00:56.159610Z",
     "start_time": "2024-12-12T13:00:56.157057Z"
    }
   },
   "outputs": [],
   "source": [
    "# keep only necessary columns\n",
    "mis_sectors_df.columns = [\n",
    "    \"project_code\",\n",
    "    \"nace_8_digits_code\",\n",
    "    \"nace_4_digits_code\",\n",
    "    \"description_nace_8_digits\",\n",
    "    \"main_nace\",\n",
    "    \"investment_nace\",\n",
    "]"
   ]
  },
  {
   "cell_type": "code",
   "execution_count": 28,
   "id": "bf91b78ac43f8c0a",
   "metadata": {
    "ExecuteTime": {
     "end_time": "2024-12-12T13:00:56.182286Z",
     "start_time": "2024-12-12T13:00:56.179501Z"
    }
   },
   "outputs": [
    {
     "data": {
      "text/plain": [
       "array(['NAI', 'OXI'], dtype=object)"
      ]
     },
     "execution_count": 28,
     "metadata": {},
     "output_type": "execute_result"
    }
   ],
   "source": [
    "mis_sectors_df[\"investment_nace\"].unique()"
   ]
  },
  {
   "cell_type": "code",
   "execution_count": 29,
   "id": "de93f3b3ad58af5b",
   "metadata": {
    "ExecuteTime": {
     "end_time": "2024-12-12T13:00:56.208566Z",
     "start_time": "2024-12-12T13:00:56.205154Z"
    }
   },
   "outputs": [
    {
     "data": {
      "text/plain": [
       "array(['ΕΞΜΠ-0543351                  ', 'ΕΞΜΠ-0543354                  ',\n",
       "       'ΕΞΜΠ-0543368                  '], dtype=object)"
      ]
     },
     "execution_count": 29,
     "metadata": {},
     "output_type": "execute_result"
    }
   ],
   "source": [
    "mis_sectors_df[\"project_code\"].unique()[:3]"
   ]
  },
  {
   "cell_type": "code",
   "execution_count": 30,
   "id": "b5d65256448d3ca2",
   "metadata": {
    "ExecuteTime": {
     "end_time": "2024-12-12T13:00:56.230177Z",
     "start_time": "2024-12-12T13:00:56.227409Z"
    }
   },
   "outputs": [],
   "source": [
    "# strip whitespaces from mis_sectors_df[\"project_code\"]\n",
    "mis_sectors_df[\"project_code\"] = mis_sectors_df[\"project_code\"].str.strip()"
   ]
  },
  {
   "cell_type": "code",
   "execution_count": 31,
   "id": "a63b42f815ffe223",
   "metadata": {
    "ExecuteTime": {
     "end_time": "2024-12-12T13:00:56.280872Z",
     "start_time": "2024-12-12T13:00:56.277652Z"
    }
   },
   "outputs": [
    {
     "data": {
      "text/plain": [
       "array(['ΕΞΜΠ-0543351', 'ΕΞΜΠ-0543354', 'ΕΞΜΠ-0543368'], dtype=object)"
      ]
     },
     "execution_count": 31,
     "metadata": {},
     "output_type": "execute_result"
    }
   ],
   "source": [
    "mis_sectors_df[\"project_code\"].unique()[:3]"
   ]
  },
  {
   "cell_type": "markdown",
   "id": "11d4a865e2092f56",
   "metadata": {},
   "source": [
    "## 3. Focus on the approved proposals for investment"
   ]
  },
  {
   "cell_type": "markdown",
   "id": "edecd016fde668cf",
   "metadata": {},
   "source": [
    "### 3.1. Keep only investments' sectors"
   ]
  },
  {
   "cell_type": "code",
   "execution_count": 32,
   "id": "fd1678fdc4dd5679",
   "metadata": {
    "ExecuteTime": {
     "end_time": "2024-12-12T13:00:56.302627Z",
     "start_time": "2024-12-12T13:00:56.299529Z"
    }
   },
   "outputs": [],
   "source": [
    "investment_sectors = mis_sectors_df[mis_sectors_df[\"investment_nace\"] == \"NAI\"]"
   ]
  },
  {
   "cell_type": "code",
   "execution_count": 33,
   "id": "c3164d2f4298b044",
   "metadata": {
    "ExecuteTime": {
     "end_time": "2024-12-12T13:00:56.325625Z",
     "start_time": "2024-12-12T13:00:56.322535Z"
    }
   },
   "outputs": [
    {
     "data": {
      "text/plain": [
       "351"
      ]
     },
     "execution_count": 33,
     "metadata": {},
     "output_type": "execute_result"
    }
   ],
   "source": [
    "len(investment_sectors)"
   ]
  },
  {
   "cell_type": "code",
   "execution_count": 34,
   "id": "e8d3f5d82dad90dd",
   "metadata": {
    "ExecuteTime": {
     "end_time": "2024-12-12T13:00:56.350307Z",
     "start_time": "2024-12-12T13:00:56.346386Z"
    }
   },
   "outputs": [
    {
     "data": {
      "text/plain": [
       "1198"
      ]
     },
     "execution_count": 34,
     "metadata": {},
     "output_type": "execute_result"
    }
   ],
   "source": [
    "other_sectors = mis_sectors_df[mis_sectors_df[\"investment_nace\"] == \"OXI\"]\n",
    "len(other_sectors)"
   ]
  },
  {
   "cell_type": "code",
   "execution_count": 35,
   "id": "9dd884919db85a89",
   "metadata": {
    "ExecuteTime": {
     "end_time": "2024-12-12T13:00:56.374048Z",
     "start_time": "2024-12-12T13:00:56.370685Z"
    }
   },
   "outputs": [
    {
     "data": {
      "text/plain": [
       "307"
      ]
     },
     "execution_count": 35,
     "metadata": {},
     "output_type": "execute_result"
    }
   ],
   "source": [
    "len(mis_sectors_df[\"nace_4_digits_code\"].unique())"
   ]
  },
  {
   "cell_type": "code",
   "execution_count": 36,
   "id": "c971b49f34959e0c",
   "metadata": {
    "ExecuteTime": {
     "end_time": "2024-12-12T13:00:56.402160Z",
     "start_time": "2024-12-12T13:00:56.396489Z"
    }
   },
   "outputs": [
    {
     "data": {
      "text/html": [
       "<div>\n",
       "<style scoped>\n",
       "    .dataframe tbody tr th:only-of-type {\n",
       "        vertical-align: middle;\n",
       "    }\n",
       "\n",
       "    .dataframe tbody tr th {\n",
       "        vertical-align: top;\n",
       "    }\n",
       "\n",
       "    .dataframe thead th {\n",
       "        text-align: right;\n",
       "    }\n",
       "</style>\n",
       "<table border=\"1\" class=\"dataframe\">\n",
       "  <thead>\n",
       "    <tr style=\"text-align: right;\">\n",
       "      <th></th>\n",
       "      <th>project_code</th>\n",
       "      <th>nace_8_digits_code</th>\n",
       "      <th>nace_4_digits_code</th>\n",
       "      <th>description_nace_8_digits</th>\n",
       "      <th>main_nace</th>\n",
       "      <th>investment_nace</th>\n",
       "    </tr>\n",
       "  </thead>\n",
       "  <tbody>\n",
       "    <tr>\n",
       "      <th>0</th>\n",
       "      <td>ΕΞΜΠ-0543351</td>\n",
       "      <td>11.05.10</td>\n",
       "      <td>11.050</td>\n",
       "      <td>Παραγωγή μπίρας, εκτός από κατάλοιπα ζυθοποιίας</td>\n",
       "      <td>NAI</td>\n",
       "      <td>NAI</td>\n",
       "    </tr>\n",
       "    <tr>\n",
       "      <th>3</th>\n",
       "      <td>ΕΞΜΠ-0543354</td>\n",
       "      <td>25.62.10</td>\n",
       "      <td>25.620</td>\n",
       "      <td>Υπηρεσίες τόρνευσης μεταλλικών μερών</td>\n",
       "      <td>OXI</td>\n",
       "      <td>NAI</td>\n",
       "    </tr>\n",
       "    <tr>\n",
       "      <th>4</th>\n",
       "      <td>ΕΞΜΠ-0543354</td>\n",
       "      <td>25.62.20</td>\n",
       "      <td>25.620</td>\n",
       "      <td>Άλλες υπηρεσίες μεταλλοτεχνίας</td>\n",
       "      <td>OXI</td>\n",
       "      <td>NAI</td>\n",
       "    </tr>\n",
       "    <tr>\n",
       "      <th>5</th>\n",
       "      <td>ΕΞΜΠ-0543354</td>\n",
       "      <td>28.11.41</td>\n",
       "      <td>28.110</td>\n",
       "      <td>Κατασκευή μερών κινητήρων εσωτερικής καύσης στ...</td>\n",
       "      <td>NAI</td>\n",
       "      <td>NAI</td>\n",
       "    </tr>\n",
       "    <tr>\n",
       "      <th>23</th>\n",
       "      <td>ΕΞΜΠ-0543368</td>\n",
       "      <td>31.02.10</td>\n",
       "      <td>31.020</td>\n",
       "      <td>Κατασκευή επίπλων κουζίνας</td>\n",
       "      <td>OXI</td>\n",
       "      <td>NAI</td>\n",
       "    </tr>\n",
       "    <tr>\n",
       "      <th>24</th>\n",
       "      <td>ΕΞΜΠ-0543368</td>\n",
       "      <td>31.09.12</td>\n",
       "      <td>31.090</td>\n",
       "      <td>Κατασκευή ξύλινων επίπλων που χρησιμοποιούνται...</td>\n",
       "      <td>NAI</td>\n",
       "      <td>NAI</td>\n",
       "    </tr>\n",
       "    <tr>\n",
       "      <th>25</th>\n",
       "      <td>ΕΞΜΠ-0543368</td>\n",
       "      <td>31.09.13</td>\n",
       "      <td>31.090</td>\n",
       "      <td>Κατασκευή ξύλινων επίπλων π.δ.κ.α.</td>\n",
       "      <td>OXI</td>\n",
       "      <td>NAI</td>\n",
       "    </tr>\n",
       "    <tr>\n",
       "      <th>26</th>\n",
       "      <td>ΕΞΜΠ-0543368</td>\n",
       "      <td>31.09.92.01</td>\n",
       "      <td>31.090</td>\n",
       "      <td>Υπηρεσίες αποκατάστασης και ανακαίνισης επίπλων</td>\n",
       "      <td>OXI</td>\n",
       "      <td>NAI</td>\n",
       "    </tr>\n",
       "    <tr>\n",
       "      <th>41</th>\n",
       "      <td>ΕΞΜΠ-0543374</td>\n",
       "      <td>25.62.1</td>\n",
       "      <td>25.620</td>\n",
       "      <td>Υπηρεσίες τόρνευσης μεταλλικών μερών</td>\n",
       "      <td>OXI</td>\n",
       "      <td>NAI</td>\n",
       "    </tr>\n",
       "    <tr>\n",
       "      <th>42</th>\n",
       "      <td>ΕΞΜΠ-0543374</td>\n",
       "      <td>25.99</td>\n",
       "      <td>25.990</td>\n",
       "      <td>Κατασκευή άλλων μεταλλικών προϊόντων π.δ.κ.α.</td>\n",
       "      <td>OXI</td>\n",
       "      <td>NAI</td>\n",
       "    </tr>\n",
       "  </tbody>\n",
       "</table>\n",
       "</div>"
      ],
      "text/plain": [
       "    project_code nace_8_digits_code  nace_4_digits_code  \\\n",
       "0   ΕΞΜΠ-0543351           11.05.10              11.050   \n",
       "3   ΕΞΜΠ-0543354           25.62.10              25.620   \n",
       "4   ΕΞΜΠ-0543354           25.62.20              25.620   \n",
       "5   ΕΞΜΠ-0543354           28.11.41              28.110   \n",
       "23  ΕΞΜΠ-0543368           31.02.10              31.020   \n",
       "24  ΕΞΜΠ-0543368           31.09.12              31.090   \n",
       "25  ΕΞΜΠ-0543368           31.09.13              31.090   \n",
       "26  ΕΞΜΠ-0543368        31.09.92.01              31.090   \n",
       "41  ΕΞΜΠ-0543374            25.62.1              25.620   \n",
       "42  ΕΞΜΠ-0543374              25.99              25.990   \n",
       "\n",
       "                            description_nace_8_digits main_nace  \\\n",
       "0     Παραγωγή μπίρας, εκτός από κατάλοιπα ζυθοποιίας       NAI   \n",
       "3                Υπηρεσίες τόρνευσης μεταλλικών μερών       OXI   \n",
       "4                      Άλλες υπηρεσίες μεταλλοτεχνίας       OXI   \n",
       "5   Κατασκευή μερών κινητήρων εσωτερικής καύσης στ...       NAI   \n",
       "23                         Κατασκευή επίπλων κουζίνας       OXI   \n",
       "24  Κατασκευή ξύλινων επίπλων που χρησιμοποιούνται...       NAI   \n",
       "25                 Κατασκευή ξύλινων επίπλων π.δ.κ.α.       OXI   \n",
       "26    Υπηρεσίες αποκατάστασης και ανακαίνισης επίπλων       OXI   \n",
       "41               Υπηρεσίες τόρνευσης μεταλλικών μερών       OXI   \n",
       "42      Κατασκευή άλλων μεταλλικών προϊόντων π.δ.κ.α.       OXI   \n",
       "\n",
       "   investment_nace  \n",
       "0              NAI  \n",
       "3              NAI  \n",
       "4              NAI  \n",
       "5              NAI  \n",
       "23             NAI  \n",
       "24             NAI  \n",
       "25             NAI  \n",
       "26             NAI  \n",
       "41             NAI  \n",
       "42             NAI  "
      ]
     },
     "execution_count": 36,
     "metadata": {},
     "output_type": "execute_result"
    }
   ],
   "source": [
    "investment_sectors.head(10)"
   ]
  },
  {
   "cell_type": "markdown",
   "id": "deece2357609a69",
   "metadata": {},
   "source": [
    "The description corresponds to the 6 or 8 digit NACE codes."
   ]
  },
  {
   "cell_type": "markdown",
   "id": "c241d403a0c1796f",
   "metadata": {},
   "source": [
    "### 3.2 Merge MIS approved proposals data with sectors data"
   ]
  },
  {
   "cell_type": "code",
   "execution_count": 37,
   "id": "a71399f695ea9228",
   "metadata": {
    "ExecuteTime": {
     "end_time": "2024-12-12T13:00:56.427397Z",
     "start_time": "2024-12-12T13:00:56.423073Z"
    }
   },
   "outputs": [],
   "source": [
    "# merge proposals and sectors dataframes on 'Κωδικός Πρότασης'\n",
    "merged_sectors_df = pd.merge(df, investment_sectors, on=\"project_code\")"
   ]
  },
  {
   "cell_type": "code",
   "execution_count": 38,
   "id": "bde21e153358544c",
   "metadata": {
    "ExecuteTime": {
     "end_time": "2024-12-12T13:00:56.479403Z",
     "start_time": "2024-12-12T13:00:56.475819Z"
    }
   },
   "outputs": [
    {
     "data": {
      "text/plain": [
       "351"
      ]
     },
     "execution_count": 38,
     "metadata": {},
     "output_type": "execute_result"
    }
   ],
   "source": [
    "len(merged_sectors_df)  # in 6 digits NACE codes"
   ]
  },
  {
   "cell_type": "code",
   "execution_count": 39,
   "id": "19fd1d747ff92eb6",
   "metadata": {
    "ExecuteTime": {
     "end_time": "2024-12-12T13:00:56.516835Z",
     "start_time": "2024-12-12T13:00:56.513596Z"
    }
   },
   "outputs": [
    {
     "data": {
      "text/plain": [
       "151"
      ]
     },
     "execution_count": 39,
     "metadata": {},
     "output_type": "execute_result"
    }
   ],
   "source": [
    "merged_sectors_df[\"project_code\"].nunique()"
   ]
  },
  {
   "cell_type": "markdown",
   "id": "df68851f8ccc0866",
   "metadata": {},
   "source": [
    "#### Note: There are 351 sector rows for 151 projects. This is because many projects are investing in multiple sectors."
   ]
  },
  {
   "cell_type": "markdown",
   "id": "4726aaa158d648af",
   "metadata": {},
   "source": [
    "### 3.3 Convert NACE codes to two digits"
   ]
  },
  {
   "cell_type": "code",
   "execution_count": 40,
   "id": "10ebfcc64479f930",
   "metadata": {
    "ExecuteTime": {
     "end_time": "2024-12-12T13:00:56.575934Z",
     "start_time": "2024-12-12T13:00:56.572443Z"
    }
   },
   "outputs": [
    {
     "data": {
      "text/plain": [
       "[np.float64(10.13),\n",
       " np.float64(10.31),\n",
       " np.float64(10.39),\n",
       " np.float64(10.41),\n",
       " np.float64(10.51)]"
      ]
     },
     "execution_count": 40,
     "metadata": {},
     "output_type": "execute_result"
    }
   ],
   "source": [
    "# test if there are codes below 10, that might miss the first zero\n",
    "sorted(merged_sectors_df[\"nace_4_digits_code\"].unique())[:5]"
   ]
  },
  {
   "cell_type": "code",
   "execution_count": 41,
   "id": "24688babe25b7684",
   "metadata": {
    "ExecuteTime": {
     "end_time": "2024-12-12T13:00:56.622486Z",
     "start_time": "2024-12-12T13:00:56.619369Z"
    }
   },
   "outputs": [],
   "source": [
    "# convert nace_4_digits and nace_8_digits to string. TODO: Do it in one line.\n",
    "merged_sectors_df[\"nace_4_digits_code\"] = merged_sectors_df[\"nace_4_digits_code\"].apply(str)\n",
    "merged_sectors_df[\"nace_8_digits_code\"] = merged_sectors_df[\"nace_8_digits_code\"].apply(str)"
   ]
  },
  {
   "cell_type": "code",
   "execution_count": 42,
   "id": "86f9e3a193c8b252",
   "metadata": {
    "ExecuteTime": {
     "end_time": "2024-12-12T13:00:56.646535Z",
     "start_time": "2024-12-12T13:00:56.643297Z"
    }
   },
   "outputs": [],
   "source": [
    "# get first two digits of the nace_4_digits code and save it in a new column\n",
    "merged_sectors_df[\"nace_2_digits_code\"] = merged_sectors_df[\"nace_4_digits_code\"].apply(\n",
    "    lambda x: x[:2]\n",
    ")"
   ]
  },
  {
   "cell_type": "code",
   "execution_count": 43,
   "id": "6fc3aac150108e8a",
   "metadata": {
    "ExecuteTime": {
     "end_time": "2024-12-12T13:00:56.672110Z",
     "start_time": "2024-12-12T13:00:56.668676Z"
    }
   },
   "outputs": [
    {
     "data": {
      "text/plain": [
       "array(['NAI'], dtype=object)"
      ]
     },
     "execution_count": 43,
     "metadata": {},
     "output_type": "execute_result"
    }
   ],
   "source": [
    "# data validation test\n",
    "merged_sectors_df.investment_nace.unique()"
   ]
  },
  {
   "cell_type": "code",
   "execution_count": 44,
   "id": "8f5e0c0f55c33607",
   "metadata": {
    "ExecuteTime": {
     "end_time": "2024-12-12T13:00:56.698584Z",
     "start_time": "2024-12-12T13:00:56.695577Z"
    }
   },
   "outputs": [
    {
     "data": {
      "text/plain": [
       "Index(['project_code', 'size', 'status', 'region', 'regional_unit',\n",
       "       'investment_budget', 'eligible_budget', 'public_funding',\n",
       "       'nace_8_digits_code', 'nace_4_digits_code', 'description_nace_8_digits',\n",
       "       'main_nace', 'investment_nace', 'nace_2_digits_code'],\n",
       "      dtype='object')"
      ]
     },
     "execution_count": 44,
     "metadata": {},
     "output_type": "execute_result"
    }
   ],
   "source": [
    "merged_sectors_df.columns"
   ]
  },
  {
   "cell_type": "code",
   "execution_count": 45,
   "id": "dd7f45138286abed",
   "metadata": {
    "ExecuteTime": {
     "end_time": "2024-12-12T13:00:56.723708Z",
     "start_time": "2024-12-12T13:00:56.720907Z"
    }
   },
   "outputs": [],
   "source": [
    "# keep necessary columns for two digit sectoral analysis\n",
    "large_sectors_df = merged_sectors_df[\n",
    "    [\n",
    "        \"project_code\",\n",
    "        \"size\",\n",
    "        \"status\",\n",
    "        \"region\",\n",
    "        \"investment_budget\",\n",
    "        \"public_funding\",\n",
    "        \"nace_2_digits_code\",\n",
    "    ]\n",
    "]"
   ]
  },
  {
   "cell_type": "code",
   "execution_count": 46,
   "id": "560de19fc8e806ca",
   "metadata": {
    "ExecuteTime": {
     "end_time": "2024-12-12T13:00:56.754576Z",
     "start_time": "2024-12-12T13:00:56.748851Z"
    }
   },
   "outputs": [
    {
     "data": {
      "text/html": [
       "<div>\n",
       "<style scoped>\n",
       "    .dataframe tbody tr th:only-of-type {\n",
       "        vertical-align: middle;\n",
       "    }\n",
       "\n",
       "    .dataframe tbody tr th {\n",
       "        vertical-align: top;\n",
       "    }\n",
       "\n",
       "    .dataframe thead th {\n",
       "        text-align: right;\n",
       "    }\n",
       "</style>\n",
       "<table border=\"1\" class=\"dataframe\">\n",
       "  <thead>\n",
       "    <tr style=\"text-align: right;\">\n",
       "      <th></th>\n",
       "      <th>project_code</th>\n",
       "      <th>size</th>\n",
       "      <th>status</th>\n",
       "      <th>region</th>\n",
       "      <th>investment_budget</th>\n",
       "      <th>public_funding</th>\n",
       "      <th>nace_2_digits_code</th>\n",
       "    </tr>\n",
       "  </thead>\n",
       "  <tbody>\n",
       "    <tr>\n",
       "      <th>0</th>\n",
       "      <td>ΕΞΜΠ-0543351</td>\n",
       "      <td>Μικρή</td>\n",
       "      <td>Υφιστάμενη Επιχείρηση</td>\n",
       "      <td>Ιονίων Νήσων</td>\n",
       "      <td>482832.000</td>\n",
       "      <td>260504.280</td>\n",
       "      <td>11</td>\n",
       "    </tr>\n",
       "    <tr>\n",
       "      <th>1</th>\n",
       "      <td>ΕΞΜΠ-0543354</td>\n",
       "      <td>Μεσαία</td>\n",
       "      <td>Υφιστάμενη Επιχείρηση</td>\n",
       "      <td>Αττικής</td>\n",
       "      <td>729388.060</td>\n",
       "      <td>255285.820</td>\n",
       "      <td>25</td>\n",
       "    </tr>\n",
       "  </tbody>\n",
       "</table>\n",
       "</div>"
      ],
      "text/plain": [
       "   project_code    size                 status        region  \\\n",
       "0  ΕΞΜΠ-0543351   Μικρή  Υφιστάμενη Επιχείρηση  Ιονίων Νήσων   \n",
       "1  ΕΞΜΠ-0543354  Μεσαία  Υφιστάμενη Επιχείρηση       Αττικής   \n",
       "\n",
       "   investment_budget  public_funding nace_2_digits_code  \n",
       "0         482832.000      260504.280                 11  \n",
       "1         729388.060      255285.820                 25  "
      ]
     },
     "execution_count": 46,
     "metadata": {},
     "output_type": "execute_result"
    }
   ],
   "source": [
    "large_sectors_df.head(2)"
   ]
  },
  {
   "cell_type": "code",
   "execution_count": 47,
   "id": "c0d9b4b5269dc199",
   "metadata": {
    "ExecuteTime": {
     "end_time": "2024-12-12T13:00:56.799230Z",
     "start_time": "2024-12-12T13:00:56.796894Z"
    }
   },
   "outputs": [
    {
     "data": {
      "text/plain": [
       "24"
      ]
     },
     "execution_count": 47,
     "metadata": {},
     "output_type": "execute_result"
    }
   ],
   "source": [
    "# Number of sectors\n",
    "large_sectors_df[\"nace_2_digits_code\"].nunique()"
   ]
  },
  {
   "cell_type": "markdown",
   "id": "7f70f7179aaf11bb",
   "metadata": {},
   "source": [
    "\n",
    "### 3.4 Add two digits sector descriptions"
   ]
  },
  {
   "cell_type": "code",
   "execution_count": 48,
   "id": "42d077b621530278",
   "metadata": {
    "ExecuteTime": {
     "end_time": "2024-12-12T13:00:56.845289Z",
     "start_time": "2024-12-12T13:00:56.842762Z"
    }
   },
   "outputs": [],
   "source": [
    "# Use the NACE codes dictionary to get the sector descriptions\n",
    "nace_codes_elstat_file = \"../data/EconActiv_nace_2_gr.xls\""
   ]
  },
  {
   "cell_type": "code",
   "execution_count": 49,
   "id": "9369524df6f0fc7b",
   "metadata": {
    "ExecuteTime": {
     "end_time": "2024-12-12T13:00:56.898041Z",
     "start_time": "2024-12-12T13:00:56.881690Z"
    }
   },
   "outputs": [],
   "source": [
    "# Use custom function\n",
    "nace_2_digits_descriptions = parse_nace_codes(nace_codes_elstat_file)"
   ]
  },
  {
   "cell_type": "code",
   "execution_count": 50,
   "id": "de6b146fd8fee9b7",
   "metadata": {
    "ExecuteTime": {
     "end_time": "2024-12-12T13:00:56.960630Z",
     "start_time": "2024-12-12T13:00:56.958019Z"
    }
   },
   "outputs": [],
   "source": [
    "large_sectors_df = large_sectors_df.assign(\n",
    "    nace_2_digits_description=large_sectors_df[\"nace_2_digits_code\"].map(\n",
    "        nace_2_digits_descriptions\n",
    "    )\n",
    ")"
   ]
  },
  {
   "cell_type": "code",
   "execution_count": 51,
   "id": "6be5f38f92c12dab",
   "metadata": {
    "ExecuteTime": {
     "end_time": "2024-12-12T13:00:57.011737Z",
     "start_time": "2024-12-12T13:00:57.004870Z"
    }
   },
   "outputs": [
    {
     "data": {
      "text/html": [
       "<div>\n",
       "<style scoped>\n",
       "    .dataframe tbody tr th:only-of-type {\n",
       "        vertical-align: middle;\n",
       "    }\n",
       "\n",
       "    .dataframe tbody tr th {\n",
       "        vertical-align: top;\n",
       "    }\n",
       "\n",
       "    .dataframe thead th {\n",
       "        text-align: right;\n",
       "    }\n",
       "</style>\n",
       "<table border=\"1\" class=\"dataframe\">\n",
       "  <thead>\n",
       "    <tr style=\"text-align: right;\">\n",
       "      <th></th>\n",
       "      <th>project_code</th>\n",
       "      <th>size</th>\n",
       "      <th>status</th>\n",
       "      <th>region</th>\n",
       "      <th>investment_budget</th>\n",
       "      <th>public_funding</th>\n",
       "      <th>nace_2_digits_code</th>\n",
       "      <th>nace_2_digits_description</th>\n",
       "    </tr>\n",
       "  </thead>\n",
       "  <tbody>\n",
       "    <tr>\n",
       "      <th>0</th>\n",
       "      <td>ΕΞΜΠ-0543351</td>\n",
       "      <td>Μικρή</td>\n",
       "      <td>Υφιστάμενη Επιχείρηση</td>\n",
       "      <td>Ιονίων Νήσων</td>\n",
       "      <td>482832.000</td>\n",
       "      <td>260504.280</td>\n",
       "      <td>11</td>\n",
       "      <td>Ποτοποιία</td>\n",
       "    </tr>\n",
       "    <tr>\n",
       "      <th>1</th>\n",
       "      <td>ΕΞΜΠ-0543354</td>\n",
       "      <td>Μεσαία</td>\n",
       "      <td>Υφιστάμενη Επιχείρηση</td>\n",
       "      <td>Αττικής</td>\n",
       "      <td>729388.060</td>\n",
       "      <td>255285.820</td>\n",
       "      <td>25</td>\n",
       "      <td>Κατασκευή μεταλλικών προϊόντων, με εξαίρεση τα...</td>\n",
       "    </tr>\n",
       "  </tbody>\n",
       "</table>\n",
       "</div>"
      ],
      "text/plain": [
       "   project_code    size                 status        region  \\\n",
       "0  ΕΞΜΠ-0543351   Μικρή  Υφιστάμενη Επιχείρηση  Ιονίων Νήσων   \n",
       "1  ΕΞΜΠ-0543354  Μεσαία  Υφιστάμενη Επιχείρηση       Αττικής   \n",
       "\n",
       "   investment_budget  public_funding nace_2_digits_code  \\\n",
       "0         482832.000      260504.280                 11   \n",
       "1         729388.060      255285.820                 25   \n",
       "\n",
       "                           nace_2_digits_description  \n",
       "0                                          Ποτοποιία  \n",
       "1  Κατασκευή μεταλλικών προϊόντων, με εξαίρεση τα...  "
      ]
     },
     "execution_count": 51,
     "metadata": {},
     "output_type": "execute_result"
    }
   ],
   "source": [
    "large_sectors_df.head(2)"
   ]
  },
  {
   "cell_type": "markdown",
   "id": "9921eecd1c559f42",
   "metadata": {},
   "source": [
    "### 3.5 Add letters for General sector description"
   ]
  },
  {
   "cell_type": "code",
   "execution_count": 52,
   "id": "afe7003e62e195a6",
   "metadata": {
    "ExecuteTime": {
     "end_time": "2024-12-12T13:00:57.056357Z",
     "start_time": "2024-12-12T13:00:57.053876Z"
    }
   },
   "outputs": [],
   "source": [
    "# Groupes sectors by general sector description\n",
    "general_sectors = {\n",
    "    \"C: Manufacturing\": list(range(10, 34)),\n",
    "    \"E: Water supply, sewerage, waste management and remediation\": list(range(36, 40)),\n",
    "    \"H: Transportation and Storage\": list(range(49, 54)),\n",
    "    \"M: Legal, accounting, management, architecture, engineering, technical testing and analysis activities\": list(\n",
    "        range(69, 72)\n",
    "    ),\n",
    "    \"N: Administrative and support service activities\": list(range(77, 83)),\n",
    "}\n",
    "\n",
    "\n",
    "# Function to map the two-digit codes to the general sector descriptions\n",
    "def map_classification(nace_code):\n",
    "    for sector, codes in general_sectors.items():\n",
    "        if int(nace_code) in codes:\n",
    "            return sector\n",
    "    return \"Other\""
   ]
  },
  {
   "cell_type": "code",
   "execution_count": 53,
   "id": "b81d73ec10374b4c",
   "metadata": {
    "ExecuteTime": {
     "end_time": "2024-12-12T13:00:57.106136Z",
     "start_time": "2024-12-12T13:00:57.102500Z"
    }
   },
   "outputs": [],
   "source": [
    "# Apply the function to create a new column in totals_df\n",
    "large_sectors_df[\"sector\"] = large_sectors_df[\"nace_2_digits_code\"].apply(map_classification)"
   ]
  },
  {
   "cell_type": "code",
   "execution_count": 54,
   "id": "e36eae7467f8c6fd",
   "metadata": {
    "ExecuteTime": {
     "end_time": "2024-12-12T13:00:57.162313Z",
     "start_time": "2024-12-12T13:00:57.155478Z"
    }
   },
   "outputs": [
    {
     "data": {
      "text/html": [
       "<div>\n",
       "<style scoped>\n",
       "    .dataframe tbody tr th:only-of-type {\n",
       "        vertical-align: middle;\n",
       "    }\n",
       "\n",
       "    .dataframe tbody tr th {\n",
       "        vertical-align: top;\n",
       "    }\n",
       "\n",
       "    .dataframe thead th {\n",
       "        text-align: right;\n",
       "    }\n",
       "</style>\n",
       "<table border=\"1\" class=\"dataframe\">\n",
       "  <thead>\n",
       "    <tr style=\"text-align: right;\">\n",
       "      <th></th>\n",
       "      <th>project_code</th>\n",
       "      <th>size</th>\n",
       "      <th>status</th>\n",
       "      <th>region</th>\n",
       "      <th>investment_budget</th>\n",
       "      <th>public_funding</th>\n",
       "      <th>nace_2_digits_code</th>\n",
       "      <th>nace_2_digits_description</th>\n",
       "      <th>sector</th>\n",
       "    </tr>\n",
       "  </thead>\n",
       "  <tbody>\n",
       "    <tr>\n",
       "      <th>0</th>\n",
       "      <td>ΕΞΜΠ-0543351</td>\n",
       "      <td>Μικρή</td>\n",
       "      <td>Υφιστάμενη Επιχείρηση</td>\n",
       "      <td>Ιονίων Νήσων</td>\n",
       "      <td>482832.000</td>\n",
       "      <td>260504.280</td>\n",
       "      <td>11</td>\n",
       "      <td>Ποτοποιία</td>\n",
       "      <td>C: Manufacturing</td>\n",
       "    </tr>\n",
       "    <tr>\n",
       "      <th>1</th>\n",
       "      <td>ΕΞΜΠ-0543354</td>\n",
       "      <td>Μεσαία</td>\n",
       "      <td>Υφιστάμενη Επιχείρηση</td>\n",
       "      <td>Αττικής</td>\n",
       "      <td>729388.060</td>\n",
       "      <td>255285.820</td>\n",
       "      <td>25</td>\n",
       "      <td>Κατασκευή μεταλλικών προϊόντων, με εξαίρεση τα...</td>\n",
       "      <td>C: Manufacturing</td>\n",
       "    </tr>\n",
       "    <tr>\n",
       "      <th>2</th>\n",
       "      <td>ΕΞΜΠ-0543354</td>\n",
       "      <td>Μεσαία</td>\n",
       "      <td>Υφιστάμενη Επιχείρηση</td>\n",
       "      <td>Αττικής</td>\n",
       "      <td>729388.060</td>\n",
       "      <td>255285.820</td>\n",
       "      <td>25</td>\n",
       "      <td>Κατασκευή μεταλλικών προϊόντων, με εξαίρεση τα...</td>\n",
       "      <td>C: Manufacturing</td>\n",
       "    </tr>\n",
       "    <tr>\n",
       "      <th>3</th>\n",
       "      <td>ΕΞΜΠ-0543354</td>\n",
       "      <td>Μεσαία</td>\n",
       "      <td>Υφιστάμενη Επιχείρηση</td>\n",
       "      <td>Αττικής</td>\n",
       "      <td>729388.060</td>\n",
       "      <td>255285.820</td>\n",
       "      <td>28</td>\n",
       "      <td>Κατασκευή μηχανημάτων και ειδών εξοπλισμού π.δ...</td>\n",
       "      <td>C: Manufacturing</td>\n",
       "    </tr>\n",
       "    <tr>\n",
       "      <th>4</th>\n",
       "      <td>ΕΞΜΠ-0543368</td>\n",
       "      <td>Πολύ Μικρή</td>\n",
       "      <td>Υφιστάμενη Επιχείρηση</td>\n",
       "      <td>Κεντρικής Μακεδονίας</td>\n",
       "      <td>359000.000</td>\n",
       "      <td>251300.000</td>\n",
       "      <td>31</td>\n",
       "      <td>Κατασκευή επίπλων</td>\n",
       "      <td>C: Manufacturing</td>\n",
       "    </tr>\n",
       "  </tbody>\n",
       "</table>\n",
       "</div>"
      ],
      "text/plain": [
       "   project_code        size                 status                region  \\\n",
       "0  ΕΞΜΠ-0543351       Μικρή  Υφιστάμενη Επιχείρηση          Ιονίων Νήσων   \n",
       "1  ΕΞΜΠ-0543354      Μεσαία  Υφιστάμενη Επιχείρηση               Αττικής   \n",
       "2  ΕΞΜΠ-0543354      Μεσαία  Υφιστάμενη Επιχείρηση               Αττικής   \n",
       "3  ΕΞΜΠ-0543354      Μεσαία  Υφιστάμενη Επιχείρηση               Αττικής   \n",
       "4  ΕΞΜΠ-0543368  Πολύ Μικρή  Υφιστάμενη Επιχείρηση  Κεντρικής Μακεδονίας   \n",
       "\n",
       "   investment_budget  public_funding nace_2_digits_code  \\\n",
       "0         482832.000      260504.280                 11   \n",
       "1         729388.060      255285.820                 25   \n",
       "2         729388.060      255285.820                 25   \n",
       "3         729388.060      255285.820                 28   \n",
       "4         359000.000      251300.000                 31   \n",
       "\n",
       "                           nace_2_digits_description            sector  \n",
       "0                                          Ποτοποιία  C: Manufacturing  \n",
       "1  Κατασκευή μεταλλικών προϊόντων, με εξαίρεση τα...  C: Manufacturing  \n",
       "2  Κατασκευή μεταλλικών προϊόντων, με εξαίρεση τα...  C: Manufacturing  \n",
       "3  Κατασκευή μηχανημάτων και ειδών εξοπλισμού π.δ...  C: Manufacturing  \n",
       "4                                  Κατασκευή επίπλων  C: Manufacturing  "
      ]
     },
     "execution_count": 54,
     "metadata": {},
     "output_type": "execute_result"
    }
   ],
   "source": [
    "large_sectors_df.head(5)"
   ]
  },
  {
   "cell_type": "code",
   "execution_count": 55,
   "id": "e2635c1fa7c1f3c2",
   "metadata": {
    "ExecuteTime": {
     "end_time": "2024-12-12T13:00:57.222932Z",
     "start_time": "2024-12-12T13:00:57.218676Z"
    }
   },
   "outputs": [],
   "source": [
    "# split sector column to two columns. One for the sector letter and one for the sector description\n",
    "large_sectors_df[\"sector_code\"] = large_sectors_df[\"sector\"].str.split(\":\").str[0]\n",
    "large_sectors_df[\"sector_description\"] = (\n",
    "    large_sectors_df[\"sector\"].str.split(\":\").str[1]\n",
    ")\n",
    "# drop sector column\n",
    "large_sectors_df = large_sectors_df.drop(columns=[\"sector\"])"
   ]
  },
  {
   "cell_type": "code",
   "execution_count": 56,
   "id": "85fd8be1fff7ece5",
   "metadata": {
    "ExecuteTime": {
     "end_time": "2024-12-12T13:00:57.263952Z",
     "start_time": "2024-12-12T13:00:57.261359Z"
    }
   },
   "outputs": [],
   "source": [
    "# Replace unique values with new project_id values starting from p_1 to p{len(df)}\n",
    "# Dictionary to map old project codes to new project IDs\n",
    "project_id_mapping = {\n",
    "    old_code: f\"p_{i+1}\"\n",
    "    for i, old_code in enumerate(large_sectors_df[\"project_code\"].unique())\n",
    "}"
   ]
  },
  {
   "cell_type": "code",
   "execution_count": 57,
   "id": "5106fe6baf6f8b51",
   "metadata": {
    "ExecuteTime": {
     "end_time": "2024-12-12T13:00:57.304180Z",
     "start_time": "2024-12-12T13:00:57.300695Z"
    }
   },
   "outputs": [],
   "source": [
    "# Replace old project codes with new project IDs\n",
    "large_sectors_df[\"project_code\"] = large_sectors_df[\"project_code\"].map(\n",
    "    project_id_mapping\n",
    ")"
   ]
  },
  {
   "cell_type": "code",
   "execution_count": 58,
   "id": "f587df48d90e362f",
   "metadata": {
    "ExecuteTime": {
     "end_time": "2024-12-12T13:00:57.383500Z",
     "start_time": "2024-12-12T13:00:57.380490Z"
    }
   },
   "outputs": [
    {
     "data": {
      "text/plain": [
       "151"
      ]
     },
     "execution_count": 58,
     "metadata": {},
     "output_type": "execute_result"
    }
   ],
   "source": [
    "large_sectors_df.project_code.nunique()"
   ]
  },
  {
   "cell_type": "markdown",
   "id": "cf0169e2a09c9bac",
   "metadata": {},
   "source": [
    "### 3.6 Translate all column values to English"
   ]
  },
  {
   "cell_type": "code",
   "execution_count": 59,
   "id": "f66d875251e55501",
   "metadata": {
    "ExecuteTime": {
     "end_time": "2024-12-12T13:00:57.430061Z",
     "start_time": "2024-12-12T13:00:57.427040Z"
    }
   },
   "outputs": [],
   "source": [
    "df = large_sectors_df.copy()"
   ]
  },
  {
   "cell_type": "code",
   "execution_count": 60,
   "id": "96bc4cf96c8854e7",
   "metadata": {
    "ExecuteTime": {
     "end_time": "2024-12-12T13:00:57.460241Z",
     "start_time": "2024-12-12T13:00:57.456720Z"
    }
   },
   "outputs": [
    {
     "data": {
      "text/plain": [
       "array(['Ποτοποιία',\n",
       "       'Κατασκευή μεταλλικών προϊόντων, με εξαίρεση τα μηχανήματα και τα είδη εξοπλισμού',\n",
       "       'Κατασκευή μηχανημάτων και ειδών εξοπλισμού π.δ.κ.α.',\n",
       "       'Κατασκευή επίπλων',\n",
       "       'Επισκευή και εγκατάσταση μηχανημάτων και εξοπλισμού',\n",
       "       'Συλλογή, επεξεργασία και διάθεση αποβλήτων? ανάκτηση υλικών',\n",
       "       'Βιομηχανία τροφίμων', 'Παραγωγή χημικών ουσιών και προϊόντων',\n",
       "       'Κατασκευή ειδών ένδυσης',\n",
       "       'Εκτυπώσεις και αναπαραγωγή προεγγεγραμμένων μέσων',\n",
       "       'Παραγωγή κλωστοϋφαντουργικών υλών',\n",
       "       'Άλλες μεταποιητικές δραστηριότητες',\n",
       "       'Κατασκευή προϊόντων από ελαστικό (καουτσούκ) και πλαστικές ύλες',\n",
       "       'Αρχιτεκτονικές δραστηριότητες και δραστηριότητες μηχανικών? τεχνικές δοκιμές και αναλύσεις',\n",
       "       'Χαρτοποιία και κατασκευή χάρτινων προϊόντων',\n",
       "       'Αποθήκευση και υποστηρικτικές προς τη μεταφορά δραστηριότητες',\n",
       "       'Βιομηχανία ξύλου και κατασκευή προϊόντων από ξύλο και φελλό, εκτός από έπιπλα? κατασκευή ειδών καλαθοποιίας και σπαρτοπλεκτικής',\n",
       "       'Κατασκευή ηλεκτρολογικού εξοπλισμού',\n",
       "       'Κατασκευή ηλεκτρονικών υπολογιστών, ηλεκτρονικών και οπτικών προϊόντων',\n",
       "       'Παραγωγή άλλων μη μεταλλικών ορυκτών προϊόντων',\n",
       "       'Κατασκευή μηχανοκίνητων οχημάτων, ρυμουλκούμενων και ημιρυμουλκούμενων οχημάτων',\n",
       "       'Παραγωγή βασικών μετάλλων',\n",
       "       'Διοικητικές δραστηριότητες γραφείου, γραμματειακή υποστήριξη και άλλες δραστηριότητες παροχής υποστήριξης προς τις επιχειρήσεις',\n",
       "       'Παραγωγή βασικών φαρμακευτικών προϊόντων και φαρμακευτικών σκευασμάτων'],\n",
       "      dtype=object)"
      ]
     },
     "execution_count": 60,
     "metadata": {},
     "output_type": "execute_result"
    }
   ],
   "source": [
    "df.nace_2_digits_description.unique()"
   ]
  },
  {
   "cell_type": "code",
   "execution_count": 61,
   "id": "f96607567667d95a",
   "metadata": {
    "ExecuteTime": {
     "end_time": "2024-12-12T13:00:57.488675Z",
     "start_time": "2024-12-12T13:00:57.485738Z"
    }
   },
   "outputs": [
    {
     "data": {
      "text/plain": [
       "24"
      ]
     },
     "execution_count": 61,
     "metadata": {},
     "output_type": "execute_result"
    }
   ],
   "source": [
    "df.nace_2_digits_description.nunique()"
   ]
  },
  {
   "cell_type": "code",
   "execution_count": 62,
   "id": "21d39bd7ad250a4b",
   "metadata": {
    "ExecuteTime": {
     "end_time": "2024-12-12T13:00:57.520142Z",
     "start_time": "2024-12-12T13:00:57.514813Z"
    }
   },
   "outputs": [
    {
     "data": {
      "text/plain": [
       "{'10': 'Manufacture of food products',\n",
       " '11': 'Manufacture of beverages',\n",
       " '13': 'Manufacture of textiles',\n",
       " '14': 'Manufacture of wearing apparel',\n",
       " '16': 'Manufacture of wood and of products of wood and cork, except furniture; manufacture of articles of straw and plaiting materials',\n",
       " '17': 'Manufacture of paper and paper products',\n",
       " '18': 'Printing and reproduction of recorded media',\n",
       " '20': 'Manufacture of chemicals and chemical products',\n",
       " '21': 'Manufacture of basic pharmaceutical products and pharmaceutical preparations',\n",
       " '22': 'Manufacture of rubber and plastic products',\n",
       " '23': 'Manufacture of other non-metallic mineral products',\n",
       " '24': 'Manufacture of basic metals',\n",
       " '25': 'Manufacture of fabricated metal products, except machinery and equipment',\n",
       " '26': 'Manufacture of computer, electronic and optical products',\n",
       " '27': 'Manufacture of electrical equipment',\n",
       " '28': 'Manufacture of machinery and equipment n.e.c.',\n",
       " '29': 'Manufacture of motor vehicles, trailers and semi-trailers',\n",
       " '31': 'Manufacture of furniture',\n",
       " '32': 'Other manufacturing',\n",
       " '33': 'Repair and installation of machinery and equipment',\n",
       " '38': 'Waste collection, treatment and disposal activities; materials recovery',\n",
       " '52': 'Warehousing and support activities for transportation',\n",
       " '71': 'Architectural and engineering activities; technical testing and analysis',\n",
       " '82': 'Office administrative, office support and other business support activities'}"
      ]
     },
     "execution_count": 62,
     "metadata": {},
     "output_type": "execute_result"
    }
   ],
   "source": [
    "# Get unique values from the 'nace_2_digits' column\n",
    "unique_nace_2_digits = df[\"nace_2_digits_code\"].unique()\n",
    "\n",
    "# Dictionary with all possible descriptions\n",
    "NACE_2_DIGITS_DESCRIPTIONS_EN = {\n",
    "    \"10\": \"Manufacture of food products\",\n",
    "    \"11\": \"Manufacture of beverages\",\n",
    "    \"12\": \"Manufacture of tobacco products\",\n",
    "    \"13\": \"Manufacture of textiles\",\n",
    "    \"14\": \"Manufacture of wearing apparel\",\n",
    "    \"15\": \"Manufacture of leather and related products\",\n",
    "    \"16\": \"Manufacture of wood and of products of wood and cork, except furniture; manufacture of articles of straw and plaiting materials\",\n",
    "    \"17\": \"Manufacture of paper and paper products\",\n",
    "    \"18\": \"Printing and reproduction of recorded media\",\n",
    "    \"19\": \"Manufacture of coke and refined petroleum products\",\n",
    "    \"20\": \"Manufacture of chemicals and chemical products\",\n",
    "    \"21\": \"Manufacture of basic pharmaceutical products and pharmaceutical preparations\",\n",
    "    \"22\": \"Manufacture of rubber and plastic products\",\n",
    "    \"23\": \"Manufacture of other non-metallic mineral products\",\n",
    "    \"24\": \"Manufacture of basic metals\",\n",
    "    \"25\": \"Manufacture of fabricated metal products, except machinery and equipment\",\n",
    "    \"26\": \"Manufacture of computer, electronic and optical products\",\n",
    "    \"27\": \"Manufacture of electrical equipment\",\n",
    "    \"28\": \"Manufacture of machinery and equipment n.e.c.\",\n",
    "    \"29\": \"Manufacture of motor vehicles, trailers and semi-trailers\",\n",
    "    \"30\": \"Manufacture of other transport equipment\",\n",
    "    \"31\": \"Manufacture of furniture\",\n",
    "    \"32\": \"Other manufacturing\",\n",
    "    \"33\": \"Repair and installation of machinery and equipment\",\n",
    "    \"36\": \"Water collection, treatment and supply\",\n",
    "    \"37\": \"Sewerage\",\n",
    "    \"38\": \"Waste collection, treatment and disposal activities; materials recovery\",\n",
    "    \"39\": \"Remediation activities and other waste management services\",\n",
    "    \"49\": \"Land transport and transport via pipelines\",\n",
    "    \"50\": \"Water transport\",\n",
    "    \"51\": \"Air transport\",\n",
    "    \"52\": \"Warehousing and support activities for transportation\",\n",
    "    \"53\": \"Postal and courier activities\",\n",
    "    \"69\": \"Legal and accounting activities\",\n",
    "    \"70\": \"Activities of head offices; management consultancy activities\",\n",
    "    \"71\": \"Architectural and engineering activities; technical testing and analysis\",\n",
    "    \"72\": \"Scientific research and development\",\n",
    "    \"77\": \"Rental and leasing activities\",\n",
    "    \"78\": \"Employment activities\",\n",
    "    \"79\": \"Travel agency, tour operator and other reservation service and related activities\",\n",
    "    \"80\": \"Security and investigation activities\",\n",
    "    \"81\": \"Services to buildings and landscape activities\",\n",
    "    \"82\": \"Office administrative, office support and other business support activities\",\n",
    "}\n",
    "\n",
    "# Filter dictionary with activities present in the data\n",
    "filtered_nace_2_digits_descriptions_en = {\n",
    "    k: v for k, v in NACE_2_DIGITS_DESCRIPTIONS_EN.items() if k in unique_nace_2_digits\n",
    "}\n",
    "filtered_nace_2_digits_descriptions_en"
   ]
  },
  {
   "cell_type": "code",
   "execution_count": 63,
   "id": "6a11616a3b87ac7",
   "metadata": {
    "ExecuteTime": {
     "end_time": "2024-12-12T13:00:57.548414Z",
     "start_time": "2024-12-12T13:00:57.545416Z"
    }
   },
   "outputs": [
    {
     "data": {
      "text/plain": [
       "24"
      ]
     },
     "execution_count": 63,
     "metadata": {},
     "output_type": "execute_result"
    }
   ],
   "source": [
    "# Test for N of unique values\n",
    "len(filtered_nace_2_digits_descriptions_en)"
   ]
  },
  {
   "cell_type": "code",
   "execution_count": 64,
   "id": "48ba5a0386981ee6",
   "metadata": {
    "ExecuteTime": {
     "end_time": "2024-12-12T13:00:57.575411Z",
     "start_time": "2024-12-12T13:00:57.573022Z"
    }
   },
   "outputs": [],
   "source": [
    "# Todo: test for mistranslations"
   ]
  },
  {
   "cell_type": "code",
   "execution_count": 65,
   "id": "9ecbeaf8e8a34116",
   "metadata": {
    "ExecuteTime": {
     "end_time": "2024-12-12T13:00:57.608405Z",
     "start_time": "2024-12-12T13:00:57.600642Z"
    }
   },
   "outputs": [
    {
     "data": {
      "text/html": [
       "<div>\n",
       "<style scoped>\n",
       "    .dataframe tbody tr th:only-of-type {\n",
       "        vertical-align: middle;\n",
       "    }\n",
       "\n",
       "    .dataframe tbody tr th {\n",
       "        vertical-align: top;\n",
       "    }\n",
       "\n",
       "    .dataframe thead th {\n",
       "        text-align: right;\n",
       "    }\n",
       "</style>\n",
       "<table border=\"1\" class=\"dataframe\">\n",
       "  <thead>\n",
       "    <tr style=\"text-align: right;\">\n",
       "      <th></th>\n",
       "      <th>project_code</th>\n",
       "      <th>size</th>\n",
       "      <th>status</th>\n",
       "      <th>region</th>\n",
       "      <th>investment_budget</th>\n",
       "      <th>public_funding</th>\n",
       "      <th>nace_2_digits_code</th>\n",
       "      <th>nace_2_digits_description</th>\n",
       "      <th>sector_code</th>\n",
       "      <th>sector_description</th>\n",
       "    </tr>\n",
       "  </thead>\n",
       "  <tbody>\n",
       "    <tr>\n",
       "      <th>0</th>\n",
       "      <td>p_1</td>\n",
       "      <td>Μικρή</td>\n",
       "      <td>Υφιστάμενη Επιχείρηση</td>\n",
       "      <td>Ιονίων Νήσων</td>\n",
       "      <td>482832.000</td>\n",
       "      <td>260504.280</td>\n",
       "      <td>11</td>\n",
       "      <td>Manufacture of beverages</td>\n",
       "      <td>C</td>\n",
       "      <td>Manufacturing</td>\n",
       "    </tr>\n",
       "    <tr>\n",
       "      <th>1</th>\n",
       "      <td>p_2</td>\n",
       "      <td>Μεσαία</td>\n",
       "      <td>Υφιστάμενη Επιχείρηση</td>\n",
       "      <td>Αττικής</td>\n",
       "      <td>729388.060</td>\n",
       "      <td>255285.820</td>\n",
       "      <td>25</td>\n",
       "      <td>Manufacture of fabricated metal products, exce...</td>\n",
       "      <td>C</td>\n",
       "      <td>Manufacturing</td>\n",
       "    </tr>\n",
       "    <tr>\n",
       "      <th>2</th>\n",
       "      <td>p_2</td>\n",
       "      <td>Μεσαία</td>\n",
       "      <td>Υφιστάμενη Επιχείρηση</td>\n",
       "      <td>Αττικής</td>\n",
       "      <td>729388.060</td>\n",
       "      <td>255285.820</td>\n",
       "      <td>25</td>\n",
       "      <td>Manufacture of fabricated metal products, exce...</td>\n",
       "      <td>C</td>\n",
       "      <td>Manufacturing</td>\n",
       "    </tr>\n",
       "    <tr>\n",
       "      <th>3</th>\n",
       "      <td>p_2</td>\n",
       "      <td>Μεσαία</td>\n",
       "      <td>Υφιστάμενη Επιχείρηση</td>\n",
       "      <td>Αττικής</td>\n",
       "      <td>729388.060</td>\n",
       "      <td>255285.820</td>\n",
       "      <td>28</td>\n",
       "      <td>Manufacture of machinery and equipment n.e.c.</td>\n",
       "      <td>C</td>\n",
       "      <td>Manufacturing</td>\n",
       "    </tr>\n",
       "    <tr>\n",
       "      <th>4</th>\n",
       "      <td>p_3</td>\n",
       "      <td>Πολύ Μικρή</td>\n",
       "      <td>Υφιστάμενη Επιχείρηση</td>\n",
       "      <td>Κεντρικής Μακεδονίας</td>\n",
       "      <td>359000.000</td>\n",
       "      <td>251300.000</td>\n",
       "      <td>31</td>\n",
       "      <td>Manufacture of furniture</td>\n",
       "      <td>C</td>\n",
       "      <td>Manufacturing</td>\n",
       "    </tr>\n",
       "  </tbody>\n",
       "</table>\n",
       "</div>"
      ],
      "text/plain": [
       "  project_code        size                 status                region  \\\n",
       "0          p_1       Μικρή  Υφιστάμενη Επιχείρηση          Ιονίων Νήσων   \n",
       "1          p_2      Μεσαία  Υφιστάμενη Επιχείρηση               Αττικής   \n",
       "2          p_2      Μεσαία  Υφιστάμενη Επιχείρηση               Αττικής   \n",
       "3          p_2      Μεσαία  Υφιστάμενη Επιχείρηση               Αττικής   \n",
       "4          p_3  Πολύ Μικρή  Υφιστάμενη Επιχείρηση  Κεντρικής Μακεδονίας   \n",
       "\n",
       "   investment_budget  public_funding nace_2_digits_code  \\\n",
       "0         482832.000      260504.280                 11   \n",
       "1         729388.060      255285.820                 25   \n",
       "2         729388.060      255285.820                 25   \n",
       "3         729388.060      255285.820                 28   \n",
       "4         359000.000      251300.000                 31   \n",
       "\n",
       "                           nace_2_digits_description sector_code  \\\n",
       "0                           Manufacture of beverages           C   \n",
       "1  Manufacture of fabricated metal products, exce...           C   \n",
       "2  Manufacture of fabricated metal products, exce...           C   \n",
       "3      Manufacture of machinery and equipment n.e.c.           C   \n",
       "4                           Manufacture of furniture           C   \n",
       "\n",
       "  sector_description  \n",
       "0      Manufacturing  \n",
       "1      Manufacturing  \n",
       "2      Manufacturing  \n",
       "3      Manufacturing  \n",
       "4      Manufacturing  "
      ]
     },
     "execution_count": 65,
     "metadata": {},
     "output_type": "execute_result"
    }
   ],
   "source": [
    "# Map existing values in the `nace_2_digits` column to English\n",
    "df[\"nace_2_digits_description\"] = df[\"nace_2_digits_code\"].replace(\n",
    "    filtered_nace_2_digits_descriptions_en\n",
    ")\n",
    "\n",
    "# Display the updated DataFrame\n",
    "df.head()"
   ]
  },
  {
   "cell_type": "code",
   "execution_count": 66,
   "id": "2faf7bbe658e8419",
   "metadata": {
    "ExecuteTime": {
     "end_time": "2024-12-12T13:00:57.654757Z",
     "start_time": "2024-12-12T13:00:57.652443Z"
    }
   },
   "outputs": [
    {
     "data": {
      "text/plain": [
       "array(['Μικρή', 'Μεσαία', 'Πολύ Μικρή'], dtype=object)"
      ]
     },
     "execution_count": 66,
     "metadata": {},
     "output_type": "execute_result"
    }
   ],
   "source": [
    "# Translate the 'size' column\n",
    "size_values = df[\"size\"].unique()\n",
    "size_values"
   ]
  },
  {
   "cell_type": "code",
   "execution_count": 67,
   "id": "6835022f23b3448f",
   "metadata": {
    "ExecuteTime": {
     "end_time": "2024-12-12T13:00:57.704801Z",
     "start_time": "2024-12-12T13:00:57.700875Z"
    }
   },
   "outputs": [],
   "source": [
    "# Use the size_values array as keys to create dictionary\n",
    "SIZE_TRANSLATIONS = {\n",
    "    \"Μικρή\": \"Small\",\n",
    "    \"Μεσαία\": \"Medium\",\n",
    "    \"Πολύ Μικρή\": \"Micro\",\n",
    "}\n",
    "\n",
    "# Map existing values in the `size` column to English\n",
    "# df['size'] = df['size'].map(SIZE_TRANSLATIONS)\n",
    "df[\"size\"] = df[\"size\"].replace(SIZE_TRANSLATIONS)"
   ]
  },
  {
   "cell_type": "code",
   "execution_count": 68,
   "id": "90415cc45a584215",
   "metadata": {
    "ExecuteTime": {
     "end_time": "2024-12-12T13:00:57.751776Z",
     "start_time": "2024-12-12T13:00:57.748844Z"
    }
   },
   "outputs": [
    {
     "data": {
      "text/plain": [
       "array(['Small', 'Medium', 'Micro'], dtype=object)"
      ]
     },
     "execution_count": 68,
     "metadata": {},
     "output_type": "execute_result"
    }
   ],
   "source": [
    "df[\"size\"].unique()"
   ]
  },
  {
   "cell_type": "code",
   "execution_count": 69,
   "id": "d9df4fb8cb0fb20d",
   "metadata": {
    "ExecuteTime": {
     "end_time": "2024-12-12T13:00:57.882203Z",
     "start_time": "2024-12-12T13:00:57.878119Z"
    }
   },
   "outputs": [
    {
     "data": {
      "text/plain": [
       "array(['Υφιστάμενη Επιχείρηση', 'Νέα Επιχείρηση'], dtype=object)"
      ]
     },
     "execution_count": 69,
     "metadata": {},
     "output_type": "execute_result"
    }
   ],
   "source": [
    "# Translate the 'status' column\n",
    "df[\"status\"].unique()"
   ]
  },
  {
   "cell_type": "code",
   "execution_count": 70,
   "id": "eae92ca797a232a5",
   "metadata": {
    "ExecuteTime": {
     "end_time": "2024-12-12T13:00:57.986911Z",
     "start_time": "2024-12-12T13:00:57.983830Z"
    }
   },
   "outputs": [],
   "source": [
    "INCORP_TRANSLATIONS = {\n",
    "    \"Υφιστάμενη Επιχείρηση\": \"Existing\",\n",
    "    \"Νέα Επιχείρηση\": \"New\",\n",
    "}\n",
    "\n",
    "# Map existing values in the `status` column to English\n",
    "df[\"status\"] = df[\"status\"].replace(INCORP_TRANSLATIONS)"
   ]
  },
  {
   "cell_type": "code",
   "execution_count": 71,
   "id": "94729babe3bf3c17",
   "metadata": {
    "ExecuteTime": {
     "end_time": "2024-12-12T13:00:58.014759Z",
     "start_time": "2024-12-12T13:00:58.011726Z"
    }
   },
   "outputs": [
    {
     "data": {
      "text/plain": [
       "array(['Ιονίων Νήσων', 'Αττικής', 'Κεντρικής Μακεδονίας', 'Θεσσαλίας',\n",
       "       'Κρήτης', 'Στερεάς Ελλάδας', 'Ηπείρου', 'Πελοποννήσου',\n",
       "       'Δυτικής Ελλάδας', 'Ανατολικής Μακεδονίας και Θράκης',\n",
       "       'Δυτικής Μακεδονίας', 'Νοτίου Αιγαίου', 'Βορείου Αιγαίου'],\n",
       "      dtype=object)"
      ]
     },
     "execution_count": 71,
     "metadata": {},
     "output_type": "execute_result"
    }
   ],
   "source": [
    "# Translate the 'region' column values\n",
    "df[\"region\"].unique()"
   ]
  },
  {
   "cell_type": "code",
   "execution_count": 72,
   "id": "899fc252b8caf5cd",
   "metadata": {
    "ExecuteTime": {
     "end_time": "2024-12-12T13:00:58.040428Z",
     "start_time": "2024-12-12T13:00:58.037494Z"
    }
   },
   "outputs": [],
   "source": [
    "# Replace existing values in the 'region' column to English\n",
    "df[\"region\"] = df[\"region\"].replace(MIS_REGIONS_TRANSLATIONS_GR_EN)"
   ]
  },
  {
   "cell_type": "code",
   "execution_count": 73,
   "id": "51468a3f46f6af08",
   "metadata": {
    "ExecuteTime": {
     "end_time": "2024-12-12T13:00:58.071379Z",
     "start_time": "2024-12-12T13:00:58.068300Z"
    }
   },
   "outputs": [
    {
     "data": {
      "text/plain": [
       "array(['Ionian Islands', 'Attica', 'Central Macedonia', 'Thessaly',\n",
       "       'Crete', 'Central Greece', 'Epirus', 'Peloponnese',\n",
       "       'Western Greece', 'Eastern Macedonia and Thrace',\n",
       "       'Western Macedonia', 'South Aegean', 'North Aegean'], dtype=object)"
      ]
     },
     "execution_count": 73,
     "metadata": {},
     "output_type": "execute_result"
    }
   ],
   "source": [
    "df[\"region\"].unique()"
   ]
  },
  {
   "cell_type": "code",
   "execution_count": 74,
   "id": "8cbe722cc17700c6",
   "metadata": {
    "ExecuteTime": {
     "end_time": "2024-12-12T13:00:58.103851Z",
     "start_time": "2024-12-12T13:00:58.097507Z"
    }
   },
   "outputs": [
    {
     "data": {
      "text/html": [
       "<div>\n",
       "<style scoped>\n",
       "    .dataframe tbody tr th:only-of-type {\n",
       "        vertical-align: middle;\n",
       "    }\n",
       "\n",
       "    .dataframe tbody tr th {\n",
       "        vertical-align: top;\n",
       "    }\n",
       "\n",
       "    .dataframe thead th {\n",
       "        text-align: right;\n",
       "    }\n",
       "</style>\n",
       "<table border=\"1\" class=\"dataframe\">\n",
       "  <thead>\n",
       "    <tr style=\"text-align: right;\">\n",
       "      <th></th>\n",
       "      <th>project_code</th>\n",
       "      <th>size</th>\n",
       "      <th>status</th>\n",
       "      <th>region</th>\n",
       "      <th>investment_budget</th>\n",
       "      <th>public_funding</th>\n",
       "      <th>nace_2_digits_code</th>\n",
       "      <th>nace_2_digits_description</th>\n",
       "      <th>sector_code</th>\n",
       "      <th>sector_description</th>\n",
       "    </tr>\n",
       "  </thead>\n",
       "  <tbody>\n",
       "    <tr>\n",
       "      <th>0</th>\n",
       "      <td>p_1</td>\n",
       "      <td>Small</td>\n",
       "      <td>Existing</td>\n",
       "      <td>Ionian Islands</td>\n",
       "      <td>482832.000</td>\n",
       "      <td>260504.280</td>\n",
       "      <td>11</td>\n",
       "      <td>Manufacture of beverages</td>\n",
       "      <td>C</td>\n",
       "      <td>Manufacturing</td>\n",
       "    </tr>\n",
       "    <tr>\n",
       "      <th>1</th>\n",
       "      <td>p_2</td>\n",
       "      <td>Medium</td>\n",
       "      <td>Existing</td>\n",
       "      <td>Attica</td>\n",
       "      <td>729388.060</td>\n",
       "      <td>255285.820</td>\n",
       "      <td>25</td>\n",
       "      <td>Manufacture of fabricated metal products, exce...</td>\n",
       "      <td>C</td>\n",
       "      <td>Manufacturing</td>\n",
       "    </tr>\n",
       "    <tr>\n",
       "      <th>2</th>\n",
       "      <td>p_2</td>\n",
       "      <td>Medium</td>\n",
       "      <td>Existing</td>\n",
       "      <td>Attica</td>\n",
       "      <td>729388.060</td>\n",
       "      <td>255285.820</td>\n",
       "      <td>25</td>\n",
       "      <td>Manufacture of fabricated metal products, exce...</td>\n",
       "      <td>C</td>\n",
       "      <td>Manufacturing</td>\n",
       "    </tr>\n",
       "  </tbody>\n",
       "</table>\n",
       "</div>"
      ],
      "text/plain": [
       "  project_code    size    status          region  investment_budget  \\\n",
       "0          p_1   Small  Existing  Ionian Islands         482832.000   \n",
       "1          p_2  Medium  Existing          Attica         729388.060   \n",
       "2          p_2  Medium  Existing          Attica         729388.060   \n",
       "\n",
       "   public_funding nace_2_digits_code  \\\n",
       "0      260504.280                 11   \n",
       "1      255285.820                 25   \n",
       "2      255285.820                 25   \n",
       "\n",
       "                           nace_2_digits_description sector_code  \\\n",
       "0                           Manufacture of beverages           C   \n",
       "1  Manufacture of fabricated metal products, exce...           C   \n",
       "2  Manufacture of fabricated metal products, exce...           C   \n",
       "\n",
       "  sector_description  \n",
       "0      Manufacturing  \n",
       "1      Manufacturing  \n",
       "2      Manufacturing  "
      ]
     },
     "execution_count": 74,
     "metadata": {},
     "output_type": "execute_result"
    }
   ],
   "source": [
    "df.head(3)"
   ]
  },
  {
   "cell_type": "markdown",
   "id": "1b7d170e55c3b75b",
   "metadata": {},
   "source": [
    "### 3.7 convert budget and funding values to millions and keep three decimal places"
   ]
  },
  {
   "cell_type": "code",
   "execution_count": 75,
   "id": "7c8bc49d36c2c214",
   "metadata": {
    "ExecuteTime": {
     "end_time": "2024-12-12T13:00:58.141632Z",
     "start_time": "2024-12-12T13:00:58.138736Z"
    }
   },
   "outputs": [],
   "source": [
    "df[\"investment_budget\"] = df[\"investment_budget\"] / 1_000_000\n",
    "df[\"public_funding\"] = df[\"public_funding\"] / 1_000_000"
   ]
  },
  {
   "cell_type": "code",
   "execution_count": 76,
   "id": "c7746ecf8d69794b",
   "metadata": {
    "ExecuteTime": {
     "end_time": "2024-12-12T13:00:58.199020Z",
     "start_time": "2024-12-12T13:00:58.191261Z"
    }
   },
   "outputs": [
    {
     "data": {
      "text/html": [
       "<div>\n",
       "<style scoped>\n",
       "    .dataframe tbody tr th:only-of-type {\n",
       "        vertical-align: middle;\n",
       "    }\n",
       "\n",
       "    .dataframe tbody tr th {\n",
       "        vertical-align: top;\n",
       "    }\n",
       "\n",
       "    .dataframe thead th {\n",
       "        text-align: right;\n",
       "    }\n",
       "</style>\n",
       "<table border=\"1\" class=\"dataframe\">\n",
       "  <thead>\n",
       "    <tr style=\"text-align: right;\">\n",
       "      <th></th>\n",
       "      <th>project_code</th>\n",
       "      <th>size</th>\n",
       "      <th>status</th>\n",
       "      <th>region</th>\n",
       "      <th>investment_budget</th>\n",
       "      <th>public_funding</th>\n",
       "      <th>nace_2_digits_code</th>\n",
       "      <th>nace_2_digits_description</th>\n",
       "      <th>sector_code</th>\n",
       "      <th>sector_description</th>\n",
       "    </tr>\n",
       "  </thead>\n",
       "  <tbody>\n",
       "    <tr>\n",
       "      <th>0</th>\n",
       "      <td>p_1</td>\n",
       "      <td>Small</td>\n",
       "      <td>Existing</td>\n",
       "      <td>Ionian Islands</td>\n",
       "      <td>0.483</td>\n",
       "      <td>0.261</td>\n",
       "      <td>11</td>\n",
       "      <td>Manufacture of beverages</td>\n",
       "      <td>C</td>\n",
       "      <td>Manufacturing</td>\n",
       "    </tr>\n",
       "    <tr>\n",
       "      <th>1</th>\n",
       "      <td>p_2</td>\n",
       "      <td>Medium</td>\n",
       "      <td>Existing</td>\n",
       "      <td>Attica</td>\n",
       "      <td>0.729</td>\n",
       "      <td>0.255</td>\n",
       "      <td>25</td>\n",
       "      <td>Manufacture of fabricated metal products, exce...</td>\n",
       "      <td>C</td>\n",
       "      <td>Manufacturing</td>\n",
       "    </tr>\n",
       "    <tr>\n",
       "      <th>2</th>\n",
       "      <td>p_2</td>\n",
       "      <td>Medium</td>\n",
       "      <td>Existing</td>\n",
       "      <td>Attica</td>\n",
       "      <td>0.729</td>\n",
       "      <td>0.255</td>\n",
       "      <td>25</td>\n",
       "      <td>Manufacture of fabricated metal products, exce...</td>\n",
       "      <td>C</td>\n",
       "      <td>Manufacturing</td>\n",
       "    </tr>\n",
       "    <tr>\n",
       "      <th>3</th>\n",
       "      <td>p_2</td>\n",
       "      <td>Medium</td>\n",
       "      <td>Existing</td>\n",
       "      <td>Attica</td>\n",
       "      <td>0.729</td>\n",
       "      <td>0.255</td>\n",
       "      <td>28</td>\n",
       "      <td>Manufacture of machinery and equipment n.e.c.</td>\n",
       "      <td>C</td>\n",
       "      <td>Manufacturing</td>\n",
       "    </tr>\n",
       "    <tr>\n",
       "      <th>4</th>\n",
       "      <td>p_3</td>\n",
       "      <td>Micro</td>\n",
       "      <td>Existing</td>\n",
       "      <td>Central Macedonia</td>\n",
       "      <td>0.359</td>\n",
       "      <td>0.251</td>\n",
       "      <td>31</td>\n",
       "      <td>Manufacture of furniture</td>\n",
       "      <td>C</td>\n",
       "      <td>Manufacturing</td>\n",
       "    </tr>\n",
       "  </tbody>\n",
       "</table>\n",
       "</div>"
      ],
      "text/plain": [
       "  project_code    size    status             region  investment_budget  \\\n",
       "0          p_1   Small  Existing     Ionian Islands              0.483   \n",
       "1          p_2  Medium  Existing             Attica              0.729   \n",
       "2          p_2  Medium  Existing             Attica              0.729   \n",
       "3          p_2  Medium  Existing             Attica              0.729   \n",
       "4          p_3   Micro  Existing  Central Macedonia              0.359   \n",
       "\n",
       "   public_funding nace_2_digits_code  \\\n",
       "0           0.261                 11   \n",
       "1           0.255                 25   \n",
       "2           0.255                 25   \n",
       "3           0.255                 28   \n",
       "4           0.251                 31   \n",
       "\n",
       "                           nace_2_digits_description sector_code  \\\n",
       "0                           Manufacture of beverages           C   \n",
       "1  Manufacture of fabricated metal products, exce...           C   \n",
       "2  Manufacture of fabricated metal products, exce...           C   \n",
       "3      Manufacture of machinery and equipment n.e.c.           C   \n",
       "4                           Manufacture of furniture           C   \n",
       "\n",
       "  sector_description  \n",
       "0      Manufacturing  \n",
       "1      Manufacturing  \n",
       "2      Manufacturing  \n",
       "3      Manufacturing  \n",
       "4      Manufacturing  "
      ]
     },
     "execution_count": 76,
     "metadata": {},
     "output_type": "execute_result"
    }
   ],
   "source": [
    "df.head()"
   ]
  },
  {
   "cell_type": "markdown",
   "id": "6ab32946cff6d089",
   "metadata": {},
   "source": [
    "### 3.8 Save data to csv to make it publicly available"
   ]
  },
  {
   "cell_type": "code",
   "execution_count": 77,
   "id": "4e354c7828cbbdf3",
   "metadata": {
    "ExecuteTime": {
     "end_time": "2024-12-12T13:00:58.272789Z",
     "start_time": "2024-12-12T13:00:58.266430Z"
    }
   },
   "outputs": [],
   "source": [
    "df.to_csv(\"../data/smrt_manuf_projects_two_digit_activity.csv\", index=False)"
   ]
  },
  {
   "cell_type": "markdown",
   "id": "e0af8fb88088a845",
   "metadata": {},
   "source": [
    "### 3.9 ToDos"
   ]
  },
  {
   "cell_type": "code",
   "execution_count": 78,
   "id": "a1e64362ec00a50",
   "metadata": {
    "ExecuteTime": {
     "end_time": "2024-12-12T13:00:58.321752Z",
     "start_time": "2024-12-12T13:00:58.319341Z"
    }
   },
   "outputs": [],
   "source": [
    "# Todo: Refactor translations process. a) Script to create dictionaries, dump to json, b) fuction to create english, french, greek data files. c) Translation function that takes a dictionary and a column name and laguages as input and output to return the translated column accordingly."
   ]
  },
  {
   "cell_type": "code",
   "execution_count": null,
   "id": "2785a8fb061d9c19",
   "metadata": {
    "ExecuteTime": {
     "end_time": "2024-12-12T13:00:58.367348Z",
     "start_time": "2024-12-12T13:00:58.365252Z"
    }
   },
   "outputs": [],
   "source": []
  }
 ],
 "metadata": {
  "kernelspec": {
   "display_name": "Python 3 (ipykernel)",
   "language": "python",
   "name": "python3"
  },
  "language_info": {
   "codemirror_mode": {
    "name": "ipython",
    "version": 3
   },
   "file_extension": ".py",
   "mimetype": "text/x-python",
   "name": "python",
   "nbconvert_exporter": "python",
   "pygments_lexer": "ipython3",
   "version": "3.12.7"
  }
 },
 "nbformat": 4,
 "nbformat_minor": 5
}
